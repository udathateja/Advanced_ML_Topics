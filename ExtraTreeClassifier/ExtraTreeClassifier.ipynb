{
 "cells": [
  {
   "cell_type": "markdown",
   "metadata": {},
   "source": [
    "## ExtraTreesClassifier"
   ]
  },
  {
   "cell_type": "markdown",
   "metadata": {},
   "source": [
    "ExtraTreesClassifier is an ensemble learning method fundamentally based on decision trees. ExtraTreesClassifier, like RandomForest, randomizes certain decisions and subsets of data to minimize over-learning from the data and overfitting.\n",
    "\n",
    "**Decision Tree (High Variance)**\n",
    "\n",
    "A single decision tree is usually overfits the data it is learning from because it learn from only one pathway of decisions. Predictions from a single decision tree usually don’t make accurate predictions on new data.\n",
    "\n",
    "**Random Forest (Medium Variance)**\n",
    "\n",
    "Random forest models reduce the risk of overfitting by introducing randomness by:\n",
    "\n",
    "1.  Building multiple trees (n_estimators)\n",
    "2. **Drawing observations with replacement (i.e., a bootstrapped sample)**\n",
    "3.  **Splitting nodes on the best split among a random subset of the features selected at every node.**\n",
    "\n",
    "**Extra Trees (Low Variance)**\n",
    "\n",
    "Extra Trees is like Random Forest, in that it builds multiple trees and **splits nodes using random subsets of features**, but with two key differences ,it does not bootstrap observations (meaning it samples without replacement) and Nodes are split on random splits, not best splits. \n",
    "In summary, ExtraTrees:\n",
    "1.  Builds multiple trees with bootstrap = False by default, which means it samples without replacement.\n",
    "2.  Nodes are split based on random splits among a random subset of the features selected at every node\n",
    "3.  When choosing variables at a split, samples are drawn from the entire training set instead of a bootstrap sample of  the training set.\n",
    "4.  Unlike bagging and random forest that develop each decision tree from a bootstrap sample of the training dataset, the Extra Trees algorithm fits each decision tree on the whole training dataset.\n",
    "5.  Predictions are made by averaging the prediction of the decision trees in the case of regression or using majority voting in the case of classification.\n",
    "6.  Like random forest, the Extra Trees algorithm randomly sample the features at each split point of a decision tree. Unlike random forest, which uses a greedy algorithm to select an optimal split point, the Extra Trees algorithm selects a split point at random.\n",
    "7.  There are three main hyperparameters to tune in the algorithm; they are the number of decision trees in the ensemble, the number of input features to randomly select and consider for each split point, and the minimum number of samples required in a node to create a new split point.\n",
    "8.  \n",
    "\n",
    "In Extra Trees, randomness doesn’t come from bootstrapping of data, but rather comes from the random splits of all observations. ExtraTrees is named for (Extremely Randomized Trees).\n",
    "\n",
    "**Random Forest implementation in scikit-learn makes it possible to enable or disable the bootstrap resampling.**\n",
    "\n",
    "**In practice, RFs are often more compact than ETs.** ETs are generally cheaper to train from a computational point of view but can grow much bigger. ETs can sometime generalize better than RFs but it's hard to guess when it's the case without trying both first (and tuning n_estimators, max_features and min_samples_split by cross-validated grid search).\n",
    "\n",
    "\n",
    "ExtraTrees classifier always tests random splits over fraction of features (in contrast to RandomForest, which tests all possible splits over fraction of features)\n",
    "https://scikit-learn.org/stable/modules/generated/sklearn.ensemble.ExtraTreesClassifier.html"
   ]
  },
  {
   "cell_type": "markdown",
   "metadata": {},
   "source": [
    "**Lets make_classification() function to create a synthetic binary classification problem with 1,000 examples and 20 input features.**"
   ]
  },
  {
   "cell_type": "code",
   "execution_count": 1,
   "metadata": {},
   "outputs": [],
   "source": [
    "import numpy as np\n",
    "from sklearn.model_selection import cross_val_score,RepeatedStratifiedKFold,train_test_split,GridSearchCV\n",
    "from sklearn.ensemble import ExtraTreesClassifier\n",
    "from sklearn import metrics\n",
    "import pandas as pd\n",
    "import matplotlib.pyplot as plt\n",
    "import seaborn as sns\n",
    "%matplotlib inline"
   ]
  },
  {
   "cell_type": "code",
   "execution_count": 2,
   "metadata": {},
   "outputs": [],
   "source": [
    "## I downloaded both files and store at my Github profile.\n",
    "df_nba = pd.read_csv(\"https://raw.githubusercontent.com/atulpatelDS/Data_Files/master/NBA_rookie/NBA_rookie.csv\")"
   ]
  },
  {
   "cell_type": "markdown",
   "metadata": {},
   "source": [
    "Dataset for practicing classification -use NBA rookie stats to predict if player will last 5 years in league\n",
    "\n",
    "Classification Exercise: Predict 5-Year Career Longevity for NBA Rookies\n",
    "\n",
    "y = 0 if career years played < 5\n",
    "\n",
    "y = 1 if career years played >= 5"
   ]
  },
  {
   "cell_type": "markdown",
   "metadata": {},
   "source": [
    "<img src=\"https://raw.githubusercontent.com/atulpatelDS/Machine_Learning/master/Images/NBA_Column_Description.png\" width=\"340\" height=\"240\" align=\"left\"/>"
   ]
  },
  {
   "cell_type": "code",
   "execution_count": 3,
   "metadata": {},
   "outputs": [
    {
     "name": "stdout",
     "output_type": "stream",
     "text": [
      "(1340, 21)\n",
      "<class 'pandas.core.frame.DataFrame'>\n"
     ]
    }
   ],
   "source": [
    "print(df_nba.shape)\n",
    "print(type(df_nba))"
   ]
  },
  {
   "cell_type": "code",
   "execution_count": 4,
   "metadata": {},
   "outputs": [
    {
     "data": {
      "text/html": [
       "<div>\n",
       "<style scoped>\n",
       "    .dataframe tbody tr th:only-of-type {\n",
       "        vertical-align: middle;\n",
       "    }\n",
       "\n",
       "    .dataframe tbody tr th {\n",
       "        vertical-align: top;\n",
       "    }\n",
       "\n",
       "    .dataframe thead th {\n",
       "        text-align: right;\n",
       "    }\n",
       "</style>\n",
       "<table border=\"1\" class=\"dataframe\">\n",
       "  <thead>\n",
       "    <tr style=\"text-align: right;\">\n",
       "      <th></th>\n",
       "      <th>Name</th>\n",
       "      <th>GP</th>\n",
       "      <th>MIN</th>\n",
       "      <th>PTS</th>\n",
       "      <th>FGM</th>\n",
       "      <th>FGA</th>\n",
       "      <th>FG%</th>\n",
       "      <th>3P Made</th>\n",
       "      <th>3PA</th>\n",
       "      <th>3P%</th>\n",
       "      <th>...</th>\n",
       "      <th>FTA</th>\n",
       "      <th>FT%</th>\n",
       "      <th>OREB</th>\n",
       "      <th>DREB</th>\n",
       "      <th>REB</th>\n",
       "      <th>AST</th>\n",
       "      <th>STL</th>\n",
       "      <th>BLK</th>\n",
       "      <th>TOV</th>\n",
       "      <th>TARGET_5Yrs</th>\n",
       "    </tr>\n",
       "  </thead>\n",
       "  <tbody>\n",
       "    <tr>\n",
       "      <th>0</th>\n",
       "      <td>Brandon Ingram</td>\n",
       "      <td>36</td>\n",
       "      <td>27.4</td>\n",
       "      <td>7.4</td>\n",
       "      <td>2.6</td>\n",
       "      <td>7.6</td>\n",
       "      <td>34.7</td>\n",
       "      <td>0.5</td>\n",
       "      <td>2.1</td>\n",
       "      <td>25.0</td>\n",
       "      <td>...</td>\n",
       "      <td>2.3</td>\n",
       "      <td>69.9</td>\n",
       "      <td>0.7</td>\n",
       "      <td>3.4</td>\n",
       "      <td>4.1</td>\n",
       "      <td>1.9</td>\n",
       "      <td>0.4</td>\n",
       "      <td>0.4</td>\n",
       "      <td>1.3</td>\n",
       "      <td>0.0</td>\n",
       "    </tr>\n",
       "    <tr>\n",
       "      <th>1</th>\n",
       "      <td>Andrew Harrison</td>\n",
       "      <td>35</td>\n",
       "      <td>26.9</td>\n",
       "      <td>7.2</td>\n",
       "      <td>2.0</td>\n",
       "      <td>6.7</td>\n",
       "      <td>29.6</td>\n",
       "      <td>0.7</td>\n",
       "      <td>2.8</td>\n",
       "      <td>23.5</td>\n",
       "      <td>...</td>\n",
       "      <td>3.4</td>\n",
       "      <td>76.5</td>\n",
       "      <td>0.5</td>\n",
       "      <td>2.0</td>\n",
       "      <td>2.4</td>\n",
       "      <td>3.7</td>\n",
       "      <td>1.1</td>\n",
       "      <td>0.5</td>\n",
       "      <td>1.6</td>\n",
       "      <td>0.0</td>\n",
       "    </tr>\n",
       "    <tr>\n",
       "      <th>2</th>\n",
       "      <td>JaKarr Sampson</td>\n",
       "      <td>74</td>\n",
       "      <td>15.3</td>\n",
       "      <td>5.2</td>\n",
       "      <td>2.0</td>\n",
       "      <td>4.7</td>\n",
       "      <td>42.2</td>\n",
       "      <td>0.4</td>\n",
       "      <td>1.7</td>\n",
       "      <td>24.4</td>\n",
       "      <td>...</td>\n",
       "      <td>1.3</td>\n",
       "      <td>67.0</td>\n",
       "      <td>0.5</td>\n",
       "      <td>1.7</td>\n",
       "      <td>2.2</td>\n",
       "      <td>1.0</td>\n",
       "      <td>0.5</td>\n",
       "      <td>0.3</td>\n",
       "      <td>1.0</td>\n",
       "      <td>0.0</td>\n",
       "    </tr>\n",
       "    <tr>\n",
       "      <th>3</th>\n",
       "      <td>Malik Sealy</td>\n",
       "      <td>58</td>\n",
       "      <td>11.6</td>\n",
       "      <td>5.7</td>\n",
       "      <td>2.3</td>\n",
       "      <td>5.5</td>\n",
       "      <td>42.6</td>\n",
       "      <td>0.1</td>\n",
       "      <td>0.5</td>\n",
       "      <td>22.6</td>\n",
       "      <td>...</td>\n",
       "      <td>1.3</td>\n",
       "      <td>68.9</td>\n",
       "      <td>1.0</td>\n",
       "      <td>0.9</td>\n",
       "      <td>1.9</td>\n",
       "      <td>0.8</td>\n",
       "      <td>0.6</td>\n",
       "      <td>0.1</td>\n",
       "      <td>1.0</td>\n",
       "      <td>1.0</td>\n",
       "    </tr>\n",
       "    <tr>\n",
       "      <th>4</th>\n",
       "      <td>Matt Geiger</td>\n",
       "      <td>48</td>\n",
       "      <td>11.5</td>\n",
       "      <td>4.5</td>\n",
       "      <td>1.6</td>\n",
       "      <td>3.0</td>\n",
       "      <td>52.4</td>\n",
       "      <td>0.0</td>\n",
       "      <td>0.1</td>\n",
       "      <td>0.0</td>\n",
       "      <td>...</td>\n",
       "      <td>1.9</td>\n",
       "      <td>67.4</td>\n",
       "      <td>1.0</td>\n",
       "      <td>1.5</td>\n",
       "      <td>2.5</td>\n",
       "      <td>0.3</td>\n",
       "      <td>0.3</td>\n",
       "      <td>0.4</td>\n",
       "      <td>0.8</td>\n",
       "      <td>1.0</td>\n",
       "    </tr>\n",
       "  </tbody>\n",
       "</table>\n",
       "<p>5 rows × 21 columns</p>\n",
       "</div>"
      ],
      "text/plain": [
       "              Name  GP   MIN  PTS  FGM  FGA   FG%  3P Made  3PA   3P%  ...  \\\n",
       "0   Brandon Ingram  36  27.4  7.4  2.6  7.6  34.7      0.5  2.1  25.0  ...   \n",
       "1  Andrew Harrison  35  26.9  7.2  2.0  6.7  29.6      0.7  2.8  23.5  ...   \n",
       "2   JaKarr Sampson  74  15.3  5.2  2.0  4.7  42.2      0.4  1.7  24.4  ...   \n",
       "3      Malik Sealy  58  11.6  5.7  2.3  5.5  42.6      0.1  0.5  22.6  ...   \n",
       "4      Matt Geiger  48  11.5  4.5  1.6  3.0  52.4      0.0  0.1   0.0  ...   \n",
       "\n",
       "   FTA   FT%  OREB  DREB  REB  AST  STL  BLK  TOV  TARGET_5Yrs  \n",
       "0  2.3  69.9   0.7   3.4  4.1  1.9  0.4  0.4  1.3          0.0  \n",
       "1  3.4  76.5   0.5   2.0  2.4  3.7  1.1  0.5  1.6          0.0  \n",
       "2  1.3  67.0   0.5   1.7  2.2  1.0  0.5  0.3  1.0          0.0  \n",
       "3  1.3  68.9   1.0   0.9  1.9  0.8  0.6  0.1  1.0          1.0  \n",
       "4  1.9  67.4   1.0   1.5  2.5  0.3  0.3  0.4  0.8          1.0  \n",
       "\n",
       "[5 rows x 21 columns]"
      ]
     },
     "execution_count": 4,
     "metadata": {},
     "output_type": "execute_result"
    }
   ],
   "source": [
    "df_nba.head()"
   ]
  },
  {
   "cell_type": "code",
   "execution_count": 5,
   "metadata": {},
   "outputs": [],
   "source": [
    "## Check the intial data type, null value and unique counts\n",
    "def initial_dataset_check(df):\n",
    "    \"\"\"\n",
    "    A function to make initial check for the dataset including the name, data type, \n",
    "    number of null values and number of unique varialbes for each feature.\n",
    "    \"\"\"\n",
    "    columns = df.columns    \n",
    "    lst = []\n",
    "    for feature in columns : \n",
    "        dtype = df[feature].dtypes\n",
    "        num_null = df[feature].isnull().sum()\n",
    "        num_unique = df[feature].nunique()\n",
    "        lst.append([feature, dtype, num_null, num_unique])\n",
    "    \n",
    "    check_df = pd.DataFrame(lst)\n",
    "    check_df.columns = ['feature','dtype','num_null','num_unique']\n",
    "    check_df = check_df.sort_values(by='dtype', axis=0, ascending=True)\n",
    "    \n",
    "    return check_df"
   ]
  },
  {
   "cell_type": "code",
   "execution_count": 6,
   "metadata": {},
   "outputs": [
    {
     "data": {
      "text/html": [
       "<div>\n",
       "<style scoped>\n",
       "    .dataframe tbody tr th:only-of-type {\n",
       "        vertical-align: middle;\n",
       "    }\n",
       "\n",
       "    .dataframe tbody tr th {\n",
       "        vertical-align: top;\n",
       "    }\n",
       "\n",
       "    .dataframe thead th {\n",
       "        text-align: right;\n",
       "    }\n",
       "</style>\n",
       "<table border=\"1\" class=\"dataframe\">\n",
       "  <thead>\n",
       "    <tr style=\"text-align: right;\">\n",
       "      <th></th>\n",
       "      <th>feature</th>\n",
       "      <th>dtype</th>\n",
       "      <th>num_null</th>\n",
       "      <th>num_unique</th>\n",
       "    </tr>\n",
       "  </thead>\n",
       "  <tbody>\n",
       "    <tr>\n",
       "      <th>1</th>\n",
       "      <td>GP</td>\n",
       "      <td>int64</td>\n",
       "      <td>0</td>\n",
       "      <td>70</td>\n",
       "    </tr>\n",
       "    <tr>\n",
       "      <th>10</th>\n",
       "      <td>FTM</td>\n",
       "      <td>float64</td>\n",
       "      <td>0</td>\n",
       "      <td>59</td>\n",
       "    </tr>\n",
       "    <tr>\n",
       "      <th>18</th>\n",
       "      <td>BLK</td>\n",
       "      <td>float64</td>\n",
       "      <td>0</td>\n",
       "      <td>28</td>\n",
       "    </tr>\n",
       "    <tr>\n",
       "      <th>17</th>\n",
       "      <td>STL</td>\n",
       "      <td>float64</td>\n",
       "      <td>0</td>\n",
       "      <td>26</td>\n",
       "    </tr>\n",
       "    <tr>\n",
       "      <th>16</th>\n",
       "      <td>AST</td>\n",
       "      <td>float64</td>\n",
       "      <td>0</td>\n",
       "      <td>77</td>\n",
       "    </tr>\n",
       "    <tr>\n",
       "      <th>15</th>\n",
       "      <td>REB</td>\n",
       "      <td>float64</td>\n",
       "      <td>0</td>\n",
       "      <td>101</td>\n",
       "    </tr>\n",
       "    <tr>\n",
       "      <th>14</th>\n",
       "      <td>DREB</td>\n",
       "      <td>float64</td>\n",
       "      <td>0</td>\n",
       "      <td>74</td>\n",
       "    </tr>\n",
       "    <tr>\n",
       "      <th>13</th>\n",
       "      <td>OREB</td>\n",
       "      <td>float64</td>\n",
       "      <td>0</td>\n",
       "      <td>44</td>\n",
       "    </tr>\n",
       "    <tr>\n",
       "      <th>12</th>\n",
       "      <td>FT%</td>\n",
       "      <td>float64</td>\n",
       "      <td>0</td>\n",
       "      <td>383</td>\n",
       "    </tr>\n",
       "    <tr>\n",
       "      <th>11</th>\n",
       "      <td>FTA</td>\n",
       "      <td>float64</td>\n",
       "      <td>0</td>\n",
       "      <td>76</td>\n",
       "    </tr>\n",
       "    <tr>\n",
       "      <th>20</th>\n",
       "      <td>TARGET_5Yrs</td>\n",
       "      <td>float64</td>\n",
       "      <td>0</td>\n",
       "      <td>2</td>\n",
       "    </tr>\n",
       "    <tr>\n",
       "      <th>9</th>\n",
       "      <td>3P%</td>\n",
       "      <td>float64</td>\n",
       "      <td>11</td>\n",
       "      <td>254</td>\n",
       "    </tr>\n",
       "    <tr>\n",
       "      <th>8</th>\n",
       "      <td>3PA</td>\n",
       "      <td>float64</td>\n",
       "      <td>0</td>\n",
       "      <td>54</td>\n",
       "    </tr>\n",
       "    <tr>\n",
       "      <th>7</th>\n",
       "      <td>3P Made</td>\n",
       "      <td>float64</td>\n",
       "      <td>0</td>\n",
       "      <td>23</td>\n",
       "    </tr>\n",
       "    <tr>\n",
       "      <th>6</th>\n",
       "      <td>FG%</td>\n",
       "      <td>float64</td>\n",
       "      <td>0</td>\n",
       "      <td>284</td>\n",
       "    </tr>\n",
       "    <tr>\n",
       "      <th>5</th>\n",
       "      <td>FGA</td>\n",
       "      <td>float64</td>\n",
       "      <td>0</td>\n",
       "      <td>159</td>\n",
       "    </tr>\n",
       "    <tr>\n",
       "      <th>4</th>\n",
       "      <td>FGM</td>\n",
       "      <td>float64</td>\n",
       "      <td>0</td>\n",
       "      <td>87</td>\n",
       "    </tr>\n",
       "    <tr>\n",
       "      <th>3</th>\n",
       "      <td>PTS</td>\n",
       "      <td>float64</td>\n",
       "      <td>0</td>\n",
       "      <td>191</td>\n",
       "    </tr>\n",
       "    <tr>\n",
       "      <th>2</th>\n",
       "      <td>MIN</td>\n",
       "      <td>float64</td>\n",
       "      <td>0</td>\n",
       "      <td>325</td>\n",
       "    </tr>\n",
       "    <tr>\n",
       "      <th>19</th>\n",
       "      <td>TOV</td>\n",
       "      <td>float64</td>\n",
       "      <td>0</td>\n",
       "      <td>41</td>\n",
       "    </tr>\n",
       "    <tr>\n",
       "      <th>0</th>\n",
       "      <td>Name</td>\n",
       "      <td>object</td>\n",
       "      <td>0</td>\n",
       "      <td>1294</td>\n",
       "    </tr>\n",
       "  </tbody>\n",
       "</table>\n",
       "</div>"
      ],
      "text/plain": [
       "        feature    dtype  num_null  num_unique\n",
       "1            GP    int64         0          70\n",
       "10          FTM  float64         0          59\n",
       "18          BLK  float64         0          28\n",
       "17          STL  float64         0          26\n",
       "16          AST  float64         0          77\n",
       "15          REB  float64         0         101\n",
       "14         DREB  float64         0          74\n",
       "13         OREB  float64         0          44\n",
       "12          FT%  float64         0         383\n",
       "11          FTA  float64         0          76\n",
       "20  TARGET_5Yrs  float64         0           2\n",
       "9           3P%  float64        11         254\n",
       "8           3PA  float64         0          54\n",
       "7       3P Made  float64         0          23\n",
       "6           FG%  float64         0         284\n",
       "5           FGA  float64         0         159\n",
       "4           FGM  float64         0          87\n",
       "3           PTS  float64         0         191\n",
       "2           MIN  float64         0         325\n",
       "19          TOV  float64         0          41\n",
       "0          Name   object         0        1294"
      ]
     },
     "execution_count": 6,
     "metadata": {},
     "output_type": "execute_result"
    }
   ],
   "source": [
    "initial_dataset_check(df_nba)"
   ]
  },
  {
   "cell_type": "code",
   "execution_count": 7,
   "metadata": {},
   "outputs": [
    {
     "data": {
      "text/plain": [
       "11"
      ]
     },
     "execution_count": 7,
     "metadata": {},
     "output_type": "execute_result"
    }
   ],
   "source": [
    "df_nba[\"3P%\"].isnull().sum()"
   ]
  },
  {
   "cell_type": "code",
   "execution_count": 8,
   "metadata": {},
   "outputs": [],
   "source": [
    "## Lets replace null value with mean\n",
    "df_nba[\"3P%\"] = df_nba[\"3P%\"].fillna(value = df_nba[\"3P%\"].mean())"
   ]
  },
  {
   "cell_type": "code",
   "execution_count": 9,
   "metadata": {},
   "outputs": [
    {
     "data": {
      "text/plain": [
       "0"
      ]
     },
     "execution_count": 9,
     "metadata": {},
     "output_type": "execute_result"
    }
   ],
   "source": [
    "df_nba[\"3P%\"].isnull().sum()"
   ]
  },
  {
   "cell_type": "code",
   "execution_count": 10,
   "metadata": {},
   "outputs": [],
   "source": [
    "X = df_nba.iloc[:,1:-1] ### Name need to remove which is distinct value\n",
    "y = df_nba.TARGET_5Yrs"
   ]
  },
  {
   "cell_type": "code",
   "execution_count": 11,
   "metadata": {
    "scrolled": true
   },
   "outputs": [
    {
     "name": "stdout",
     "output_type": "stream",
     "text": [
      "(1340, 19)\n",
      "(1340,)\n",
      "<class 'pandas.core.frame.DataFrame'>\n",
      "<class 'pandas.core.series.Series'>\n"
     ]
    }
   ],
   "source": [
    "print(X.shape)\n",
    "print(y.shape)\n",
    "print(type(X))\n",
    "print(type(y))"
   ]
  },
  {
   "cell_type": "code",
   "execution_count": 12,
   "metadata": {},
   "outputs": [],
   "source": [
    "## Now split the test train\n",
    "X_train,X_test,y_train,y_test = train_test_split(X,y,test_size = 0.2,random_state = 42)"
   ]
  },
  {
   "cell_type": "code",
   "execution_count": 13,
   "metadata": {},
   "outputs": [
    {
     "name": "stdout",
     "output_type": "stream",
     "text": [
      "(1072, 19)\n",
      "(1072,)\n",
      "(268, 19)\n",
      "(268,)\n"
     ]
    }
   ],
   "source": [
    "print(X_train.shape)\n",
    "print(y_train.shape)\n",
    "print(X_test.shape)\n",
    "print(y_test.shape)"
   ]
  },
  {
   "cell_type": "code",
   "execution_count": 14,
   "metadata": {},
   "outputs": [
    {
     "name": "stdout",
     "output_type": "stream",
     "text": [
      "Wall time: 3.37 s\n",
      "Model Accuracy: 0.676 (0.033)\n"
     ]
    }
   ],
   "source": [
    "## Define the model\n",
    "extree_clf = ExtraTreesClassifier()\n",
    "## Evaluate the model using CV\n",
    "cv = RepeatedStratifiedKFold(n_splits=10, n_repeats=3, random_state=1)\n",
    "%time model_score = cross_val_score(extree_clf,X_train,y_train,scoring=\"accuracy\",cv = cv , n_jobs=8,error_score=\"raise\")\n",
    "print('Model Accuracy: %.3f (%.3f)' % (np.mean(model_score), np.std(model_score)))"
   ]
  },
  {
   "cell_type": "markdown",
   "metadata": {},
   "source": [
    "We can also use the Extra Trees model as a final model and make predictions for classification."
   ]
  },
  {
   "cell_type": "code",
   "execution_count": 15,
   "metadata": {},
   "outputs": [
    {
     "data": {
      "text/plain": [
       "ExtraTreesClassifier(bootstrap=False, ccp_alpha=0.0, class_weight=None,\n",
       "                     criterion='gini', max_depth=None, max_features='auto',\n",
       "                     max_leaf_nodes=None, max_samples=None,\n",
       "                     min_impurity_decrease=0.0, min_impurity_split=None,\n",
       "                     min_samples_leaf=1, min_samples_split=2,\n",
       "                     min_weight_fraction_leaf=0.0, n_estimators=100,\n",
       "                     n_jobs=None, oob_score=False, random_state=None, verbose=0,\n",
       "                     warm_start=False)"
      ]
     },
     "execution_count": 15,
     "metadata": {},
     "output_type": "execute_result"
    }
   ],
   "source": [
    "extree_clf.fit(X_train,y_train)"
   ]
  },
  {
   "cell_type": "code",
   "execution_count": 16,
   "metadata": {},
   "outputs": [
    {
     "name": "stdout",
     "output_type": "stream",
     "text": [
      "Model Accuracy : 0.7052238805970149\n"
     ]
    }
   ],
   "source": [
    "## Now Evalauate the Model\n",
    "y_pred = extree_clf.predict(X_test)\n",
    "print(\"Model Accuracy : {}\".format(metrics.accuracy_score(y_test,y_pred)))"
   ]
  },
  {
   "cell_type": "markdown",
   "metadata": {},
   "source": [
    "#### Extra Trees Hyperparameters"
   ]
  },
  {
   "cell_type": "markdown",
   "metadata": {},
   "source": [
    "An important hyperparameter for Extra Trees algorithm is the number of decision trees used in the ensemble.\n",
    "\n",
    "Typically, the number of trees is increased until the model performance stabilizes. Intuition might suggest that more trees will lead to overfitting, although this is not the case. Bagging, Random Forest, and Extra Trees algorithms appear to be somewhat immune to overfitting the training dataset given the stochastic nature of the learning algorithm.\n",
    "\n",
    "The number of trees can be set via the “n_estimators” argument and defaults to 100."
   ]
  },
  {
   "cell_type": "code",
   "execution_count": 17,
   "metadata": {},
   "outputs": [],
   "source": [
    "def modelfit(alg,X_train,y_train,X_test,y_test, X_cols, cv_folds=5):\n",
    "    #Fit the algorithm on the data\n",
    "    #alg.fit(X_train, y_train)\n",
    "        \n",
    "    #Predict training set:\n",
    "    y_train_pred = alg.predict(X_train)\n",
    "    #y_train_predprob = alg.predict_proba(X_train)[:,1]\n",
    "    \n",
    "    #Predict test set:\n",
    "    y_test_pred = alg.predict(X_test)\n",
    "    #y_test_predprob = alg.predict_proba(X_test)[:,1]\n",
    "    \n",
    "    # Print the ROC_AUC on training dataset\n",
    "    false_positive_rate_train, true_positive_rate_train, thresholds_train = metrics.roc_curve(y_train, y_train_pred)\n",
    "    roc_auc_score_train = metrics.roc_auc_score(y_train, y_train_pred)\n",
    "    auc_train = metrics.auc(false_positive_rate_train, true_positive_rate_train)\n",
    "    \n",
    "    \n",
    "\n",
    "    # Print the ROC_AUC on test dataset\n",
    "    false_positive_rate_test, true_positive_rate_test, thresholds_test = metrics.roc_curve(y_test, y_test_pred)\n",
    "    roc_auc_score_test = metrics.roc_auc_score(y_test, y_test_pred)\n",
    "    auc_test = metrics.auc(false_positive_rate_test, true_positive_rate_test)\n",
    "      \n",
    "        \n",
    "    #Print model report:\n",
    "    print(\"\\nBase Model Report with Default Parameters\")\n",
    "    print(\"Accuracy (Train) : %.4g\" % metrics.accuracy_score(y_train, y_train_pred))\n",
    "    print(\"AUC (Train): %f\" % auc_train)\n",
    "    print(\"ROC_AUC_Score (Train): %f\" % roc_auc_score_train)\n",
    "    print(\"Classification Report (Train): {}\\n\".format(metrics.classification_report(y_train,y_train_pred)))\n",
    "    #print(\"ROC_AUC Score (Train): %f\" % metrics.roc_auc_score(y_train, y_train_predprob))\n",
    "    print(\"Accuracy (Test) : %.4g\" % metrics.accuracy_score(y_test, y_test_pred))\n",
    "    print(\"AUC (Test): %f\" % auc_train)\n",
    "    print(\"ROC_AUC_Score (Train): %f\" % roc_auc_score_test)\n",
    "    print(\"Classification Report (Test): {}\\n\".format(metrics.classification_report(y_test,y_test_pred)))\n",
    "    #print(\"ROC_AUC Score (Train): %f\" % metrics.roc_auc_score(y_train, y_train_predprob))\n",
    "            \n",
    "    #Print Feature Importance:\n",
    "    feat_imp = pd.Series(alg.feature_importances_, X_cols).sort_values(ascending=False)\n",
    "    feat_imp.plot(kind='bar', title='Feature Importances')\n",
    "    plt.ylabel('Feature Importance Score')"
   ]
  },
  {
   "cell_type": "code",
   "execution_count": 18,
   "metadata": {},
   "outputs": [],
   "source": [
    "def modelfit_GS(alg,X_train,y_train,X_test,y_test, X_cols):\n",
    "    #Fit the algorithm on the data\n",
    "    #alg.fit(X_train, y_train)\n",
    "        \n",
    "    #Predict training set:\n",
    "    y_train_pred = alg.predict(X_train)\n",
    "    #y_train_predprob = alg.predict_proba(X_train)[:,1]\n",
    "    \n",
    "    #Predict test set:\n",
    "    y_test_pred = alg.predict(X_test)\n",
    "    #y_test_predprob = alg.predict_proba(X_test)[:,1]\n",
    "    \n",
    "    # Print the ROC_AUC on training dataset\n",
    "    false_positive_rate_train, true_positive_rate_train, thresholds_train = metrics.roc_curve(y_train, y_train_pred)\n",
    "    roc_auc_score_train = metrics.roc_auc_score(y_train, y_train_pred)\n",
    "    auc_train = metrics.auc(false_positive_rate_train, true_positive_rate_train)\n",
    "    \n",
    "    \n",
    "\n",
    "    # Print the ROC_AUC on test dataset\n",
    "    false_positive_rate_test, true_positive_rate_test, thresholds_test = metrics.roc_curve(y_test, y_test_pred)\n",
    "    roc_auc_score_test = metrics.roc_auc_score(y_test, y_test_pred)\n",
    "    auc_test = metrics.auc(false_positive_rate_test, true_positive_rate_test)\n",
    "      \n",
    "        \n",
    "    #Print model report:\n",
    "    print(\"\\nBase Model Report with Default Parameters\")\n",
    "    print(\"Accuracy (Train) : %.4g\" % metrics.accuracy_score(y_train, y_train_pred))\n",
    "    print(\"AUC (Train): %f\" % auc_train)\n",
    "    print(\"ROC_AUC_Score (Train): %f\" % roc_auc_score_train)\n",
    "    print(\"Classification Report (Train): {}\\n\".format(metrics.classification_report(y_train,y_train_pred)))\n",
    "    #print(\"ROC_AUC Score (Train): %f\" % metrics.roc_auc_score(y_train, y_train_predprob))\n",
    "    print(\"Accuracy (Test) : %.4g\" % metrics.accuracy_score(y_test, y_test_pred))\n",
    "    print(\"AUC (Test): %f\" % auc_train)\n",
    "    print(\"ROC_AUC_Score (Train): %f\" % roc_auc_score_test)\n",
    "    print(\"Classification Report (Test): {}\\n\".format(metrics.classification_report(y_test,y_test_pred)))\n",
    "    #print(\"ROC_AUC Score (Train): %f\" % metrics.roc_auc_score(y_train, y_train_predprob))\n",
    "    print(\"Best Score using GridSearch : {}\\n\".format(alg.best_score_))\n",
    "    print(\"Best Parameter using GridSearch : {}\\n\".format(alg.best_params_))   \n",
    "    \n",
    "    ## Plot the Grapg with Mean test score \n",
    "    cv_results = pd.DataFrame(alg.cv_results_)\n",
    "    plt.figure(figsize=(15,5))\n",
    "    palette = sns.color_palette(\"Set1\", n_colors=6, desat=.5)\n",
    "    sns.lineplot(data=cv_results,x=cv_results.iloc[:,4],\n",
    "                 y=cv_results.iloc[:,-3]\n",
    "                 #,hue=cv_results[\"param_learning_rate\"]\n",
    "                 ,palette=palette\n",
    "                 #,err_style=\"bars\", ci=58,lw=1,err_kws={'capsize':0.5}\n",
    "                 #,size=cv_results[\"param_learning_rate\"]\n",
    "                 #,sizes=(.25, 2.5)\n",
    "                )"
   ]
  },
  {
   "cell_type": "code",
   "execution_count": 19,
   "metadata": {},
   "outputs": [],
   "source": [
    "def plot_auc_gbm_parameter(param_value,param_name,X_train,y_train):\n",
    "    from sklearn import metrics\n",
    "    train_results = []\n",
    "    test_results = []\n",
    "    for param in param_value:\n",
    "        param_gs = {param_name:param_value}\n",
    "        model = GridSearchCV(estimator=ExtraTreesClassifier(random_state=10),param_grid=param_gs,n_jobs=8)\n",
    "        model.fit(X_train, y_train)\n",
    "        train_pred = model.predict(X_train)\n",
    "        false_positive_rate, true_positive_rate, thresholds = metrics.roc_curve(y_train, train_pred)\n",
    "        roc_auc = metrics.auc(false_positive_rate, true_positive_rate)\n",
    "        train_results.append(roc_auc)\n",
    "        y_pred = model.predict(X_test)\n",
    "        false_positive_rate, true_positive_rate, thresholds = metrics.roc_curve(y_test, y_pred)\n",
    "        roc_auc = metrics.auc(false_positive_rate, true_positive_rate)\n",
    "        test_results.append(roc_auc)\n",
    "    from matplotlib.legend_handler import HandlerLine2D\n",
    "    line1, = plt.plot(param_value, train_results, color = 'green',label = \"Train AUC\") \n",
    "    line2, = plt.plot(param_value, test_results,color = 'red' ,label = \"Test AUC\") \n",
    "    plt.legend(handler_map={line1: HandlerLine2D(numpoints=2)})\n",
    "    plt.ylabel(\"AUC score\")\n",
    "    plt.xlabel(param_name)\n",
    "    plt.show()"
   ]
  },
  {
   "cell_type": "code",
   "execution_count": 20,
   "metadata": {},
   "outputs": [
    {
     "data": {
      "text/plain": [
       "['GP',\n",
       " 'MIN',\n",
       " 'PTS',\n",
       " 'FGM',\n",
       " 'FGA',\n",
       " 'FG%',\n",
       " '3P Made',\n",
       " '3PA',\n",
       " '3P%',\n",
       " 'FTM',\n",
       " 'FTA',\n",
       " 'FT%',\n",
       " 'OREB',\n",
       " 'DREB',\n",
       " 'REB',\n",
       " 'AST',\n",
       " 'STL',\n",
       " 'BLK',\n",
       " 'TOV']"
      ]
     },
     "execution_count": 20,
     "metadata": {},
     "output_type": "execute_result"
    }
   ],
   "source": [
    "X_cols = [x for x in X_train.columns]\n",
    "X_cols"
   ]
  },
  {
   "cell_type": "code",
   "execution_count": 21,
   "metadata": {},
   "outputs": [
    {
     "name": "stdout",
     "output_type": "stream",
     "text": [
      "\n",
      "Base Model Report with Default Parameters\n",
      "Accuracy (Train) : 0.9841\n",
      "AUC (Train): 0.986696\n",
      "ROC_AUC_Score (Train): 0.986696\n",
      "Classification Report (Train):               precision    recall  f1-score   support\n",
      "\n",
      "         0.0       0.96      1.00      0.98       410\n",
      "         1.0       1.00      0.98      0.99       662\n",
      "\n",
      "    accuracy                           0.98      1072\n",
      "   macro avg       0.98      0.99      0.98      1072\n",
      "weighted avg       0.98      0.98      0.98      1072\n",
      "\n",
      "\n",
      "Accuracy (Test) : 0.7052\n",
      "AUC (Test): 0.986696\n",
      "ROC_AUC_Score (Train): 0.659584\n",
      "Classification Report (Test):               precision    recall  f1-score   support\n",
      "\n",
      "         0.0       0.63      0.48      0.55        99\n",
      "         1.0       0.73      0.83      0.78       169\n",
      "\n",
      "    accuracy                           0.71       268\n",
      "   macro avg       0.68      0.66      0.66       268\n",
      "weighted avg       0.70      0.71      0.70       268\n",
      "\n",
      "\n"
     ]
    },
    {
     "data": {
      "image/png": "[encoded data removed]",
      "text/plain": [
       "<Figure size 432x288 with 1 Axes>"
      ]
     },
     "metadata": {
      "needs_background": "light"
     },
     "output_type": "display_data"
    }
   ],
   "source": [
    "modelfit(extree_clf,X_train,y_train,X_test,y_test, X_cols)"
   ]
  },
  {
   "cell_type": "code",
   "execution_count": 22,
   "metadata": {},
   "outputs": [],
   "source": [
    "## Tune the no. of Tree\n",
    "predictors = X_cols\n",
    "param_value1 = range(10,300,20)\n",
    "param_name1 = \"n_estimators\"\n",
    "param_test1 = {\"n_estimators\":range(10,300,20)}\n",
    "gs_extratree_clf1 = GridSearchCV(estimator = ExtraTreesClassifier(random_state=10),param_grid = param_test1,\n",
    "                       scoring='roc_auc',cv=5,n_jobs=8)"
   ]
  },
  {
   "cell_type": "code",
   "execution_count": 23,
   "metadata": {},
   "outputs": [
    {
     "name": "stdout",
     "output_type": "stream",
     "text": [
      "Wall time: 5.45 s\n"
     ]
    },
    {
     "data": {
      "text/plain": [
       "GridSearchCV(cv=5, error_score=nan,\n",
       "             estimator=ExtraTreesClassifier(bootstrap=False, ccp_alpha=0.0,\n",
       "                                            class_weight=None, criterion='gini',\n",
       "                                            max_depth=None, max_features='auto',\n",
       "                                            max_leaf_nodes=None,\n",
       "                                            max_samples=None,\n",
       "                                            min_impurity_decrease=0.0,\n",
       "                                            min_impurity_split=None,\n",
       "                                            min_samples_leaf=1,\n",
       "                                            min_samples_split=2,\n",
       "                                            min_weight_fraction_leaf=0.0,\n",
       "                                            n_estimators=100, n_jobs=None,\n",
       "                                            oob_score=False, random_state=10,\n",
       "                                            verbose=0, warm_start=False),\n",
       "             iid='deprecated', n_jobs=8,\n",
       "             param_grid={'n_estimators': range(10, 300, 20)},\n",
       "             pre_dispatch='2*n_jobs', refit=True, return_train_score=False,\n",
       "             scoring='roc_auc', verbose=0)"
      ]
     },
     "execution_count": 23,
     "metadata": {},
     "output_type": "execute_result"
    }
   ],
   "source": [
    "%time gs_extratree_clf1.fit(X_train,y_train)"
   ]
  },
  {
   "cell_type": "code",
   "execution_count": 24,
   "metadata": {},
   "outputs": [
    {
     "name": "stdout",
     "output_type": "stream",
     "text": [
      "\n",
      "Base Model Report with Default Parameters\n",
      "Accuracy (Train) : 0.9841\n",
      "AUC (Train): 0.986696\n",
      "ROC_AUC_Score (Train): 0.986696\n",
      "Classification Report (Train):               precision    recall  f1-score   support\n",
      "\n",
      "         0.0       0.96      1.00      0.98       410\n",
      "         1.0       1.00      0.98      0.99       662\n",
      "\n",
      "    accuracy                           0.98      1072\n",
      "   macro avg       0.98      0.99      0.98      1072\n",
      "weighted avg       0.98      0.98      0.98      1072\n",
      "\n",
      "\n",
      "Accuracy (Test) : 0.7015\n",
      "AUC (Test): 0.986696\n",
      "ROC_AUC_Score (Train): 0.660809\n",
      "Classification Report (Test):               precision    recall  f1-score   support\n",
      "\n",
      "         0.0       0.62      0.51      0.56        99\n",
      "         1.0       0.74      0.82      0.78       169\n",
      "\n",
      "    accuracy                           0.70       268\n",
      "   macro avg       0.68      0.66      0.67       268\n",
      "weighted avg       0.69      0.70      0.69       268\n",
      "\n",
      "\n",
      "Best Score using GridSearch : 0.7152078505576579\n",
      "\n",
      "Best Parameter using GridSearch : {'n_estimators': 190}\n",
      "\n"
     ]
    },
    {
     "data": {
      "image/png": "[encoded data removed]",
      "text/plain": [
       "<Figure size 1080x360 with 1 Axes>"
      ]
     },
     "metadata": {
      "needs_background": "light"
     },
     "output_type": "display_data"
    }
   ],
   "source": [
    "modelfit_GS(gs_extratree_clf1,X_train,y_train,X_test,y_test, X_cols)"
   ]
  },
  {
   "cell_type": "code",
   "execution_count": 25,
   "metadata": {},
   "outputs": [
    {
     "data": {
      "image/png": "[encoded data removed]",
      "text/plain": [
       "<Figure size 432x288 with 1 Axes>"
      ]
     },
     "metadata": {
      "needs_background": "light"
     },
     "output_type": "display_data"
    },
    {
     "name": "stdout",
     "output_type": "stream",
     "text": [
      "Wall time: 1min 33s\n"
     ]
    }
   ],
   "source": [
    "%time plot_auc_gbm_parameter(param_value1,param_name1,X_train,y_train)"
   ]
  },
  {
   "cell_type": "code",
   "execution_count": 26,
   "metadata": {},
   "outputs": [],
   "source": [
    "## Tune the \"min_samples_split\":range(2, 15)\n",
    "param_value2 = range(2,20,2)\n",
    "param_name2 = \"min_samples_split\"\n",
    "param_test2 = {\"min_samples_split\":range(2,20,2)}\n",
    "gs_extratree_clf2 = GridSearchCV(estimator = ExtraTreesClassifier(random_state=10,n_estimators=190),param_grid = param_test2,\n",
    "                       scoring='roc_auc',cv=5,n_jobs=8)"
   ]
  },
  {
   "cell_type": "code",
   "execution_count": 27,
   "metadata": {},
   "outputs": [
    {
     "name": "stdout",
     "output_type": "stream",
     "text": [
      "Wall time: 4.24 s\n"
     ]
    },
    {
     "data": {
      "text/plain": [
       "GridSearchCV(cv=5, error_score=nan,\n",
       "             estimator=ExtraTreesClassifier(bootstrap=False, ccp_alpha=0.0,\n",
       "                                            class_weight=None, criterion='gini',\n",
       "                                            max_depth=None, max_features='auto',\n",
       "                                            max_leaf_nodes=None,\n",
       "                                            max_samples=None,\n",
       "                                            min_impurity_decrease=0.0,\n",
       "                                            min_impurity_split=None,\n",
       "                                            min_samples_leaf=1,\n",
       "                                            min_samples_split=2,\n",
       "                                            min_weight_fraction_leaf=0.0,\n",
       "                                            n_estimators=190, n_jobs=None,\n",
       "                                            oob_score=False, random_state=10,\n",
       "                                            verbose=0, warm_start=False),\n",
       "             iid='deprecated', n_jobs=8,\n",
       "             param_grid={'min_samples_split': range(2, 20, 2)},\n",
       "             pre_dispatch='2*n_jobs', refit=True, return_train_score=False,\n",
       "             scoring='roc_auc', verbose=0)"
      ]
     },
     "execution_count": 27,
     "metadata": {},
     "output_type": "execute_result"
    }
   ],
   "source": [
    "%time gs_extratree_clf2.fit(X_train,y_train)"
   ]
  },
  {
   "cell_type": "code",
   "execution_count": 28,
   "metadata": {},
   "outputs": [
    {
     "name": "stdout",
     "output_type": "stream",
     "text": [
      "\n",
      "Base Model Report with Default Parameters\n",
      "Accuracy (Train) : 0.9049\n",
      "AUC (Train): 0.883037\n",
      "ROC_AUC_Score (Train): 0.883037\n",
      "Classification Report (Train):               precision    recall  f1-score   support\n",
      "\n",
      "         0.0       0.95      0.79      0.86       410\n",
      "         1.0       0.88      0.98      0.93       662\n",
      "\n",
      "    accuracy                           0.90      1072\n",
      "   macro avg       0.92      0.88      0.90      1072\n",
      "weighted avg       0.91      0.90      0.90      1072\n",
      "\n",
      "\n",
      "Accuracy (Test) : 0.7201\n",
      "AUC (Test): 0.883037\n",
      "ROC_AUC_Score (Train): 0.677694\n",
      "Classification Report (Test):               precision    recall  f1-score   support\n",
      "\n",
      "         0.0       0.65      0.52      0.58        99\n",
      "         1.0       0.75      0.84      0.79       169\n",
      "\n",
      "    accuracy                           0.72       268\n",
      "   macro avg       0.70      0.68      0.68       268\n",
      "weighted avg       0.71      0.72      0.71       268\n",
      "\n",
      "\n",
      "Best Score using GridSearch : 0.7319194605138122\n",
      "\n",
      "Best Parameter using GridSearch : {'min_samples_split': 16}\n",
      "\n"
     ]
    },
    {
     "data": {
      "image/png": "[encoded data removed]",
      "text/plain": [
       "<Figure size 1080x360 with 1 Axes>"
      ]
     },
     "metadata": {
      "needs_background": "light"
     },
     "output_type": "display_data"
    }
   ],
   "source": [
    "modelfit_GS(gs_extratree_clf2,X_train,y_train,X_test,y_test, X_cols)"
   ]
  },
  {
   "cell_type": "code",
   "execution_count": 29,
   "metadata": {},
   "outputs": [
    {
     "data": {
      "image/png": "[encoded data removed]",
      "text/plain": [
       "<Figure size 432x288 with 1 Axes>"
      ]
     },
     "metadata": {
      "needs_background": "light"
     },
     "output_type": "display_data"
    },
    {
     "name": "stdout",
     "output_type": "stream",
     "text": [
      "Wall time: 21 s\n"
     ]
    }
   ],
   "source": [
    "%time plot_auc_gbm_parameter(param_value2,param_name2,X_train,y_train)"
   ]
  },
  {
   "cell_type": "code",
   "execution_count": 30,
   "metadata": {},
   "outputs": [],
   "source": [
    "## Tune \"max_features\":range(1,21)}\n",
    "param_value3 = range(1,20,1)\n",
    "param_name3 = \"max_features\"\n",
    "param_test3 = {\"max_features\":range(1,20,1)}\n",
    "gs_extratree_clf3 = GridSearchCV(estimator = ExtraTreesClassifier(random_state=10,n_estimators=190,min_samples_split= 16)\n",
    "                                 ,param_grid = param_test3,\n",
    "                       scoring='roc_auc',cv=5,n_jobs=8)"
   ]
  },
  {
   "cell_type": "code",
   "execution_count": 31,
   "metadata": {},
   "outputs": [
    {
     "name": "stdout",
     "output_type": "stream",
     "text": [
      "Wall time: 10.6 s\n"
     ]
    },
    {
     "data": {
      "text/plain": [
       "GridSearchCV(cv=5, error_score=nan,\n",
       "             estimator=ExtraTreesClassifier(bootstrap=False, ccp_alpha=0.0,\n",
       "                                            class_weight=None, criterion='gini',\n",
       "                                            max_depth=None, max_features='auto',\n",
       "                                            max_leaf_nodes=None,\n",
       "                                            max_samples=None,\n",
       "                                            min_impurity_decrease=0.0,\n",
       "                                            min_impurity_split=None,\n",
       "                                            min_samples_leaf=1,\n",
       "                                            min_samples_split=16,\n",
       "                                            min_weight_fraction_leaf=0.0,\n",
       "                                            n_estimators=190, n_jobs=None,\n",
       "                                            oob_score=False, random_state=10,\n",
       "                                            verbose=0, warm_start=False),\n",
       "             iid='deprecated', n_jobs=8,\n",
       "             param_grid={'max_features': range(1, 20)}, pre_dispatch='2*n_jobs',\n",
       "             refit=True, return_train_score=False, scoring='roc_auc',\n",
       "             verbose=0)"
      ]
     },
     "execution_count": 31,
     "metadata": {},
     "output_type": "execute_result"
    }
   ],
   "source": [
    "%time gs_extratree_clf3.fit(X_train,y_train)"
   ]
  },
  {
   "cell_type": "code",
   "execution_count": 32,
   "metadata": {},
   "outputs": [
    {
     "name": "stdout",
     "output_type": "stream",
     "text": [
      "\n",
      "Base Model Report with Default Parameters\n",
      "Accuracy (Train) : 0.9049\n",
      "AUC (Train): 0.883037\n",
      "ROC_AUC_Score (Train): 0.883037\n",
      "Classification Report (Train):               precision    recall  f1-score   support\n",
      "\n",
      "         0.0       0.95      0.79      0.86       410\n",
      "         1.0       0.88      0.98      0.93       662\n",
      "\n",
      "    accuracy                           0.90      1072\n",
      "   macro avg       0.92      0.88      0.90      1072\n",
      "weighted avg       0.91      0.90      0.90      1072\n",
      "\n",
      "\n",
      "Accuracy (Test) : 0.7201\n",
      "AUC (Test): 0.883037\n",
      "ROC_AUC_Score (Train): 0.677694\n",
      "Classification Report (Test):               precision    recall  f1-score   support\n",
      "\n",
      "         0.0       0.65      0.52      0.58        99\n",
      "         1.0       0.75      0.84      0.79       169\n",
      "\n",
      "    accuracy                           0.72       268\n",
      "   macro avg       0.70      0.68      0.68       268\n",
      "weighted avg       0.71      0.72      0.71       268\n",
      "\n",
      "\n",
      "Best Score using GridSearch : 0.7319194605138122\n",
      "\n",
      "Best Parameter using GridSearch : {'max_features': 4}\n",
      "\n"
     ]
    },
    {
     "data": {
      "image/png": "[encoded data removed]",
      "text/plain": [
       "<Figure size 1080x360 with 1 Axes>"
      ]
     },
     "metadata": {
      "needs_background": "light"
     },
     "output_type": "display_data"
    }
   ],
   "source": [
    "modelfit_GS(gs_extratree_clf3,X_train,y_train,X_test,y_test, X_cols)"
   ]
  },
  {
   "cell_type": "code",
   "execution_count": 33,
   "metadata": {},
   "outputs": [
    {
     "data": {
      "image/png": "[encoded data removed]",
      "text/plain": [
       "<Figure size 432x288 with 1 Axes>"
      ]
     },
     "metadata": {
      "needs_background": "light"
     },
     "output_type": "display_data"
    },
    {
     "name": "stdout",
     "output_type": "stream",
     "text": [
      "Wall time: 2min 6s\n"
     ]
    }
   ],
   "source": [
    "%time plot_auc_gbm_parameter(param_value3,param_name3,X_train,y_train)"
   ]
  },
  {
   "cell_type": "code",
   "execution_count": 34,
   "metadata": {},
   "outputs": [
    {
     "data": {
      "text/plain": [
       "ExtraTreesClassifier(bootstrap=False, ccp_alpha=0.0, class_weight=None,\n",
       "                     criterion='gini', max_depth=None, max_features=4,\n",
       "                     max_leaf_nodes=None, max_samples=None,\n",
       "                     min_impurity_decrease=0.0, min_impurity_split=None,\n",
       "                     min_samples_leaf=1, min_samples_split=16,\n",
       "                     min_weight_fraction_leaf=0.0, n_estimators=190, n_jobs=8,\n",
       "                     oob_score=False, random_state=10, verbose=0,\n",
       "                     warm_start=False)"
      ]
     },
     "execution_count": 34,
     "metadata": {},
     "output_type": "execute_result"
    }
   ],
   "source": [
    "## Lets create the final Model using best parameters\n",
    "extree_clf_final = ExtraTreesClassifier(random_state=10,n_estimators=190,min_samples_split= 16,max_features=4,n_jobs=8)\n",
    "extree_clf_final.fit(X_train,y_train)"
   ]
  },
  {
   "cell_type": "code",
   "execution_count": 35,
   "metadata": {},
   "outputs": [
    {
     "name": "stdout",
     "output_type": "stream",
     "text": [
      "\n",
      "Base Model Report with Default Parameters\n",
      "Accuracy (Train) : 0.9049\n",
      "AUC (Train): 0.883037\n",
      "ROC_AUC_Score (Train): 0.883037\n",
      "Classification Report (Train):               precision    recall  f1-score   support\n",
      "\n",
      "         0.0       0.95      0.79      0.86       410\n",
      "         1.0       0.88      0.98      0.93       662\n",
      "\n",
      "    accuracy                           0.90      1072\n",
      "   macro avg       0.92      0.88      0.90      1072\n",
      "weighted avg       0.91      0.90      0.90      1072\n",
      "\n",
      "\n",
      "Accuracy (Test) : 0.7201\n",
      "AUC (Test): 0.883037\n",
      "ROC_AUC_Score (Train): 0.677694\n",
      "Classification Report (Test):               precision    recall  f1-score   support\n",
      "\n",
      "         0.0       0.65      0.52      0.58        99\n",
      "         1.0       0.75      0.84      0.79       169\n",
      "\n",
      "    accuracy                           0.72       268\n",
      "   macro avg       0.70      0.68      0.68       268\n",
      "weighted avg       0.71      0.72      0.71       268\n",
      "\n",
      "\n"
     ]
    },
    {
     "data": {
      "image/png": "[encoded data removed]",
      "text/plain": [
       "<Figure size 432x288 with 1 Axes>"
      ]
     },
     "metadata": {
      "needs_background": "light"
     },
     "output_type": "display_data"
    }
   ],
   "source": [
    "## Evaluate the final Model\n",
    "modelfit(extree_clf_final,X_train,y_train,X_test,y_test, X_cols)"
   ]
  },
  {
   "cell_type": "code",
   "execution_count": null,
   "metadata": {},
   "outputs": [],
   "source": []
  }
 ],
 "metadata": {
  "kernelspec": {
   "display_name": "Python 3",
   "language": "python",
   "name": "python3"
  },
  "language_info": {
   "codemirror_mode": {
    "name": "ipython",
    "version": 3
   },
   "file_extension": ".py",
   "mimetype": "text/x-python",
   "name": "python",
   "nbconvert_exporter": "python",
   "pygments_lexer": "ipython3",
   "version": "3.7.7"
  }
 },
 "nbformat": 4,
 "nbformat_minor": 4
}
