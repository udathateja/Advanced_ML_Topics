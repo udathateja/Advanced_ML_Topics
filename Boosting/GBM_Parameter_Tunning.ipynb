{
 "cells": [
  {
   "cell_type": "markdown",
   "metadata": {},
   "source": [
    "### GBM(Gradient Boosting Parameter Tunning)"
   ]
  },
  {
   "cell_type": "code",
   "execution_count": 1,
   "metadata": {},
   "outputs": [],
   "source": [
    "import matplotlib.pyplot as plt\n",
    "import numpy as np\n",
    "import seaborn as sns\n",
    "import pandas as pd\n",
    "from sklearn.model_selection import train_test_split,GridSearchCV,cross_val_score\n",
    "from sklearn.ensemble import GradientBoostingClassifier\n",
    "from sklearn import metrics\n",
    "from sklearn.metrics import roc_auc_score,roc_curve,auc\n",
    "from matplotlib.legend_handler import HandlerLine2D\n",
    "%matplotlib inline"
   ]
  },
  {
   "cell_type": "code",
   "execution_count": 2,
   "metadata": {},
   "outputs": [],
   "source": [
    "## I downloaded both files and store at my Github profile.\n",
    "df_nba = pd.read_csv(\"https://raw.githubusercontent.com/teja/Data_Files/master/NBA_rookie/NBA_rookie.csv\")"
   ]
  },
  {
   "cell_type": "markdown",
   "metadata": {},
   "source": [
    "Dataset for practicing classification -use NBA rookie stats to predict if player will last 5 years in league\n",
    "\n",
    "Classification Exercise: Predict 5-Year Career Longevity for NBA Rookies\n",
    "\n",
    "y = 0 if career years played < 5\n",
    "\n",
    "y = 1 if career years played >= 5"
   ]
  },
  {
   "cell_type": "markdown",
   "metadata": {},
   "source": [
    "<img src=\"https://raw.githubusercontent.com/atulpatelDS/Machine_Learning/master/Images/NBA_Column_Description.png\" width=\"340\" height=\"240\" align=\"left\"/>"
   ]
  },
  {
   "cell_type": "code",
   "execution_count": 3,
   "metadata": {},
   "outputs": [
    {
     "name": "stdout",
     "output_type": "stream",
     "text": [
      "(1340, 21)\n",
      "<class 'pandas.core.frame.DataFrame'>\n"
     ]
    }
   ],
   "source": [
    "print(df_nba.shape)\n",
    "print(type(df_nba))"
   ]
  },
  {
   "cell_type": "code",
   "execution_count": 4,
   "metadata": {},
   "outputs": [
    {
     "data": {
      "text/html": [
       "<div>\n",
       "<style scoped>\n",
       "    .dataframe tbody tr th:only-of-type {\n",
       "        vertical-align: middle;\n",
       "    }\n",
       "\n",
       "    .dataframe tbody tr th {\n",
       "        vertical-align: top;\n",
       "    }\n",
       "\n",
       "    .dataframe thead th {\n",
       "        text-align: right;\n",
       "    }\n",
       "</style>\n",
       "<table border=\"1\" class=\"dataframe\">\n",
       "  <thead>\n",
       "    <tr style=\"text-align: right;\">\n",
       "      <th></th>\n",
       "      <th>Name</th>\n",
       "      <th>GP</th>\n",
       "      <th>MIN</th>\n",
       "      <th>PTS</th>\n",
       "      <th>FGM</th>\n",
       "      <th>FGA</th>\n",
       "      <th>FG%</th>\n",
       "      <th>3P Made</th>\n",
       "      <th>3PA</th>\n",
       "      <th>3P%</th>\n",
       "      <th>...</th>\n",
       "      <th>FTA</th>\n",
       "      <th>FT%</th>\n",
       "      <th>OREB</th>\n",
       "      <th>DREB</th>\n",
       "      <th>REB</th>\n",
       "      <th>AST</th>\n",
       "      <th>STL</th>\n",
       "      <th>BLK</th>\n",
       "      <th>TOV</th>\n",
       "      <th>TARGET_5Yrs</th>\n",
       "    </tr>\n",
       "  </thead>\n",
       "  <tbody>\n",
       "    <tr>\n",
       "      <th>0</th>\n",
       "      <td>Brandon Ingram</td>\n",
       "      <td>36</td>\n",
       "      <td>27.4</td>\n",
       "      <td>7.4</td>\n",
       "      <td>2.6</td>\n",
       "      <td>7.6</td>\n",
       "      <td>34.7</td>\n",
       "      <td>0.5</td>\n",
       "      <td>2.1</td>\n",
       "      <td>25.0</td>\n",
       "      <td>...</td>\n",
       "      <td>2.3</td>\n",
       "      <td>69.9</td>\n",
       "      <td>0.7</td>\n",
       "      <td>3.4</td>\n",
       "      <td>4.1</td>\n",
       "      <td>1.9</td>\n",
       "      <td>0.4</td>\n",
       "      <td>0.4</td>\n",
       "      <td>1.3</td>\n",
       "      <td>0.0</td>\n",
       "    </tr>\n",
       "    <tr>\n",
       "      <th>1</th>\n",
       "      <td>Andrew Harrison</td>\n",
       "      <td>35</td>\n",
       "      <td>26.9</td>\n",
       "      <td>7.2</td>\n",
       "      <td>2.0</td>\n",
       "      <td>6.7</td>\n",
       "      <td>29.6</td>\n",
       "      <td>0.7</td>\n",
       "      <td>2.8</td>\n",
       "      <td>23.5</td>\n",
       "      <td>...</td>\n",
       "      <td>3.4</td>\n",
       "      <td>76.5</td>\n",
       "      <td>0.5</td>\n",
       "      <td>2.0</td>\n",
       "      <td>2.4</td>\n",
       "      <td>3.7</td>\n",
       "      <td>1.1</td>\n",
       "      <td>0.5</td>\n",
       "      <td>1.6</td>\n",
       "      <td>0.0</td>\n",
       "    </tr>\n",
       "    <tr>\n",
       "      <th>2</th>\n",
       "      <td>JaKarr Sampson</td>\n",
       "      <td>74</td>\n",
       "      <td>15.3</td>\n",
       "      <td>5.2</td>\n",
       "      <td>2.0</td>\n",
       "      <td>4.7</td>\n",
       "      <td>42.2</td>\n",
       "      <td>0.4</td>\n",
       "      <td>1.7</td>\n",
       "      <td>24.4</td>\n",
       "      <td>...</td>\n",
       "      <td>1.3</td>\n",
       "      <td>67.0</td>\n",
       "      <td>0.5</td>\n",
       "      <td>1.7</td>\n",
       "      <td>2.2</td>\n",
       "      <td>1.0</td>\n",
       "      <td>0.5</td>\n",
       "      <td>0.3</td>\n",
       "      <td>1.0</td>\n",
       "      <td>0.0</td>\n",
       "    </tr>\n",
       "    <tr>\n",
       "      <th>3</th>\n",
       "      <td>Malik Sealy</td>\n",
       "      <td>58</td>\n",
       "      <td>11.6</td>\n",
       "      <td>5.7</td>\n",
       "      <td>2.3</td>\n",
       "      <td>5.5</td>\n",
       "      <td>42.6</td>\n",
       "      <td>0.1</td>\n",
       "      <td>0.5</td>\n",
       "      <td>22.6</td>\n",
       "      <td>...</td>\n",
       "      <td>1.3</td>\n",
       "      <td>68.9</td>\n",
       "      <td>1.0</td>\n",
       "      <td>0.9</td>\n",
       "      <td>1.9</td>\n",
       "      <td>0.8</td>\n",
       "      <td>0.6</td>\n",
       "      <td>0.1</td>\n",
       "      <td>1.0</td>\n",
       "      <td>1.0</td>\n",
       "    </tr>\n",
       "    <tr>\n",
       "      <th>4</th>\n",
       "      <td>Matt Geiger</td>\n",
       "      <td>48</td>\n",
       "      <td>11.5</td>\n",
       "      <td>4.5</td>\n",
       "      <td>1.6</td>\n",
       "      <td>3.0</td>\n",
       "      <td>52.4</td>\n",
       "      <td>0.0</td>\n",
       "      <td>0.1</td>\n",
       "      <td>0.0</td>\n",
       "      <td>...</td>\n",
       "      <td>1.9</td>\n",
       "      <td>67.4</td>\n",
       "      <td>1.0</td>\n",
       "      <td>1.5</td>\n",
       "      <td>2.5</td>\n",
       "      <td>0.3</td>\n",
       "      <td>0.3</td>\n",
       "      <td>0.4</td>\n",
       "      <td>0.8</td>\n",
       "      <td>1.0</td>\n",
       "    </tr>\n",
       "  </tbody>\n",
       "</table>\n",
       "<p>5 rows × 21 columns</p>\n",
       "</div>"
      ],
      "text/plain": [
       "              Name  GP   MIN  PTS  FGM  FGA   FG%  3P Made  3PA   3P%  ...  \\\n",
       "0   Brandon Ingram  36  27.4  7.4  2.6  7.6  34.7      0.5  2.1  25.0  ...   \n",
       "1  Andrew Harrison  35  26.9  7.2  2.0  6.7  29.6      0.7  2.8  23.5  ...   \n",
       "2   JaKarr Sampson  74  15.3  5.2  2.0  4.7  42.2      0.4  1.7  24.4  ...   \n",
       "3      Malik Sealy  58  11.6  5.7  2.3  5.5  42.6      0.1  0.5  22.6  ...   \n",
       "4      Matt Geiger  48  11.5  4.5  1.6  3.0  52.4      0.0  0.1   0.0  ...   \n",
       "\n",
       "   FTA   FT%  OREB  DREB  REB  AST  STL  BLK  TOV  TARGET_5Yrs  \n",
       "0  2.3  69.9   0.7   3.4  4.1  1.9  0.4  0.4  1.3          0.0  \n",
       "1  3.4  76.5   0.5   2.0  2.4  3.7  1.1  0.5  1.6          0.0  \n",
       "2  1.3  67.0   0.5   1.7  2.2  1.0  0.5  0.3  1.0          0.0  \n",
       "3  1.3  68.9   1.0   0.9  1.9  0.8  0.6  0.1  1.0          1.0  \n",
       "4  1.9  67.4   1.0   1.5  2.5  0.3  0.3  0.4  0.8          1.0  \n",
       "\n",
       "[5 rows x 21 columns]"
      ]
     },
     "execution_count": 4,
     "metadata": {},
     "output_type": "execute_result"
    }
   ],
   "source": [
    "df_nba.head()"
   ]
  },
  {
   "cell_type": "code",
   "execution_count": 5,
   "metadata": {},
   "outputs": [],
   "source": [
    "## Check the intial data type, null value and unique counts\n",
    "def initial_dataset_check(df):\n",
    "    \"\"\"\n",
    "    A function to make initial check for the dataset including the name, data type, \n",
    "    number of null values and number of unique varialbes for each feature.\n",
    "    \"\"\"\n",
    "    columns = df.columns    \n",
    "    lst = []\n",
    "    for feature in columns : \n",
    "        dtype = df[feature].dtypes\n",
    "        num_null = df[feature].isnull().sum()\n",
    "        num_unique = df[feature].nunique()\n",
    "        lst.append([feature, dtype, num_null, num_unique])\n",
    "    \n",
    "    check_df = pd.DataFrame(lst)\n",
    "    check_df.columns = ['feature','dtype','num_null','num_unique']\n",
    "    check_df = check_df.sort_values(by='dtype', axis=0, ascending=True)\n",
    "    \n",
    "    return check_df"
   ]
  },
  {
   "cell_type": "code",
   "execution_count": 6,
   "metadata": {},
   "outputs": [
    {
     "data": {
      "text/html": [
       "<div>\n",
       "<style scoped>\n",
       "    .dataframe tbody tr th:only-of-type {\n",
       "        vertical-align: middle;\n",
       "    }\n",
       "\n",
       "    .dataframe tbody tr th {\n",
       "        vertical-align: top;\n",
       "    }\n",
       "\n",
       "    .dataframe thead th {\n",
       "        text-align: right;\n",
       "    }\n",
       "</style>\n",
       "<table border=\"1\" class=\"dataframe\">\n",
       "  <thead>\n",
       "    <tr style=\"text-align: right;\">\n",
       "      <th></th>\n",
       "      <th>feature</th>\n",
       "      <th>dtype</th>\n",
       "      <th>num_null</th>\n",
       "      <th>num_unique</th>\n",
       "    </tr>\n",
       "  </thead>\n",
       "  <tbody>\n",
       "    <tr>\n",
       "      <th>1</th>\n",
       "      <td>GP</td>\n",
       "      <td>int64</td>\n",
       "      <td>0</td>\n",
       "      <td>70</td>\n",
       "    </tr>\n",
       "    <tr>\n",
       "      <th>10</th>\n",
       "      <td>FTM</td>\n",
       "      <td>float64</td>\n",
       "      <td>0</td>\n",
       "      <td>59</td>\n",
       "    </tr>\n",
       "    <tr>\n",
       "      <th>18</th>\n",
       "      <td>BLK</td>\n",
       "      <td>float64</td>\n",
       "      <td>0</td>\n",
       "      <td>28</td>\n",
       "    </tr>\n",
       "    <tr>\n",
       "      <th>17</th>\n",
       "      <td>STL</td>\n",
       "      <td>float64</td>\n",
       "      <td>0</td>\n",
       "      <td>26</td>\n",
       "    </tr>\n",
       "    <tr>\n",
       "      <th>16</th>\n",
       "      <td>AST</td>\n",
       "      <td>float64</td>\n",
       "      <td>0</td>\n",
       "      <td>77</td>\n",
       "    </tr>\n",
       "    <tr>\n",
       "      <th>15</th>\n",
       "      <td>REB</td>\n",
       "      <td>float64</td>\n",
       "      <td>0</td>\n",
       "      <td>101</td>\n",
       "    </tr>\n",
       "    <tr>\n",
       "      <th>14</th>\n",
       "      <td>DREB</td>\n",
       "      <td>float64</td>\n",
       "      <td>0</td>\n",
       "      <td>74</td>\n",
       "    </tr>\n",
       "    <tr>\n",
       "      <th>13</th>\n",
       "      <td>OREB</td>\n",
       "      <td>float64</td>\n",
       "      <td>0</td>\n",
       "      <td>44</td>\n",
       "    </tr>\n",
       "    <tr>\n",
       "      <th>12</th>\n",
       "      <td>FT%</td>\n",
       "      <td>float64</td>\n",
       "      <td>0</td>\n",
       "      <td>383</td>\n",
       "    </tr>\n",
       "    <tr>\n",
       "      <th>11</th>\n",
       "      <td>FTA</td>\n",
       "      <td>float64</td>\n",
       "      <td>0</td>\n",
       "      <td>76</td>\n",
       "    </tr>\n",
       "    <tr>\n",
       "      <th>20</th>\n",
       "      <td>TARGET_5Yrs</td>\n",
       "      <td>float64</td>\n",
       "      <td>0</td>\n",
       "      <td>2</td>\n",
       "    </tr>\n",
       "    <tr>\n",
       "      <th>9</th>\n",
       "      <td>3P%</td>\n",
       "      <td>float64</td>\n",
       "      <td>11</td>\n",
       "      <td>254</td>\n",
       "    </tr>\n",
       "    <tr>\n",
       "      <th>8</th>\n",
       "      <td>3PA</td>\n",
       "      <td>float64</td>\n",
       "      <td>0</td>\n",
       "      <td>54</td>\n",
       "    </tr>\n",
       "    <tr>\n",
       "      <th>7</th>\n",
       "      <td>3P Made</td>\n",
       "      <td>float64</td>\n",
       "      <td>0</td>\n",
       "      <td>23</td>\n",
       "    </tr>\n",
       "    <tr>\n",
       "      <th>6</th>\n",
       "      <td>FG%</td>\n",
       "      <td>float64</td>\n",
       "      <td>0</td>\n",
       "      <td>284</td>\n",
       "    </tr>\n",
       "    <tr>\n",
       "      <th>5</th>\n",
       "      <td>FGA</td>\n",
       "      <td>float64</td>\n",
       "      <td>0</td>\n",
       "      <td>159</td>\n",
       "    </tr>\n",
       "    <tr>\n",
       "      <th>4</th>\n",
       "      <td>FGM</td>\n",
       "      <td>float64</td>\n",
       "      <td>0</td>\n",
       "      <td>87</td>\n",
       "    </tr>\n",
       "    <tr>\n",
       "      <th>3</th>\n",
       "      <td>PTS</td>\n",
       "      <td>float64</td>\n",
       "      <td>0</td>\n",
       "      <td>191</td>\n",
       "    </tr>\n",
       "    <tr>\n",
       "      <th>2</th>\n",
       "      <td>MIN</td>\n",
       "      <td>float64</td>\n",
       "      <td>0</td>\n",
       "      <td>325</td>\n",
       "    </tr>\n",
       "    <tr>\n",
       "      <th>19</th>\n",
       "      <td>TOV</td>\n",
       "      <td>float64</td>\n",
       "      <td>0</td>\n",
       "      <td>41</td>\n",
       "    </tr>\n",
       "    <tr>\n",
       "      <th>0</th>\n",
       "      <td>Name</td>\n",
       "      <td>object</td>\n",
       "      <td>0</td>\n",
       "      <td>1294</td>\n",
       "    </tr>\n",
       "  </tbody>\n",
       "</table>\n",
       "</div>"
      ],
      "text/plain": [
       "        feature    dtype  num_null  num_unique\n",
       "1            GP    int64         0          70\n",
       "10          FTM  float64         0          59\n",
       "18          BLK  float64         0          28\n",
       "17          STL  float64         0          26\n",
       "16          AST  float64         0          77\n",
       "15          REB  float64         0         101\n",
       "14         DREB  float64         0          74\n",
       "13         OREB  float64         0          44\n",
       "12          FT%  float64         0         383\n",
       "11          FTA  float64         0          76\n",
       "20  TARGET_5Yrs  float64         0           2\n",
       "9           3P%  float64        11         254\n",
       "8           3PA  float64         0          54\n",
       "7       3P Made  float64         0          23\n",
       "6           FG%  float64         0         284\n",
       "5           FGA  float64         0         159\n",
       "4           FGM  float64         0          87\n",
       "3           PTS  float64         0         191\n",
       "2           MIN  float64         0         325\n",
       "19          TOV  float64         0          41\n",
       "0          Name   object         0        1294"
      ]
     },
     "execution_count": 6,
     "metadata": {},
     "output_type": "execute_result"
    }
   ],
   "source": [
    "initial_dataset_check(df_nba)"
   ]
  },
  {
   "cell_type": "code",
   "execution_count": 7,
   "metadata": {},
   "outputs": [
    {
     "data": {
      "text/plain": [
       "11"
      ]
     },
     "execution_count": 7,
     "metadata": {},
     "output_type": "execute_result"
    }
   ],
   "source": [
    "df_nba[\"3P%\"].isnull().sum()"
   ]
  },
  {
   "cell_type": "code",
   "execution_count": 8,
   "metadata": {},
   "outputs": [],
   "source": [
    "## Lets replace null value with mean\n",
    "df_nba[\"3P%\"] = df_nba[\"3P%\"].fillna(value = df_nba[\"3P%\"].mean())"
   ]
  },
  {
   "cell_type": "code",
   "execution_count": 9,
   "metadata": {},
   "outputs": [
    {
     "data": {
      "text/plain": [
       "0"
      ]
     },
     "execution_count": 9,
     "metadata": {},
     "output_type": "execute_result"
    }
   ],
   "source": [
    "df_nba[\"3P%\"].isnull().sum()"
   ]
  },
  {
   "cell_type": "code",
   "execution_count": 10,
   "metadata": {},
   "outputs": [],
   "source": [
    "X = df_nba.iloc[:,1:-1] ### Name need to remove which is distinct value\n",
    "y = df_nba.TARGET_5Yrs"
   ]
  },
  {
   "cell_type": "code",
   "execution_count": 11,
   "metadata": {},
   "outputs": [
    {
     "name": "stdout",
     "output_type": "stream",
     "text": [
      "(1340, 19)\n",
      "(1340,)\n",
      "<class 'pandas.core.frame.DataFrame'>\n",
      "<class 'pandas.core.series.Series'>\n"
     ]
    }
   ],
   "source": [
    "print(X.shape)\n",
    "print(y.shape)\n",
    "print(type(X))\n",
    "print(type(y))"
   ]
  },
  {
   "cell_type": "code",
   "execution_count": 12,
   "metadata": {},
   "outputs": [],
   "source": [
    "## Now split the test train\n",
    "X_train,X_test,y_train,y_test = train_test_split(X,y,test_size = 0.2,random_state = 42)"
   ]
  },
  {
   "cell_type": "code",
   "execution_count": 13,
   "metadata": {},
   "outputs": [
    {
     "name": "stdout",
     "output_type": "stream",
     "text": [
      "(1072, 19)\n",
      "(1072,)\n",
      "(268, 19)\n",
      "(268,)\n"
     ]
    }
   ],
   "source": [
    "print(X_train.shape)\n",
    "print(y_train.shape)\n",
    "print(X_test.shape)\n",
    "print(y_test.shape)"
   ]
  },
  {
   "cell_type": "code",
   "execution_count": 14,
   "metadata": {},
   "outputs": [
    {
     "data": {
      "text/plain": [
       "['GP',\n",
       " 'MIN',\n",
       " 'PTS',\n",
       " 'FGM',\n",
       " 'FGA',\n",
       " 'FG%',\n",
       " '3P Made',\n",
       " '3PA',\n",
       " '3P%',\n",
       " 'FTM',\n",
       " 'FTA',\n",
       " 'FT%',\n",
       " 'OREB',\n",
       " 'DREB',\n",
       " 'REB',\n",
       " 'AST',\n",
       " 'STL',\n",
       " 'BLK',\n",
       " 'TOV']"
      ]
     },
     "execution_count": 14,
     "metadata": {},
     "output_type": "execute_result"
    }
   ],
   "source": [
    "X_cols = [x for x in X_train.columns]\n",
    "X_cols"
   ]
  },
  {
   "cell_type": "markdown",
   "metadata": {},
   "source": [
    "**Define a function for modeling and Features Importance**\n",
    "This function will do the following:\n",
    "1. fit the model\n",
    "2. determine training accuracy\n",
    "3. determine training AUC\n",
    "4. plot Feature Importance"
   ]
  },
  {
   "cell_type": "code",
   "execution_count": 15,
   "metadata": {},
   "outputs": [],
   "source": [
    "def modelfit(alg,X_train,y_train,X_test,y_test, X_cols, cv_folds=5):\n",
    "    #Fit the algorithm on the data\n",
    "    #alg.fit(X_train, y_train)\n",
    "        \n",
    "    #Predict training set:\n",
    "    y_train_pred = alg.predict(X_train)\n",
    "    #y_train_predprob = alg.predict_proba(X_train)[:,1]\n",
    "    \n",
    "    #Predict test set:\n",
    "    y_test_pred = alg.predict(X_test)\n",
    "    #y_test_predprob = alg.predict_proba(X_test)[:,1]\n",
    "    \n",
    "    # Print the ROC_AUC on training dataset\n",
    "    false_positive_rate_train, true_positive_rate_train, thresholds_train = metrics.roc_curve(y_train, y_train_pred)\n",
    "    roc_auc_score_train = metrics.roc_auc_score(y_train, y_train_pred)\n",
    "    auc_train = metrics.auc(false_positive_rate_train, true_positive_rate_train)\n",
    "    \n",
    "    \n",
    "\n",
    "    # Print the ROC_AUC on test dataset\n",
    "    false_positive_rate_test, true_positive_rate_test, thresholds_test = metrics.roc_curve(y_test, y_test_pred)\n",
    "    roc_auc_score_test = metrics.roc_auc_score(y_test, y_test_pred)\n",
    "    auc_test = metrics.auc(false_positive_rate_test, true_positive_rate_test)\n",
    "      \n",
    "        \n",
    "    #Print model report:\n",
    "    print(\"\\nBase Model Report with Default Parameters\")\n",
    "    print(\"Accuracy (Train) : %.4g\" % metrics.accuracy_score(y_train, y_train_pred))\n",
    "    print(\"AUC (Train): %f\" % auc_train)\n",
    "    print(\"ROC_AUC_Score (Train): %f\" % roc_auc_score_train)\n",
    "    print(\"Classification Report (Train): {}\\n\".format(metrics.classification_report(y_train,y_train_pred)))\n",
    "    #print(\"ROC_AUC Score (Train): %f\" % metrics.roc_auc_score(y_train, y_train_predprob))\n",
    "    print(\"Accuracy (Test) : %.4g\" % metrics.accuracy_score(y_test, y_test_pred))\n",
    "    print(\"AUC (Test): %f\" % auc_train)\n",
    "    print(\"ROC_AUC_Score (Train): %f\" % roc_auc_score_test)\n",
    "    print(\"Classification Report (Test): {}\\n\".format(metrics.classification_report(y_test,y_test_pred)))\n",
    "    #print(\"ROC_AUC Score (Train): %f\" % metrics.roc_auc_score(y_train, y_train_predprob))\n",
    "            \n",
    "    #Print Feature Importance:\n",
    "    feat_imp = pd.Series(alg.feature_importances_, X_cols).sort_values(ascending=False)\n",
    "    feat_imp.plot(kind='bar', title='Feature Importances')\n",
    "    plt.ylabel('Feature Importance Score')"
   ]
  },
  {
   "cell_type": "markdown",
   "metadata": {},
   "source": [
    "We will AUC (Area Under Curve) as the evaluation metric. Our target value is binary so it’s a binary classification problem. AUC and ROC_AUC_SCORE is a good way for evaluation for this type of problems"
   ]
  },
  {
   "cell_type": "markdown",
   "metadata": {},
   "source": [
    "#### Baseline GBM Model\n",
    "with default parameters."
   ]
  },
  {
   "cell_type": "code",
   "execution_count": 16,
   "metadata": {},
   "outputs": [
    {
     "name": "stdout",
     "output_type": "stream",
     "text": [
      "\n",
      "Base Model Report with Default Parameters\n",
      "Accuracy (Train) : 0.861\n",
      "AUC (Train): 0.836397\n",
      "ROC_AUC_Score (Train): 0.836397\n",
      "Classification Report (Train):               precision    recall  f1-score   support\n",
      "\n",
      "         0.0       0.88      0.73      0.80       410\n",
      "         1.0       0.85      0.94      0.89       662\n",
      "\n",
      "    accuracy                           0.86      1072\n",
      "   macro avg       0.87      0.84      0.85      1072\n",
      "weighted avg       0.86      0.86      0.86      1072\n",
      "\n",
      "\n",
      "Accuracy (Test) : 0.7201\n",
      "AUC (Test): 0.836397\n",
      "ROC_AUC_Score (Train): 0.675602\n",
      "Classification Report (Test):               precision    recall  f1-score   support\n",
      "\n",
      "         0.0       0.66      0.51      0.57        99\n",
      "         1.0       0.74      0.85      0.79       169\n",
      "\n",
      "    accuracy                           0.72       268\n",
      "   macro avg       0.70      0.68      0.68       268\n",
      "weighted avg       0.71      0.72      0.71       268\n",
      "\n",
      "\n"
     ]
    },
    {
     "data": {
      "image/png": "[encoded data removed]",
      "text/plain": [
       "<Figure size 432x288 with 1 Axes>"
      ]
     },
     "metadata": {
      "needs_background": "light"
     },
     "output_type": "display_data"
    }
   ],
   "source": [
    "gbm = GradientBoostingClassifier(random_state=10)\n",
    "gbm.fit(X_train,y_train)\n",
    "modelfit(gbm,X_train,y_train,X_test,y_test, X_cols, cv_folds=5)"
   ]
  },
  {
   "cell_type": "code",
   "execution_count": 17,
   "metadata": {},
   "outputs": [],
   "source": [
    "def modelfit_GS(alg,X_train,y_train,X_test,y_test, X_cols):\n",
    "    #Fit the algorithm on the data\n",
    "    #alg.fit(X_train, y_train)\n",
    "        \n",
    "    #Predict training set:\n",
    "    y_train_pred = alg.predict(X_train)\n",
    "    #y_train_predprob = alg.predict_proba(X_train)[:,1]\n",
    "    \n",
    "    #Predict test set:\n",
    "    y_test_pred = alg.predict(X_test)\n",
    "    #y_test_predprob = alg.predict_proba(X_test)[:,1]\n",
    "    \n",
    "    # Print the ROC_AUC on training dataset\n",
    "    false_positive_rate_train, true_positive_rate_train, thresholds_train = metrics.roc_curve(y_train, y_train_pred)\n",
    "    roc_auc_score_train = metrics.roc_auc_score(y_train, y_train_pred)\n",
    "    auc_train = metrics.auc(false_positive_rate_train, true_positive_rate_train)\n",
    "    \n",
    "    \n",
    "\n",
    "    # Print the ROC_AUC on test dataset\n",
    "    false_positive_rate_test, true_positive_rate_test, thresholds_test = metrics.roc_curve(y_test, y_test_pred)\n",
    "    roc_auc_score_test = metrics.roc_auc_score(y_test, y_test_pred)\n",
    "    auc_test = metrics.auc(false_positive_rate_test, true_positive_rate_test)\n",
    "      \n",
    "        \n",
    "    #Print model report:\n",
    "    print(\"\\nBase Model Report with Default Parameters\")\n",
    "    print(\"Accuracy (Train) : %.4g\" % metrics.accuracy_score(y_train, y_train_pred))\n",
    "    print(\"AUC (Train): %f\" % auc_train)\n",
    "    print(\"ROC_AUC_Score (Train): %f\" % roc_auc_score_train)\n",
    "    print(\"Classification Report (Train): {}\\n\".format(metrics.classification_report(y_train,y_train_pred)))\n",
    "    #print(\"ROC_AUC Score (Train): %f\" % metrics.roc_auc_score(y_train, y_train_predprob))\n",
    "    print(\"Accuracy (Test) : %.4g\" % metrics.accuracy_score(y_test, y_test_pred))\n",
    "    print(\"AUC (Test): %f\" % auc_train)\n",
    "    print(\"ROC_AUC_Score (Train): %f\" % roc_auc_score_test)\n",
    "    print(\"Classification Report (Test): {}\\n\".format(metrics.classification_report(y_test,y_test_pred)))\n",
    "    #print(\"ROC_AUC Score (Train): %f\" % metrics.roc_auc_score(y_train, y_train_predprob))\n",
    "    print(\"Best Score using GridSearch : {}\\n\".format(alg.best_score_))\n",
    "    print(\"Best Parameter using GridSearch : {}\\n\".format(alg.best_params_))   \n",
    "    \n",
    "    ## Plot the Grapg with Mean test score \n",
    "    cv_results = pd.DataFrame(alg.cv_results_)\n",
    "    plt.figure(figsize=(15,5))\n",
    "    palette = sns.color_palette(\"Set1\", n_colors=6, desat=.5)\n",
    "    sns.lineplot(data=cv_results,x=cv_results.iloc[:,4],\n",
    "                 y=cv_results.iloc[:,-3]\n",
    "                 #,hue=cv_results[\"param_learning_rate\"]\n",
    "                 ,palette=palette\n",
    "                 #,err_style=\"bars\", ci=58,lw=1,err_kws={'capsize':0.5}\n",
    "                 #,size=cv_results[\"param_learning_rate\"]\n",
    "                 #,sizes=(.25, 2.5)\n",
    "                )\n",
    "    "
   ]
  },
  {
   "cell_type": "code",
   "execution_count": 18,
   "metadata": {},
   "outputs": [],
   "source": [
    "def plot_auc_gbm_parameter(param_value,param_name,X_train,y_train):\n",
    "    train_results = []\n",
    "    test_results = []\n",
    "    for param in param_value:\n",
    "        param_gs = {param_name:param_value}\n",
    "        model = GridSearchCV(estimator=GradientBoostingClassifier(),param_grid=param_gs,n_jobs=8)\n",
    "        model.fit(X_train, y_train)\n",
    "        train_pred = model.predict(X_train)\n",
    "        false_positive_rate, true_positive_rate, thresholds = roc_curve(y_train, train_pred)\n",
    "        roc_auc = auc(false_positive_rate, true_positive_rate)\n",
    "        train_results.append(roc_auc)\n",
    "        y_pred = model.predict(X_test)\n",
    "        false_positive_rate, true_positive_rate, thresholds = roc_curve(y_test, y_pred)\n",
    "        roc_auc = auc(false_positive_rate, true_positive_rate)\n",
    "        test_results.append(roc_auc)\n",
    "    from matplotlib.legend_handler import HandlerLine2D\n",
    "    line1, = plt.plot(param_value, train_results, color = 'green',label = \"Train AUC\") \n",
    "    line2, = plt.plot(param_value, test_results,color = 'red' ,label = \"Test AUC\") \n",
    "    plt.legend(handler_map={line1: HandlerLine2D(numpoints=2)})\n",
    "    plt.ylabel(\"AUC score\")\n",
    "    plt.xlabel(param_name)\n",
    "    plt.show()\n"
   ]
  },
  {
   "cell_type": "markdown",
   "metadata": {},
   "source": [
    "Most data scientist see number of trees, tree depth and the learning rate as most crucial parameters.\n",
    "There afre 2 types of parameters normally we tunned:\n",
    "\n",
    "**Tree-specific parameters**\n",
    "\n",
    "1. min_samples_split\n",
    "2. min_samples_leaf\n",
    "3. max_depth\n",
    "4. min_leaf_nodes\n",
    "5. max_features\n",
    "6. loss function\n",
    "\n",
    "**Boosting specific paramters**\n",
    "1. n_estimators\n",
    "2. learning_rate\n",
    "3. subsample"
   ]
  },
  {
   "cell_type": "markdown",
   "metadata": {},
   "source": [
    "**Find the Boosting Parameters**\n",
    "\n",
    "1. n_estimators =  represents the number of trees in the forest. Usually the higher the number of trees the better to learn the data. However, adding a lot of trees can slow down the training process considerably, therefore we do a parameter search to find the sweet spot.\n",
    "2. learning_rate = This determines the impact of each tree on the final outcome . GBM works by starting with an initial estimate which is updated using the output of each tree. The learning parameter controls the magnitude of this change in the estimates.Lower values are generally preferred as they make the model robust to the specific characteristics of tree and thus allowing it to generalize well.Lower values would require higher number of trees to model all the relations and will be computationally expensive.\n",
    "3. subsample = The fraction of observations to be selected for each tree. Selection is done by random sampling. Values slightly less than 1 make the model robust by reducing the variance.Typical values ~0.8 generally work fine but can be fine-tuned further."
   ]
  },
  {
   "cell_type": "markdown",
   "metadata": {},
   "source": [
    "**Tree-specific parameters**\n",
    "1. min_samples_split = represents the minimum number of samples required to split an internal node. This can vary between considering at least one sample at each node to considering all of the samples at each node. When we increase this parameter, the tree becomes more constrained as it has to consider more samples at each node. Here we will vary the parameter from 10% to 100% of the samples.\n",
    "2. min_samples_leaf =  is The minimum number of samples required to be at a leaf node. This similar to min_samples_splits, however, this describe the minimum number of samples of samples at the leafs.Generally lower values should be chosen for imbalanced class problems because the regions in which the minority class will be in majority will be very small.\n",
    "3. max_depth = This indicates how deep the built tree can be. The deeper the tree, the more splits it has and it captures more information about how the data. We fit a decision tree with depths ranging from 1 to 32.\n",
    "4. max_features = max_features represents the number of features to consider when looking for the best split.As a thumb-rule, square root of the total number of features works great but we should check upto 30-40% of the total number of features.\n"
   ]
  },
  {
   "cell_type": "markdown",
   "metadata": {},
   "source": [
    "#### Tune the max_depth"
   ]
  },
  {
   "cell_type": "code",
   "execution_count": 19,
   "metadata": {},
   "outputs": [],
   "source": [
    "predictors = X_cols\n",
    "param_value1 = range(1,8)\n",
    "param_name1 = \"max_depth\"\n",
    "param_test1 =  {'max_depth':range(1,8)}\n",
    "gs_gbm1 = GridSearchCV(estimator = GradientBoostingClassifier(random_state=10),param_grid = param_test1,\n",
    "                       scoring='roc_auc',cv=5,n_jobs=8)"
   ]
  },
  {
   "cell_type": "code",
   "execution_count": 20,
   "metadata": {},
   "outputs": [
    {
     "name": "stdout",
     "output_type": "stream",
     "text": [
      "Wall time: 4.49 s\n"
     ]
    },
    {
     "data": {
      "text/plain": [
       "GridSearchCV(cv=5, error_score=nan,\n",
       "             estimator=GradientBoostingClassifier(ccp_alpha=0.0,\n",
       "                                                  criterion='friedman_mse',\n",
       "                                                  init=None, learning_rate=0.1,\n",
       "                                                  loss='deviance', max_depth=3,\n",
       "                                                  max_features=None,\n",
       "                                                  max_leaf_nodes=None,\n",
       "                                                  min_impurity_decrease=0.0,\n",
       "                                                  min_impurity_split=None,\n",
       "                                                  min_samples_leaf=1,\n",
       "                                                  min_samples_split=2,\n",
       "                                                  min_weight_fraction_leaf=0.0,\n",
       "                                                  n_estimators=100,\n",
       "                                                  n_iter_no_change=None,\n",
       "                                                  presort='deprecated',\n",
       "                                                  random_state=10,\n",
       "                                                  subsample=1.0, tol=0.0001,\n",
       "                                                  validation_fraction=0.1,\n",
       "                                                  verbose=0, warm_start=False),\n",
       "             iid='deprecated', n_jobs=8, param_grid={'max_depth': range(1, 8)},\n",
       "             pre_dispatch='2*n_jobs', refit=True, return_train_score=False,\n",
       "             scoring='roc_auc', verbose=0)"
      ]
     },
     "execution_count": 20,
     "metadata": {},
     "output_type": "execute_result"
    }
   ],
   "source": [
    "%time gs_gbm1.fit(X_train,y_train)"
   ]
  },
  {
   "cell_type": "code",
   "execution_count": 21,
   "metadata": {},
   "outputs": [
    {
     "name": "stdout",
     "output_type": "stream",
     "text": [
      "\n",
      "Base Model Report with Default Parameters\n",
      "Accuracy (Train) : 0.7388\n",
      "AUC (Train): 0.704495\n",
      "ROC_AUC_Score (Train): 0.704495\n",
      "Classification Report (Train):               precision    recall  f1-score   support\n",
      "\n",
      "         0.0       0.70      0.56      0.62       410\n",
      "         1.0       0.76      0.85      0.80       662\n",
      "\n",
      "    accuracy                           0.74      1072\n",
      "   macro avg       0.73      0.70      0.71      1072\n",
      "weighted avg       0.73      0.74      0.73      1072\n",
      "\n",
      "\n",
      "Accuracy (Test) : 0.7201\n",
      "AUC (Test): 0.704495\n",
      "ROC_AUC_Score (Train): 0.671418\n",
      "Classification Report (Test):               precision    recall  f1-score   support\n",
      "\n",
      "         0.0       0.67      0.48      0.56        99\n",
      "         1.0       0.74      0.86      0.79       169\n",
      "\n",
      "    accuracy                           0.72       268\n",
      "   macro avg       0.70      0.67      0.68       268\n",
      "weighted avg       0.71      0.72      0.71       268\n",
      "\n",
      "\n",
      "Best Score using GridSearch : 0.7273629611723321\n",
      "\n",
      "Best Parameter using GridSearch : {'max_depth': 1}\n",
      "\n"
     ]
    },
    {
     "data": {
      "image/png": "[encoded data removed]",
      "text/plain": [
       "<Figure size 1080x360 with 1 Axes>"
      ]
     },
     "metadata": {
      "needs_background": "light"
     },
     "output_type": "display_data"
    }
   ],
   "source": [
    "modelfit_GS(gs_gbm1,X_train,y_train,X_test,y_test, X_cols)"
   ]
  },
  {
   "cell_type": "code",
   "execution_count": 22,
   "metadata": {},
   "outputs": [
    {
     "data": {
      "image/png": "[encoded data removed]",
      "text/plain": [
       "<Figure size 432x288 with 1 Axes>"
      ]
     },
     "metadata": {
      "needs_background": "light"
     },
     "output_type": "display_data"
    },
    {
     "name": "stdout",
     "output_type": "stream",
     "text": [
      "Wall time: 20.9 s\n"
     ]
    }
   ],
   "source": [
    "%time plot_auc_gbm_parameter(param_value1,param_name1,X_train,y_train)"
   ]
  },
  {
   "cell_type": "markdown",
   "metadata": {},
   "source": [
    "#### Tune the learning rate"
   ]
  },
  {
   "cell_type": "code",
   "execution_count": 23,
   "metadata": {},
   "outputs": [],
   "source": [
    "predictors = X_cols\n",
    "param_value2 = [0.1,0.01,0.05,0.001]\n",
    "param_name2 = \"learning_rate\"\n",
    "param_test2 =  {\"learning_rate\":[0.1,0.01,0.05,0.001]}\n",
    "gs_gbm2 = GridSearchCV(estimator = GradientBoostingClassifier(random_state=10,max_depth = 1),param_grid = param_test2,\n",
    "                       scoring='roc_auc',cv=5,n_jobs=8)"
   ]
  },
  {
   "cell_type": "code",
   "execution_count": 24,
   "metadata": {},
   "outputs": [
    {
     "name": "stdout",
     "output_type": "stream",
     "text": [
      "Wall time: 638 ms\n"
     ]
    },
    {
     "data": {
      "text/plain": [
       "GridSearchCV(cv=5, error_score=nan,\n",
       "             estimator=GradientBoostingClassifier(ccp_alpha=0.0,\n",
       "                                                  criterion='friedman_mse',\n",
       "                                                  init=None, learning_rate=0.1,\n",
       "                                                  loss='deviance', max_depth=1,\n",
       "                                                  max_features=None,\n",
       "                                                  max_leaf_nodes=None,\n",
       "                                                  min_impurity_decrease=0.0,\n",
       "                                                  min_impurity_split=None,\n",
       "                                                  min_samples_leaf=1,\n",
       "                                                  min_samples_split=2,\n",
       "                                                  min_weight_fraction_leaf=0.0,\n",
       "                                                  n_estimators=100,\n",
       "                                                  n_iter_no_change=None,\n",
       "                                                  presort='deprecated',\n",
       "                                                  random_state=10,\n",
       "                                                  subsample=1.0, tol=0.0001,\n",
       "                                                  validation_fraction=0.1,\n",
       "                                                  verbose=0, warm_start=False),\n",
       "             iid='deprecated', n_jobs=8,\n",
       "             param_grid={'learning_rate': [0.1, 0.01, 0.05, 0.001]},\n",
       "             pre_dispatch='2*n_jobs', refit=True, return_train_score=False,\n",
       "             scoring='roc_auc', verbose=0)"
      ]
     },
     "execution_count": 24,
     "metadata": {},
     "output_type": "execute_result"
    }
   ],
   "source": [
    "%time gs_gbm2.fit(X_train,y_train)"
   ]
  },
  {
   "cell_type": "code",
   "execution_count": 25,
   "metadata": {},
   "outputs": [
    {
     "name": "stdout",
     "output_type": "stream",
     "text": [
      "\n",
      "Base Model Report with Default Parameters\n",
      "Accuracy (Train) : 0.7257\n",
      "AUC (Train): 0.687422\n",
      "ROC_AUC_Score (Train): 0.687422\n",
      "Classification Report (Train):               precision    recall  f1-score   support\n",
      "\n",
      "         0.0       0.68      0.52      0.59       410\n",
      "         1.0       0.74      0.85      0.79       662\n",
      "\n",
      "    accuracy                           0.73      1072\n",
      "   macro avg       0.71      0.69      0.69      1072\n",
      "weighted avg       0.72      0.73      0.72      1072\n",
      "\n",
      "\n",
      "Accuracy (Test) : 0.7276\n",
      "AUC (Test): 0.687422\n",
      "ROC_AUC_Score (Train): 0.679427\n",
      "Classification Report (Test):               precision    recall  f1-score   support\n",
      "\n",
      "         0.0       0.68      0.49      0.57        99\n",
      "         1.0       0.74      0.86      0.80       169\n",
      "\n",
      "    accuracy                           0.73       268\n",
      "   macro avg       0.71      0.68      0.69       268\n",
      "weighted avg       0.72      0.73      0.72       268\n",
      "\n",
      "\n",
      "Best Score using GridSearch : 0.7276641576224374\n",
      "\n",
      "Best Parameter using GridSearch : {'learning_rate': 0.05}\n",
      "\n"
     ]
    },
    {
     "data": {
      "image/png": "[encoded data removed]",
      "text/plain": [
       "<Figure size 1080x360 with 1 Axes>"
      ]
     },
     "metadata": {
      "needs_background": "light"
     },
     "output_type": "display_data"
    }
   ],
   "source": [
    "modelfit_GS(gs_gbm2,X_train,y_train,X_test,y_test, X_cols)"
   ]
  },
  {
   "cell_type": "code",
   "execution_count": 26,
   "metadata": {},
   "outputs": [
    {
     "data": {
      "image/png": "[encoded data removed]",
      "text/plain": [
       "<Figure size 432x288 with 1 Axes>"
      ]
     },
     "metadata": {
      "needs_background": "light"
     },
     "output_type": "display_data"
    },
    {
     "name": "stdout",
     "output_type": "stream",
     "text": [
      "Wall time: 6.45 s\n"
     ]
    }
   ],
   "source": [
    "%time plot_auc_gbm_parameter(param_value2,param_name2,X_train,y_train)"
   ]
  },
  {
   "cell_type": "code",
   "execution_count": 27,
   "metadata": {},
   "outputs": [],
   "source": [
    "predictors = X_cols\n",
    "param_value3 = range(10,150,10)\n",
    "param_name3 = \"n_estimators\"\n",
    "param_test3 =  {\"n_estimators\":range(10,150,10)}\n",
    "gs_gbm3 = GridSearchCV(estimator = GradientBoostingClassifier(learning_rate=0.05,random_state=10,max_depth = 1),\n",
    "                       param_grid = param_test3,\n",
    "                       scoring='roc_auc',cv=5,n_jobs=8)"
   ]
  },
  {
   "cell_type": "code",
   "execution_count": 28,
   "metadata": {},
   "outputs": [
    {
     "name": "stdout",
     "output_type": "stream",
     "text": [
      "Wall time: 1.49 s\n"
     ]
    },
    {
     "data": {
      "text/plain": [
       "GridSearchCV(cv=5, error_score=nan,\n",
       "             estimator=GradientBoostingClassifier(ccp_alpha=0.0,\n",
       "                                                  criterion='friedman_mse',\n",
       "                                                  init=None, learning_rate=0.05,\n",
       "                                                  loss='deviance', max_depth=1,\n",
       "                                                  max_features=None,\n",
       "                                                  max_leaf_nodes=None,\n",
       "                                                  min_impurity_decrease=0.0,\n",
       "                                                  min_impurity_split=None,\n",
       "                                                  min_samples_leaf=1,\n",
       "                                                  min_samples_split=2,\n",
       "                                                  min_weight_fraction_leaf=0.0,\n",
       "                                                  n_estimators=100,\n",
       "                                                  n_iter_no_change=None,\n",
       "                                                  presort='deprecated',\n",
       "                                                  random_state=10,\n",
       "                                                  subsample=1.0, tol=0.0001,\n",
       "                                                  validation_fraction=0.1,\n",
       "                                                  verbose=0, warm_start=False),\n",
       "             iid='deprecated', n_jobs=8,\n",
       "             param_grid={'n_estimators': range(10, 150, 10)},\n",
       "             pre_dispatch='2*n_jobs', refit=True, return_train_score=False,\n",
       "             scoring='roc_auc', verbose=0)"
      ]
     },
     "execution_count": 28,
     "metadata": {},
     "output_type": "execute_result"
    }
   ],
   "source": [
    "%time gs_gbm3.fit(X_train,y_train)"
   ]
  },
  {
   "cell_type": "code",
   "execution_count": 29,
   "metadata": {},
   "outputs": [
    {
     "name": "stdout",
     "output_type": "stream",
     "text": [
      "\n",
      "Base Model Report with Default Parameters\n",
      "Accuracy (Train) : 0.7164\n",
      "AUC (Train): 0.674762\n",
      "ROC_AUC_Score (Train): 0.674762\n",
      "Classification Report (Train):               precision    recall  f1-score   support\n",
      "\n",
      "         0.0       0.68      0.50      0.57       410\n",
      "         1.0       0.73      0.85      0.79       662\n",
      "\n",
      "    accuracy                           0.72      1072\n",
      "   macro avg       0.70      0.67      0.68      1072\n",
      "weighted avg       0.71      0.72      0.71      1072\n",
      "\n",
      "\n",
      "Accuracy (Test) : 0.7276\n",
      "AUC (Test): 0.674762\n",
      "ROC_AUC_Score (Train): 0.679427\n",
      "Classification Report (Test):               precision    recall  f1-score   support\n",
      "\n",
      "         0.0       0.68      0.49      0.57        99\n",
      "         1.0       0.74      0.86      0.80       169\n",
      "\n",
      "    accuracy                           0.73       268\n",
      "   macro avg       0.71      0.68      0.69       268\n",
      "weighted avg       0.72      0.73      0.72       268\n",
      "\n",
      "\n",
      "Best Score using GridSearch : 0.7292582203846645\n",
      "\n",
      "Best Parameter using GridSearch : {'n_estimators': 70}\n",
      "\n"
     ]
    },
    {
     "data": {
      "image/png": "[encoded data removed]",
      "text/plain": [
       "<Figure size 1080x360 with 1 Axes>"
      ]
     },
     "metadata": {
      "needs_background": "light"
     },
     "output_type": "display_data"
    }
   ],
   "source": [
    "modelfit_GS(gs_gbm3,X_train,y_train,X_test,y_test, X_cols)"
   ]
  },
  {
   "cell_type": "code",
   "execution_count": 30,
   "metadata": {},
   "outputs": [
    {
     "data": {
      "image/png": "[encoded data removed]",
      "text/plain": [
       "<Figure size 432x288 with 1 Axes>"
      ]
     },
     "metadata": {
      "needs_background": "light"
     },
     "output_type": "display_data"
    },
    {
     "name": "stdout",
     "output_type": "stream",
     "text": [
      "Wall time: 48 s\n"
     ]
    }
   ],
   "source": [
    "%time plot_auc_gbm_parameter(param_value3,param_name3,X_train,y_train)"
   ]
  },
  {
   "cell_type": "code",
   "execution_count": 31,
   "metadata": {},
   "outputs": [
    {
     "name": "stdout",
     "output_type": "stream",
     "text": [
      "\n",
      "Base Model Report with Default Parameters\n",
      "Accuracy (Train) : 0.7164\n",
      "AUC (Train): 0.674762\n",
      "ROC_AUC_Score (Train): 0.674762\n",
      "Classification Report (Train):               precision    recall  f1-score   support\n",
      "\n",
      "         0.0       0.68      0.50      0.57       410\n",
      "         1.0       0.73      0.85      0.79       662\n",
      "\n",
      "    accuracy                           0.72      1072\n",
      "   macro avg       0.70      0.67      0.68      1072\n",
      "weighted avg       0.71      0.72      0.71      1072\n",
      "\n",
      "\n",
      "Accuracy (Test) : 0.7276\n",
      "AUC (Test): 0.674762\n",
      "ROC_AUC_Score (Train): 0.679427\n",
      "Classification Report (Test):               precision    recall  f1-score   support\n",
      "\n",
      "         0.0       0.68      0.49      0.57        99\n",
      "         1.0       0.74      0.86      0.80       169\n",
      "\n",
      "    accuracy                           0.73       268\n",
      "   macro avg       0.71      0.68      0.69       268\n",
      "weighted avg       0.72      0.73      0.72       268\n",
      "\n",
      "\n"
     ]
    },
    {
     "data": {
      "image/png": "[encoded data removed]",
      "text/plain": [
       "<Figure size 432x288 with 1 Axes>"
      ]
     },
     "metadata": {
      "needs_background": "light"
     },
     "output_type": "display_data"
    }
   ],
   "source": [
    "### Lets create the final model using best parameters\n",
    "gbm_final = GradientBoostingClassifier(learning_rate=0.05,random_state=10,max_depth = 1,n_estimators=70)\n",
    "gbm_final.fit(X_train,y_train)\n",
    "modelfit(gbm_final,X_train,y_train,X_test,y_test, X_cols, cv_folds=5)"
   ]
  }
 ],
 "metadata": {
  "kernelspec": {
   "display_name": "Python 3",
   "language": "python",
   "name": "python3"
  },
  "language_info": {
   "codemirror_mode": {
    "name": "ipython",
    "version": 3
   },
   "file_extension": ".py",
   "mimetype": "text/x-python",
   "name": "python",
   "nbconvert_exporter": "python",
   "pygments_lexer": "ipython3",
   "version": "3.7.7"
  }
 },
 "nbformat": 4,
 "nbformat_minor": 4
}
