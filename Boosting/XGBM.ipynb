{
 "cells": [
  {
   "cell_type": "markdown",
   "metadata": {},
   "source": [
    "## Extreme Gradient Boosting Machine (XGBM) and Parameter Tunning"
   ]
  },
  {
   "cell_type": "markdown",
   "metadata": {},
   "source": [
    "**A Gradient Boosting Machine or GBM** combines the predictions from multiple decision trees to generate the final predictions. Keep in mind that all the weak learners in a gradient boosting machine are decision trees.\n",
    "\n",
    "if we are using the same algorithm, then how is using a hundred decision trees better than using a single decision tree? How do different decision trees capture different signals/information from the data?\n",
    "\n",
    "Here is the trick – the nodes in every decision tree take a different subset of features for selecting the best split. This means that the individual trees aren’t all the same and hence they are able to capture different signals from the data.\n",
    "\n",
    "Additionally, each new tree takes into account the errors or mistakes made by the previous trees. So, every successive decision tree is built on the errors of the previous trees. This is how the trees in a gradient boosting machine algorithm are built sequentially."
   ]
  },
  {
   "cell_type": "markdown",
   "metadata": {},
   "source": [
    "**Extreme Gradient Boosting or XGBoost** is another popular boosting algorithm. In fact, XGBoost is simply an improvised version of the GBM algorithm! The working procedure of XGBoost is the same as GBM. The trees in XGBoost are built sequentially, trying to correct the errors of the previous trees.\n",
    "\n",
    "But there are certain features that make XGBoost slightly better than GBM:\n",
    "\n",
    "1. One of the most important points is that XGBM implements parallel preprocessing (at the node level) which makes it faster than GBM.\n",
    "2. XGBoost also includes a variety of regularization techniques that reduce overfitting and improve overall performance. You can select the regularization technique by setting the hyperparameters of the XGBoost algorithm.\n",
    "3. if you are using the XGBM algorithm, you don’t have to worry about imputing missing values in your dataset. The XGBM model can handle the missing values on its own. During the training process, the model learns whether missing values should be in the right or left node.\n"
   ]
  },
  {
   "cell_type": "code",
   "execution_count": 1,
   "metadata": {},
   "outputs": [],
   "source": [
    "## Lets see how XGBM improve teh accuracy of model. It works very good If we have very very large datasets.\n",
    "## We will get very much difference with very less amount of dataset.\n",
    "import matplotlib.pyplot as plt\n",
    "import numpy as np\n",
    "import seaborn as sns\n",
    "import pandas as pd\n",
    "from sklearn.preprocessing import StandardScaler,LabelEncoder\n",
    "from sklearn.model_selection import train_test_split,GridSearchCV,cross_val_score\n",
    "from sklearn.ensemble import GradientBoostingClassifier,AdaBoostClassifier\n",
    "from sklearn.linear_model import LogisticRegressionCV\n",
    "from xgboost import XGBClassifier\n",
    "from sklearn.discriminant_analysis import LinearDiscriminantAnalysis\n",
    "import xgboost as XGB\n",
    "from sklearn import metrics\n",
    "import time\n",
    "%matplotlib inline\n",
    "from matplotlib.legend_handler import HandlerLine2D"
   ]
  },
  {
   "cell_type": "markdown",
   "metadata": {},
   "source": [
    "We are using UCI dataset and this is the classic “Adult Data Set”. An older set from 1996, this dataset contains census data on income. Our job is to predict whether a certain individual had an income of greater than 50,000 based on their demographic information."
   ]
  },
  {
   "cell_type": "code",
   "execution_count": 2,
   "metadata": {},
   "outputs": [],
   "source": [
    "## I downloaded both files and store at my Github profile.\n",
    "df_adult = pd.read_csv(\"C:/E/Github/Data_Files/UCI_Adult/adult.csv\")\n",
    "#df_adult = pd.read_csv(\"https://raw.githubusercontent.com/atulpatelDS/Data_Files/master/UCI_Adult/adult.csv\")"
   ]
  },
  {
   "cell_type": "code",
   "execution_count": 3,
   "metadata": {},
   "outputs": [
    {
     "data": {
      "text/html": [
       "<div>\n",
       "<style scoped>\n",
       "    .dataframe tbody tr th:only-of-type {\n",
       "        vertical-align: middle;\n",
       "    }\n",
       "\n",
       "    .dataframe tbody tr th {\n",
       "        vertical-align: top;\n",
       "    }\n",
       "\n",
       "    .dataframe thead th {\n",
       "        text-align: right;\n",
       "    }\n",
       "</style>\n",
       "<table border=\"1\" class=\"dataframe\">\n",
       "  <thead>\n",
       "    <tr style=\"text-align: right;\">\n",
       "      <th></th>\n",
       "      <th>age</th>\n",
       "      <th>workclass</th>\n",
       "      <th>fnlwgt</th>\n",
       "      <th>education</th>\n",
       "      <th>educational-num</th>\n",
       "      <th>marital-status</th>\n",
       "      <th>occupation</th>\n",
       "      <th>relationship</th>\n",
       "      <th>race</th>\n",
       "      <th>gender</th>\n",
       "      <th>capital-gain</th>\n",
       "      <th>capital-loss</th>\n",
       "      <th>hours-per-week</th>\n",
       "      <th>native-country</th>\n",
       "      <th>income</th>\n",
       "    </tr>\n",
       "  </thead>\n",
       "  <tbody>\n",
       "    <tr>\n",
       "      <th>0</th>\n",
       "      <td>25</td>\n",
       "      <td>Private</td>\n",
       "      <td>226802</td>\n",
       "      <td>11th</td>\n",
       "      <td>7</td>\n",
       "      <td>Never-married</td>\n",
       "      <td>Machine-op-inspct</td>\n",
       "      <td>Own-child</td>\n",
       "      <td>Black</td>\n",
       "      <td>Male</td>\n",
       "      <td>0</td>\n",
       "      <td>0</td>\n",
       "      <td>40</td>\n",
       "      <td>United-States</td>\n",
       "      <td>&lt;=50K</td>\n",
       "    </tr>\n",
       "    <tr>\n",
       "      <th>1</th>\n",
       "      <td>38</td>\n",
       "      <td>Private</td>\n",
       "      <td>89814</td>\n",
       "      <td>HS-grad</td>\n",
       "      <td>9</td>\n",
       "      <td>Married-civ-spouse</td>\n",
       "      <td>Farming-fishing</td>\n",
       "      <td>Husband</td>\n",
       "      <td>White</td>\n",
       "      <td>Male</td>\n",
       "      <td>0</td>\n",
       "      <td>0</td>\n",
       "      <td>50</td>\n",
       "      <td>United-States</td>\n",
       "      <td>&lt;=50K</td>\n",
       "    </tr>\n",
       "    <tr>\n",
       "      <th>2</th>\n",
       "      <td>28</td>\n",
       "      <td>Local-gov</td>\n",
       "      <td>336951</td>\n",
       "      <td>Assoc-acdm</td>\n",
       "      <td>12</td>\n",
       "      <td>Married-civ-spouse</td>\n",
       "      <td>Protective-serv</td>\n",
       "      <td>Husband</td>\n",
       "      <td>White</td>\n",
       "      <td>Male</td>\n",
       "      <td>0</td>\n",
       "      <td>0</td>\n",
       "      <td>40</td>\n",
       "      <td>United-States</td>\n",
       "      <td>&gt;50K</td>\n",
       "    </tr>\n",
       "    <tr>\n",
       "      <th>3</th>\n",
       "      <td>44</td>\n",
       "      <td>Private</td>\n",
       "      <td>160323</td>\n",
       "      <td>Some-college</td>\n",
       "      <td>10</td>\n",
       "      <td>Married-civ-spouse</td>\n",
       "      <td>Machine-op-inspct</td>\n",
       "      <td>Husband</td>\n",
       "      <td>Black</td>\n",
       "      <td>Male</td>\n",
       "      <td>7688</td>\n",
       "      <td>0</td>\n",
       "      <td>40</td>\n",
       "      <td>United-States</td>\n",
       "      <td>&gt;50K</td>\n",
       "    </tr>\n",
       "    <tr>\n",
       "      <th>4</th>\n",
       "      <td>18</td>\n",
       "      <td>?</td>\n",
       "      <td>103497</td>\n",
       "      <td>Some-college</td>\n",
       "      <td>10</td>\n",
       "      <td>Never-married</td>\n",
       "      <td>?</td>\n",
       "      <td>Own-child</td>\n",
       "      <td>White</td>\n",
       "      <td>Female</td>\n",
       "      <td>0</td>\n",
       "      <td>0</td>\n",
       "      <td>30</td>\n",
       "      <td>United-States</td>\n",
       "      <td>&lt;=50K</td>\n",
       "    </tr>\n",
       "  </tbody>\n",
       "</table>\n",
       "</div>"
      ],
      "text/plain": [
       "   age  workclass  fnlwgt     education  educational-num      marital-status  \\\n",
       "0   25    Private  226802          11th                7       Never-married   \n",
       "1   38    Private   89814       HS-grad                9  Married-civ-spouse   \n",
       "2   28  Local-gov  336951    Assoc-acdm               12  Married-civ-spouse   \n",
       "3   44    Private  160323  Some-college               10  Married-civ-spouse   \n",
       "4   18          ?  103497  Some-college               10       Never-married   \n",
       "\n",
       "          occupation relationship   race  gender  capital-gain  capital-loss  \\\n",
       "0  Machine-op-inspct    Own-child  Black    Male             0             0   \n",
       "1    Farming-fishing      Husband  White    Male             0             0   \n",
       "2    Protective-serv      Husband  White    Male             0             0   \n",
       "3  Machine-op-inspct      Husband  Black    Male          7688             0   \n",
       "4                  ?    Own-child  White  Female             0             0   \n",
       "\n",
       "   hours-per-week native-country income  \n",
       "0              40  United-States  <=50K  \n",
       "1              50  United-States  <=50K  \n",
       "2              40  United-States   >50K  \n",
       "3              40  United-States   >50K  \n",
       "4              30  United-States  <=50K  "
      ]
     },
     "execution_count": 3,
     "metadata": {},
     "output_type": "execute_result"
    }
   ],
   "source": [
    "df_adult.head()"
   ]
  },
  {
   "cell_type": "code",
   "execution_count": 4,
   "metadata": {},
   "outputs": [],
   "source": [
    "df_adult.columns=df_adult.columns.str.replace('-','_')"
   ]
  },
  {
   "cell_type": "code",
   "execution_count": 5,
   "metadata": {},
   "outputs": [
    {
     "data": {
      "text/html": [
       "<div>\n",
       "<style scoped>\n",
       "    .dataframe tbody tr th:only-of-type {\n",
       "        vertical-align: middle;\n",
       "    }\n",
       "\n",
       "    .dataframe tbody tr th {\n",
       "        vertical-align: top;\n",
       "    }\n",
       "\n",
       "    .dataframe thead th {\n",
       "        text-align: right;\n",
       "    }\n",
       "</style>\n",
       "<table border=\"1\" class=\"dataframe\">\n",
       "  <thead>\n",
       "    <tr style=\"text-align: right;\">\n",
       "      <th></th>\n",
       "      <th>age</th>\n",
       "      <th>workclass</th>\n",
       "      <th>fnlwgt</th>\n",
       "      <th>education</th>\n",
       "      <th>educational_num</th>\n",
       "      <th>marital_status</th>\n",
       "      <th>occupation</th>\n",
       "      <th>relationship</th>\n",
       "      <th>race</th>\n",
       "      <th>gender</th>\n",
       "      <th>capital_gain</th>\n",
       "      <th>capital_loss</th>\n",
       "      <th>hours_per_week</th>\n",
       "      <th>native_country</th>\n",
       "      <th>income</th>\n",
       "    </tr>\n",
       "  </thead>\n",
       "  <tbody>\n",
       "    <tr>\n",
       "      <th>0</th>\n",
       "      <td>25</td>\n",
       "      <td>Private</td>\n",
       "      <td>226802</td>\n",
       "      <td>11th</td>\n",
       "      <td>7</td>\n",
       "      <td>Never-married</td>\n",
       "      <td>Machine-op-inspct</td>\n",
       "      <td>Own-child</td>\n",
       "      <td>Black</td>\n",
       "      <td>Male</td>\n",
       "      <td>0</td>\n",
       "      <td>0</td>\n",
       "      <td>40</td>\n",
       "      <td>United-States</td>\n",
       "      <td>&lt;=50K</td>\n",
       "    </tr>\n",
       "  </tbody>\n",
       "</table>\n",
       "</div>"
      ],
      "text/plain": [
       "   age workclass  fnlwgt education  educational_num marital_status  \\\n",
       "0   25   Private  226802      11th                7  Never-married   \n",
       "\n",
       "          occupation relationship   race gender  capital_gain  capital_loss  \\\n",
       "0  Machine-op-inspct    Own-child  Black   Male             0             0   \n",
       "\n",
       "   hours_per_week native_country income  \n",
       "0              40  United-States  <=50K  "
      ]
     },
     "execution_count": 5,
     "metadata": {},
     "output_type": "execute_result"
    }
   ],
   "source": [
    "df_adult.head(1)"
   ]
  },
  {
   "cell_type": "code",
   "execution_count": 6,
   "metadata": {},
   "outputs": [
    {
     "name": "stdout",
     "output_type": "stream",
     "text": [
      "(48842, 15)\n",
      "<class 'pandas.core.frame.DataFrame'>\n"
     ]
    }
   ],
   "source": [
    "print(df_adult.shape)\n",
    "print(type(df_adult))"
   ]
  },
  {
   "cell_type": "code",
   "execution_count": 7,
   "metadata": {},
   "outputs": [],
   "source": [
    "## Check the intial data type, null value and unique counts\n",
    "def initial_dataset_check(df):\n",
    "    \"\"\"\n",
    "    A function to make initial check for the dataset including the name, data type, \n",
    "    number of null values and number of unique varialbes for each feature.\n",
    "    \"\"\"\n",
    "    columns = df.columns    \n",
    "    lst = []\n",
    "    for feature in columns : \n",
    "        dtype = df[feature].dtypes\n",
    "        num_null = df[feature].isnull().sum()\n",
    "        num_unique = df[feature].nunique()\n",
    "        lst.append([feature, dtype, num_null, num_unique])\n",
    "    \n",
    "    check_df = pd.DataFrame(lst)\n",
    "    check_df.columns = ['feature','dtype','num_null','num_unique']\n",
    "    check_df = check_df.sort_values(by='dtype', axis=0, ascending=True)\n",
    "    \n",
    "    return check_df"
   ]
  },
  {
   "cell_type": "code",
   "execution_count": 8,
   "metadata": {},
   "outputs": [
    {
     "data": {
      "text/html": [
       "<div>\n",
       "<style scoped>\n",
       "    .dataframe tbody tr th:only-of-type {\n",
       "        vertical-align: middle;\n",
       "    }\n",
       "\n",
       "    .dataframe tbody tr th {\n",
       "        vertical-align: top;\n",
       "    }\n",
       "\n",
       "    .dataframe thead th {\n",
       "        text-align: right;\n",
       "    }\n",
       "</style>\n",
       "<table border=\"1\" class=\"dataframe\">\n",
       "  <thead>\n",
       "    <tr style=\"text-align: right;\">\n",
       "      <th></th>\n",
       "      <th>feature</th>\n",
       "      <th>dtype</th>\n",
       "      <th>num_null</th>\n",
       "      <th>num_unique</th>\n",
       "    </tr>\n",
       "  </thead>\n",
       "  <tbody>\n",
       "    <tr>\n",
       "      <th>0</th>\n",
       "      <td>age</td>\n",
       "      <td>int64</td>\n",
       "      <td>0</td>\n",
       "      <td>74</td>\n",
       "    </tr>\n",
       "    <tr>\n",
       "      <th>2</th>\n",
       "      <td>fnlwgt</td>\n",
       "      <td>int64</td>\n",
       "      <td>0</td>\n",
       "      <td>28523</td>\n",
       "    </tr>\n",
       "    <tr>\n",
       "      <th>4</th>\n",
       "      <td>educational_num</td>\n",
       "      <td>int64</td>\n",
       "      <td>0</td>\n",
       "      <td>16</td>\n",
       "    </tr>\n",
       "    <tr>\n",
       "      <th>10</th>\n",
       "      <td>capital_gain</td>\n",
       "      <td>int64</td>\n",
       "      <td>0</td>\n",
       "      <td>123</td>\n",
       "    </tr>\n",
       "    <tr>\n",
       "      <th>11</th>\n",
       "      <td>capital_loss</td>\n",
       "      <td>int64</td>\n",
       "      <td>0</td>\n",
       "      <td>99</td>\n",
       "    </tr>\n",
       "    <tr>\n",
       "      <th>12</th>\n",
       "      <td>hours_per_week</td>\n",
       "      <td>int64</td>\n",
       "      <td>0</td>\n",
       "      <td>96</td>\n",
       "    </tr>\n",
       "    <tr>\n",
       "      <th>1</th>\n",
       "      <td>workclass</td>\n",
       "      <td>object</td>\n",
       "      <td>0</td>\n",
       "      <td>9</td>\n",
       "    </tr>\n",
       "    <tr>\n",
       "      <th>3</th>\n",
       "      <td>education</td>\n",
       "      <td>object</td>\n",
       "      <td>0</td>\n",
       "      <td>16</td>\n",
       "    </tr>\n",
       "    <tr>\n",
       "      <th>5</th>\n",
       "      <td>marital_status</td>\n",
       "      <td>object</td>\n",
       "      <td>0</td>\n",
       "      <td>7</td>\n",
       "    </tr>\n",
       "    <tr>\n",
       "      <th>6</th>\n",
       "      <td>occupation</td>\n",
       "      <td>object</td>\n",
       "      <td>0</td>\n",
       "      <td>15</td>\n",
       "    </tr>\n",
       "    <tr>\n",
       "      <th>7</th>\n",
       "      <td>relationship</td>\n",
       "      <td>object</td>\n",
       "      <td>0</td>\n",
       "      <td>6</td>\n",
       "    </tr>\n",
       "    <tr>\n",
       "      <th>8</th>\n",
       "      <td>race</td>\n",
       "      <td>object</td>\n",
       "      <td>0</td>\n",
       "      <td>5</td>\n",
       "    </tr>\n",
       "    <tr>\n",
       "      <th>9</th>\n",
       "      <td>gender</td>\n",
       "      <td>object</td>\n",
       "      <td>0</td>\n",
       "      <td>2</td>\n",
       "    </tr>\n",
       "    <tr>\n",
       "      <th>13</th>\n",
       "      <td>native_country</td>\n",
       "      <td>object</td>\n",
       "      <td>0</td>\n",
       "      <td>42</td>\n",
       "    </tr>\n",
       "    <tr>\n",
       "      <th>14</th>\n",
       "      <td>income</td>\n",
       "      <td>object</td>\n",
       "      <td>0</td>\n",
       "      <td>2</td>\n",
       "    </tr>\n",
       "  </tbody>\n",
       "</table>\n",
       "</div>"
      ],
      "text/plain": [
       "            feature   dtype  num_null  num_unique\n",
       "0               age   int64         0          74\n",
       "2            fnlwgt   int64         0       28523\n",
       "4   educational_num   int64         0          16\n",
       "10     capital_gain   int64         0         123\n",
       "11     capital_loss   int64         0          99\n",
       "12   hours_per_week   int64         0          96\n",
       "1         workclass  object         0           9\n",
       "3         education  object         0          16\n",
       "5    marital_status  object         0           7\n",
       "6        occupation  object         0          15\n",
       "7      relationship  object         0           6\n",
       "8              race  object         0           5\n",
       "9            gender  object         0           2\n",
       "13   native_country  object         0          42\n",
       "14           income  object         0           2"
      ]
     },
     "execution_count": 8,
     "metadata": {},
     "output_type": "execute_result"
    }
   ],
   "source": [
    "initial_dataset_check(df_adult)"
   ]
  },
  {
   "cell_type": "code",
   "execution_count": 9,
   "metadata": {},
   "outputs": [
    {
     "name": "stdout",
     "output_type": "stream",
     "text": [
      "['<=50K' '>50K']\n"
     ]
    }
   ],
   "source": [
    "print(df_adult.income.unique())"
   ]
  },
  {
   "cell_type": "code",
   "execution_count": 10,
   "metadata": {},
   "outputs": [],
   "source": [
    "## We can convert the value with 0 and 1\n",
    "## <=50K == 0 and  >50K ==1\n",
    "df_adult[\"income\"] = df_adult[\"income\"].map({\"<=50K\" : 0 , \">50K\":1})"
   ]
  },
  {
   "cell_type": "code",
   "execution_count": 11,
   "metadata": {},
   "outputs": [
    {
     "data": {
      "text/plain": [
       "[0, 1]"
      ]
     },
     "execution_count": 11,
     "metadata": {},
     "output_type": "execute_result"
    }
   ],
   "source": [
    "income = list(df_adult.income.unique())\n",
    "income"
   ]
  },
  {
   "cell_type": "code",
   "execution_count": 12,
   "metadata": {},
   "outputs": [
    {
     "data": {
      "text/plain": [
       "(48842, 15)"
      ]
     },
     "execution_count": 12,
     "metadata": {},
     "output_type": "execute_result"
    }
   ],
   "source": [
    "df_adult.loc[(df_adult['workclass'] == \"?\") & (df_adult['occupation'] == \"?\")]\n",
    "df_adult.shape"
   ]
  },
  {
   "cell_type": "code",
   "execution_count": 15,
   "metadata": {},
   "outputs": [
    {
     "data": {
      "text/plain": [
       "(45222, 15)"
      ]
     },
     "execution_count": 15,
     "metadata": {},
     "output_type": "execute_result"
    }
   ],
   "source": [
    "### There are 14 columns which have \"?\" so lets drop these rows \n",
    "##df_adult = df_adult[df_adult.workclass != \"?\"]\n",
    "df_adult = df_adult[(df_adult != '?').all(axis=1)]\n",
    "df_adult.shape"
   ]
  },
  {
   "cell_type": "code",
   "execution_count": 16,
   "metadata": {},
   "outputs": [
    {
     "name": "stdout",
     "output_type": "stream",
     "text": [
      "<class 'pandas.core.frame.DataFrame'>\n",
      "Int64Index: 45222 entries, 0 to 48841\n",
      "Data columns (total 15 columns):\n",
      " #   Column           Non-Null Count  Dtype \n",
      "---  ------           --------------  ----- \n",
      " 0   age              45222 non-null  int64 \n",
      " 1   workclass        45222 non-null  object\n",
      " 2   fnlwgt           45222 non-null  int64 \n",
      " 3   education        45222 non-null  object\n",
      " 4   educational_num  45222 non-null  int64 \n",
      " 5   marital_status   45222 non-null  object\n",
      " 6   occupation       45222 non-null  object\n",
      " 7   relationship     45222 non-null  object\n",
      " 8   race             45222 non-null  object\n",
      " 9   gender           45222 non-null  object\n",
      " 10  capital_gain     45222 non-null  int64 \n",
      " 11  capital_loss     45222 non-null  int64 \n",
      " 12  hours_per_week   45222 non-null  int64 \n",
      " 13  native_country   45222 non-null  object\n",
      " 14  income           45222 non-null  int64 \n",
      "dtypes: int64(7), object(8)\n",
      "memory usage: 5.5+ MB\n"
     ]
    }
   ],
   "source": [
    "df_adult.info()"
   ]
  },
  {
   "cell_type": "markdown",
   "metadata": {},
   "source": [
    "## Data Analysis"
   ]
  },
  {
   "cell_type": "code",
   "execution_count": 17,
   "metadata": {},
   "outputs": [
    {
     "data": {
      "text/html": [
       "<div>\n",
       "<style scoped>\n",
       "    .dataframe tbody tr th:only-of-type {\n",
       "        vertical-align: middle;\n",
       "    }\n",
       "\n",
       "    .dataframe tbody tr th {\n",
       "        vertical-align: top;\n",
       "    }\n",
       "\n",
       "    .dataframe thead th {\n",
       "        text-align: right;\n",
       "    }\n",
       "</style>\n",
       "<table border=\"1\" class=\"dataframe\">\n",
       "  <thead>\n",
       "    <tr style=\"text-align: right;\">\n",
       "      <th></th>\n",
       "      <th>educational_num</th>\n",
       "      <th>education</th>\n",
       "      <th>Freq</th>\n",
       "    </tr>\n",
       "  </thead>\n",
       "  <tbody>\n",
       "    <tr>\n",
       "      <th>0</th>\n",
       "      <td>1</td>\n",
       "      <td>Preschool</td>\n",
       "      <td>72</td>\n",
       "    </tr>\n",
       "    <tr>\n",
       "      <th>1</th>\n",
       "      <td>2</td>\n",
       "      <td>1st-4th</td>\n",
       "      <td>222</td>\n",
       "    </tr>\n",
       "    <tr>\n",
       "      <th>2</th>\n",
       "      <td>3</td>\n",
       "      <td>5th-6th</td>\n",
       "      <td>449</td>\n",
       "    </tr>\n",
       "    <tr>\n",
       "      <th>3</th>\n",
       "      <td>4</td>\n",
       "      <td>7th-8th</td>\n",
       "      <td>823</td>\n",
       "    </tr>\n",
       "    <tr>\n",
       "      <th>4</th>\n",
       "      <td>5</td>\n",
       "      <td>9th</td>\n",
       "      <td>676</td>\n",
       "    </tr>\n",
       "    <tr>\n",
       "      <th>5</th>\n",
       "      <td>6</td>\n",
       "      <td>10th</td>\n",
       "      <td>1223</td>\n",
       "    </tr>\n",
       "    <tr>\n",
       "      <th>6</th>\n",
       "      <td>7</td>\n",
       "      <td>11th</td>\n",
       "      <td>1619</td>\n",
       "    </tr>\n",
       "    <tr>\n",
       "      <th>7</th>\n",
       "      <td>8</td>\n",
       "      <td>12th</td>\n",
       "      <td>577</td>\n",
       "    </tr>\n",
       "    <tr>\n",
       "      <th>8</th>\n",
       "      <td>9</td>\n",
       "      <td>HS-grad</td>\n",
       "      <td>14783</td>\n",
       "    </tr>\n",
       "    <tr>\n",
       "      <th>9</th>\n",
       "      <td>10</td>\n",
       "      <td>Some-college</td>\n",
       "      <td>9899</td>\n",
       "    </tr>\n",
       "    <tr>\n",
       "      <th>10</th>\n",
       "      <td>11</td>\n",
       "      <td>Assoc-voc</td>\n",
       "      <td>1959</td>\n",
       "    </tr>\n",
       "    <tr>\n",
       "      <th>11</th>\n",
       "      <td>12</td>\n",
       "      <td>Assoc-acdm</td>\n",
       "      <td>1507</td>\n",
       "    </tr>\n",
       "    <tr>\n",
       "      <th>12</th>\n",
       "      <td>13</td>\n",
       "      <td>Bachelors</td>\n",
       "      <td>7570</td>\n",
       "    </tr>\n",
       "    <tr>\n",
       "      <th>13</th>\n",
       "      <td>14</td>\n",
       "      <td>Masters</td>\n",
       "      <td>2514</td>\n",
       "    </tr>\n",
       "    <tr>\n",
       "      <th>14</th>\n",
       "      <td>15</td>\n",
       "      <td>Prof-school</td>\n",
       "      <td>785</td>\n",
       "    </tr>\n",
       "    <tr>\n",
       "      <th>15</th>\n",
       "      <td>16</td>\n",
       "      <td>Doctorate</td>\n",
       "      <td>544</td>\n",
       "    </tr>\n",
       "  </tbody>\n",
       "</table>\n",
       "</div>"
      ],
      "text/plain": [
       "    educational_num     education   Freq\n",
       "0                 1     Preschool     72\n",
       "1                 2       1st-4th    222\n",
       "2                 3       5th-6th    449\n",
       "3                 4       7th-8th    823\n",
       "4                 5           9th    676\n",
       "5                 6          10th   1223\n",
       "6                 7          11th   1619\n",
       "7                 8          12th    577\n",
       "8                 9       HS-grad  14783\n",
       "9                10  Some-college   9899\n",
       "10               11     Assoc-voc   1959\n",
       "11               12    Assoc-acdm   1507\n",
       "12               13     Bachelors   7570\n",
       "13               14       Masters   2514\n",
       "14               15   Prof-school    785\n",
       "15               16     Doctorate    544"
      ]
     },
     "execution_count": 17,
     "metadata": {},
     "output_type": "execute_result"
    }
   ],
   "source": [
    "df_adult.groupby(['educational_num', 'education']).size().reset_index(name='Freq')"
   ]
  },
  {
   "cell_type": "code",
   "execution_count": 18,
   "metadata": {},
   "outputs": [
    {
     "data": {
      "text/plain": [
       "educational_num  education   \n",
       "1                Preschool          72\n",
       "2                1st-4th           222\n",
       "3                5th-6th           449\n",
       "4                7th-8th           823\n",
       "5                9th               676\n",
       "6                10th             1223\n",
       "7                11th             1619\n",
       "8                12th              577\n",
       "9                HS-grad         14783\n",
       "10               Some-college     9899\n",
       "11               Assoc-voc        1959\n",
       "12               Assoc-acdm       1507\n",
       "13               Bachelors        7570\n",
       "14               Masters          2514\n",
       "15               Prof-school       785\n",
       "16               Doctorate         544\n",
       "dtype: int64"
      ]
     },
     "execution_count": 18,
     "metadata": {},
     "output_type": "execute_result"
    }
   ],
   "source": [
    "df_adult.groupby(['educational_num', 'education']).size()"
   ]
  },
  {
   "cell_type": "markdown",
   "metadata": {},
   "source": [
    "We can see both columns 'educational_num', 'education' are same so One colun is enough, we can delete any column out of two."
   ]
  },
  {
   "cell_type": "code",
   "execution_count": 19,
   "metadata": {},
   "outputs": [
    {
     "data": {
      "text/plain": [
       "United-States                 41292\n",
       "Mexico                          903\n",
       "Philippines                     283\n",
       "Germany                         193\n",
       "Puerto-Rico                     175\n",
       "Canada                          163\n",
       "El-Salvador                     147\n",
       "India                           147\n",
       "Cuba                            133\n",
       "England                         119\n",
       "China                           113\n",
       "Jamaica                         103\n",
       "South                           101\n",
       "Italy                           100\n",
       "Dominican-Republic               97\n",
       "Japan                            89\n",
       "Guatemala                        86\n",
       "Vietnam                          83\n",
       "Columbia                         82\n",
       "Poland                           81\n",
       "Haiti                            69\n",
       "Portugal                         62\n",
       "Iran                             56\n",
       "Taiwan                           55\n",
       "Greece                           49\n",
       "Nicaragua                        48\n",
       "Peru                             45\n",
       "Ecuador                          43\n",
       "Ireland                          36\n",
       "France                           36\n",
       "Thailand                         29\n",
       "Hong                             28\n",
       "Cambodia                         26\n",
       "Trinadad&Tobago                  26\n",
       "Yugoslavia                       23\n",
       "Outlying-US(Guam-USVI-etc)       22\n",
       "Laos                             21\n",
       "Scotland                         20\n",
       "Honduras                         19\n",
       "Hungary                          18\n",
       "Holand-Netherlands                1\n",
       "Name: native_country, dtype: int64"
      ]
     },
     "execution_count": 19,
     "metadata": {},
     "output_type": "execute_result"
    }
   ],
   "source": [
    "df_adult.native_country.value_counts()"
   ]
  },
  {
   "cell_type": "code",
   "execution_count": 20,
   "metadata": {},
   "outputs": [
    {
     "data": {
      "text/html": [
       "<div>\n",
       "<style scoped>\n",
       "    .dataframe tbody tr th:only-of-type {\n",
       "        vertical-align: middle;\n",
       "    }\n",
       "\n",
       "    .dataframe tbody tr th {\n",
       "        vertical-align: top;\n",
       "    }\n",
       "\n",
       "    .dataframe thead th {\n",
       "        text-align: right;\n",
       "    }\n",
       "</style>\n",
       "<table border=\"1\" class=\"dataframe\">\n",
       "  <thead>\n",
       "    <tr style=\"text-align: right;\">\n",
       "      <th></th>\n",
       "      <th>income</th>\n",
       "      <th>native_country</th>\n",
       "      <th>Freq</th>\n",
       "    </tr>\n",
       "  </thead>\n",
       "  <tbody>\n",
       "    <tr>\n",
       "      <th>0</th>\n",
       "      <td>0</td>\n",
       "      <td>Cambodia</td>\n",
       "      <td>17</td>\n",
       "    </tr>\n",
       "    <tr>\n",
       "      <th>1</th>\n",
       "      <td>0</td>\n",
       "      <td>Canada</td>\n",
       "      <td>103</td>\n",
       "    </tr>\n",
       "    <tr>\n",
       "      <th>2</th>\n",
       "      <td>0</td>\n",
       "      <td>China</td>\n",
       "      <td>77</td>\n",
       "    </tr>\n",
       "    <tr>\n",
       "      <th>3</th>\n",
       "      <td>0</td>\n",
       "      <td>Columbia</td>\n",
       "      <td>78</td>\n",
       "    </tr>\n",
       "    <tr>\n",
       "      <th>4</th>\n",
       "      <td>0</td>\n",
       "      <td>Cuba</td>\n",
       "      <td>99</td>\n",
       "    </tr>\n",
       "    <tr>\n",
       "      <th>...</th>\n",
       "      <td>...</td>\n",
       "      <td>...</td>\n",
       "      <td>...</td>\n",
       "    </tr>\n",
       "    <tr>\n",
       "      <th>76</th>\n",
       "      <td>1</td>\n",
       "      <td>Thailand</td>\n",
       "      <td>5</td>\n",
       "    </tr>\n",
       "    <tr>\n",
       "      <th>77</th>\n",
       "      <td>1</td>\n",
       "      <td>Trinadad&amp;Tobago</td>\n",
       "      <td>2</td>\n",
       "    </tr>\n",
       "    <tr>\n",
       "      <th>78</th>\n",
       "      <td>1</td>\n",
       "      <td>United-States</td>\n",
       "      <td>10448</td>\n",
       "    </tr>\n",
       "    <tr>\n",
       "      <th>79</th>\n",
       "      <td>1</td>\n",
       "      <td>Vietnam</td>\n",
       "      <td>7</td>\n",
       "    </tr>\n",
       "    <tr>\n",
       "      <th>80</th>\n",
       "      <td>1</td>\n",
       "      <td>Yugoslavia</td>\n",
       "      <td>8</td>\n",
       "    </tr>\n",
       "  </tbody>\n",
       "</table>\n",
       "<p>81 rows × 3 columns</p>\n",
       "</div>"
      ],
      "text/plain": [
       "    income   native_country   Freq\n",
       "0        0         Cambodia     17\n",
       "1        0           Canada    103\n",
       "2        0            China     77\n",
       "3        0         Columbia     78\n",
       "4        0             Cuba     99\n",
       "..     ...              ...    ...\n",
       "76       1         Thailand      5\n",
       "77       1  Trinadad&Tobago      2\n",
       "78       1    United-States  10448\n",
       "79       1          Vietnam      7\n",
       "80       1       Yugoslavia      8\n",
       "\n",
       "[81 rows x 3 columns]"
      ]
     },
     "execution_count": 20,
     "metadata": {},
     "output_type": "execute_result"
    }
   ],
   "source": [
    "df_adult.groupby([\"income\",\"native_country\"]).size().reset_index(name='Freq')"
   ]
  },
  {
   "cell_type": "code",
   "execution_count": 21,
   "metadata": {},
   "outputs": [
    {
     "data": {
      "image/png": "[encoded data removed]",
      "text/plain": [
       "<Figure size 1080x1080 with 1 Axes>"
      ]
     },
     "metadata": {
      "needs_background": "light"
     },
     "output_type": "display_data"
    }
   ],
   "source": [
    "#explore which country do most people belong\n",
    "sns.countplot(y='native_country',data=df_adult,hue=\"income\")\n",
    "plt.gcf().set_size_inches(15,15)"
   ]
  },
  {
   "cell_type": "markdown",
   "metadata": {},
   "source": [
    "Here most people are from the USA,so we can drop this column as it creates unnecessary bias."
   ]
  },
  {
   "cell_type": "code",
   "execution_count": 22,
   "metadata": {},
   "outputs": [
    {
     "data": {
      "image/png": "[encoded data removed]",
      "text/plain": [
       "<Figure size 1008x360 with 1 Axes>"
      ]
     },
     "metadata": {
      "needs_background": "light"
     },
     "output_type": "display_data"
    }
   ],
   "source": [
    "#marital.status vs income\n",
    "sns.catplot(x='marital_status',y='income',data=df_adult,kind='bar')  ## can use height=5, aspect=12/5\n",
    "plt.gcf().set_size_inches(14, 5)"
   ]
  },
  {
   "cell_type": "code",
   "execution_count": 23,
   "metadata": {},
   "outputs": [
    {
     "data": {
      "image/png": "[encoded data removed]",
      "text/plain": [
       "<Figure size 720x360 with 1 Axes>"
      ]
     },
     "metadata": {
      "needs_background": "light"
     },
     "output_type": "display_data"
    }
   ],
   "source": [
    "#relationship vs income\n",
    "sns.catplot(x='relationship',y='income',data=df_adult,kind='bar')\n",
    "plt.gcf().set_size_inches(10,5)"
   ]
  },
  {
   "cell_type": "markdown",
   "metadata": {},
   "source": [
    "You can clearly see that \"relationship\" and \"marital.status\", look similar i.e. tell us the same thing.\n",
    "We will look how these are similiar later."
   ]
  },
  {
   "cell_type": "markdown",
   "metadata": {},
   "source": [
    "### Feature Engineering"
   ]
  },
  {
   "cell_type": "code",
   "execution_count": 24,
   "metadata": {},
   "outputs": [
    {
     "data": {
      "text/plain": [
       "array(['Never-married', 'Married-civ-spouse', 'Widowed', 'Separated',\n",
       "       'Divorced', 'Married-spouse-absent', 'Married-AF-spouse'],\n",
       "      dtype=object)"
      ]
     },
     "execution_count": 24,
     "metadata": {},
     "output_type": "execute_result"
    }
   ],
   "source": [
    "df_adult[\"marital_status\"].unique()"
   ]
  },
  {
   "cell_type": "code",
   "execution_count": 25,
   "metadata": {},
   "outputs": [],
   "source": [
    "#we can reformat marital.status values to single and married\n",
    "df_adult[\"marital_status\"]=df_adult[\"marital_status\"].map({\"Married-civ-spouse\":\"Married\",\"Divorced\":\"Single\", \"Never-married\":\"Single\", \"Separated\":\"Single\", \n",
    "\"Widowed\":\"Single\", \"Married-spouse-absent\":\"Married\", \"Married-AF-spouse\":\"Married\"})"
   ]
  },
  {
   "cell_type": "code",
   "execution_count": 26,
   "metadata": {},
   "outputs": [
    {
     "data": {
      "text/plain": [
       "array(['Single', 'Married'], dtype=object)"
      ]
     },
     "execution_count": 26,
     "metadata": {},
     "output_type": "execute_result"
    }
   ],
   "source": [
    "df_adult[\"marital_status\"].unique()"
   ]
  },
  {
   "cell_type": "code",
   "execution_count": 27,
   "metadata": {},
   "outputs": [],
   "source": [
    "##Lets plot the categorical data\n",
    "cat_cols = df_adult.select_dtypes(\"object\").columns"
   ]
  },
  {
   "cell_type": "code",
   "execution_count": 28,
   "metadata": {},
   "outputs": [
    {
     "data": {
      "text/plain": [
       "Index(['workclass', 'education', 'marital_status', 'occupation',\n",
       "       'relationship', 'race', 'gender', 'native_country'],\n",
       "      dtype='object')"
      ]
     },
     "execution_count": 28,
     "metadata": {},
     "output_type": "execute_result"
    }
   ],
   "source": [
    "cat_cols"
   ]
  },
  {
   "cell_type": "code",
   "execution_count": 29,
   "metadata": {},
   "outputs": [],
   "source": [
    "lb = LabelEncoder()"
   ]
  },
  {
   "cell_type": "code",
   "execution_count": 30,
   "metadata": {},
   "outputs": [],
   "source": [
    "for col in cat_cols:\n",
    "    df_adult[col] = lb.fit_transform(df_adult[col])\n"
   ]
  },
  {
   "cell_type": "code",
   "execution_count": 31,
   "metadata": {},
   "outputs": [
    {
     "data": {
      "text/html": [
       "<div>\n",
       "<style scoped>\n",
       "    .dataframe tbody tr th:only-of-type {\n",
       "        vertical-align: middle;\n",
       "    }\n",
       "\n",
       "    .dataframe tbody tr th {\n",
       "        vertical-align: top;\n",
       "    }\n",
       "\n",
       "    .dataframe thead th {\n",
       "        text-align: right;\n",
       "    }\n",
       "</style>\n",
       "<table border=\"1\" class=\"dataframe\">\n",
       "  <thead>\n",
       "    <tr style=\"text-align: right;\">\n",
       "      <th></th>\n",
       "      <th>age</th>\n",
       "      <th>workclass</th>\n",
       "      <th>fnlwgt</th>\n",
       "      <th>education</th>\n",
       "      <th>educational_num</th>\n",
       "      <th>marital_status</th>\n",
       "      <th>occupation</th>\n",
       "      <th>relationship</th>\n",
       "      <th>race</th>\n",
       "      <th>gender</th>\n",
       "      <th>capital_gain</th>\n",
       "      <th>capital_loss</th>\n",
       "      <th>hours_per_week</th>\n",
       "      <th>native_country</th>\n",
       "      <th>income</th>\n",
       "    </tr>\n",
       "  </thead>\n",
       "  <tbody>\n",
       "    <tr>\n",
       "      <th>0</th>\n",
       "      <td>25</td>\n",
       "      <td>2</td>\n",
       "      <td>226802</td>\n",
       "      <td>1</td>\n",
       "      <td>7</td>\n",
       "      <td>1</td>\n",
       "      <td>6</td>\n",
       "      <td>3</td>\n",
       "      <td>2</td>\n",
       "      <td>1</td>\n",
       "      <td>0</td>\n",
       "      <td>0</td>\n",
       "      <td>40</td>\n",
       "      <td>38</td>\n",
       "      <td>0</td>\n",
       "    </tr>\n",
       "    <tr>\n",
       "      <th>1</th>\n",
       "      <td>38</td>\n",
       "      <td>2</td>\n",
       "      <td>89814</td>\n",
       "      <td>11</td>\n",
       "      <td>9</td>\n",
       "      <td>0</td>\n",
       "      <td>4</td>\n",
       "      <td>0</td>\n",
       "      <td>4</td>\n",
       "      <td>1</td>\n",
       "      <td>0</td>\n",
       "      <td>0</td>\n",
       "      <td>50</td>\n",
       "      <td>38</td>\n",
       "      <td>0</td>\n",
       "    </tr>\n",
       "    <tr>\n",
       "      <th>2</th>\n",
       "      <td>28</td>\n",
       "      <td>1</td>\n",
       "      <td>336951</td>\n",
       "      <td>7</td>\n",
       "      <td>12</td>\n",
       "      <td>0</td>\n",
       "      <td>10</td>\n",
       "      <td>0</td>\n",
       "      <td>4</td>\n",
       "      <td>1</td>\n",
       "      <td>0</td>\n",
       "      <td>0</td>\n",
       "      <td>40</td>\n",
       "      <td>38</td>\n",
       "      <td>1</td>\n",
       "    </tr>\n",
       "    <tr>\n",
       "      <th>3</th>\n",
       "      <td>44</td>\n",
       "      <td>2</td>\n",
       "      <td>160323</td>\n",
       "      <td>15</td>\n",
       "      <td>10</td>\n",
       "      <td>0</td>\n",
       "      <td>6</td>\n",
       "      <td>0</td>\n",
       "      <td>2</td>\n",
       "      <td>1</td>\n",
       "      <td>7688</td>\n",
       "      <td>0</td>\n",
       "      <td>40</td>\n",
       "      <td>38</td>\n",
       "      <td>1</td>\n",
       "    </tr>\n",
       "    <tr>\n",
       "      <th>5</th>\n",
       "      <td>34</td>\n",
       "      <td>2</td>\n",
       "      <td>198693</td>\n",
       "      <td>0</td>\n",
       "      <td>6</td>\n",
       "      <td>1</td>\n",
       "      <td>7</td>\n",
       "      <td>1</td>\n",
       "      <td>4</td>\n",
       "      <td>1</td>\n",
       "      <td>0</td>\n",
       "      <td>0</td>\n",
       "      <td>30</td>\n",
       "      <td>38</td>\n",
       "      <td>0</td>\n",
       "    </tr>\n",
       "  </tbody>\n",
       "</table>\n",
       "</div>"
      ],
      "text/plain": [
       "   age  workclass  fnlwgt  education  educational_num  marital_status  \\\n",
       "0   25          2  226802          1                7               1   \n",
       "1   38          2   89814         11                9               0   \n",
       "2   28          1  336951          7               12               0   \n",
       "3   44          2  160323         15               10               0   \n",
       "5   34          2  198693          0                6               1   \n",
       "\n",
       "   occupation  relationship  race  gender  capital_gain  capital_loss  \\\n",
       "0           6             3     2       1             0             0   \n",
       "1           4             0     4       1             0             0   \n",
       "2          10             0     4       1             0             0   \n",
       "3           6             0     2       1          7688             0   \n",
       "5           7             1     4       1             0             0   \n",
       "\n",
       "   hours_per_week  native_country  income  \n",
       "0              40              38       0  \n",
       "1              50              38       0  \n",
       "2              40              38       1  \n",
       "3              40              38       1  \n",
       "5              30              38       0  "
      ]
     },
     "execution_count": 31,
     "metadata": {},
     "output_type": "execute_result"
    }
   ],
   "source": [
    "df_adult.head()"
   ]
  },
  {
   "cell_type": "code",
   "execution_count": 32,
   "metadata": {},
   "outputs": [
    {
     "name": "stdout",
     "output_type": "stream",
     "text": [
      "<class 'pandas.core.frame.DataFrame'>\n",
      "Int64Index: 45222 entries, 0 to 48841\n",
      "Data columns (total 15 columns):\n",
      " #   Column           Non-Null Count  Dtype\n",
      "---  ------           --------------  -----\n",
      " 0   age              45222 non-null  int64\n",
      " 1   workclass        45222 non-null  int32\n",
      " 2   fnlwgt           45222 non-null  int64\n",
      " 3   education        45222 non-null  int32\n",
      " 4   educational_num  45222 non-null  int64\n",
      " 5   marital_status   45222 non-null  int32\n",
      " 6   occupation       45222 non-null  int32\n",
      " 7   relationship     45222 non-null  int32\n",
      " 8   race             45222 non-null  int32\n",
      " 9   gender           45222 non-null  int32\n",
      " 10  capital_gain     45222 non-null  int64\n",
      " 11  capital_loss     45222 non-null  int64\n",
      " 12  hours_per_week   45222 non-null  int64\n",
      " 13  native_country   45222 non-null  int32\n",
      " 14  income           45222 non-null  int64\n",
      "dtypes: int32(8), int64(7)\n",
      "memory usage: 5.4 MB\n"
     ]
    }
   ],
   "source": [
    "df_adult.info()"
   ]
  },
  {
   "cell_type": "code",
   "execution_count": 33,
   "metadata": {},
   "outputs": [
    {
     "data": {
      "text/plain": [
       "<matplotlib.axes._subplots.AxesSubplot at 0x22acff4bf48>"
      ]
     },
     "execution_count": 33,
     "metadata": {},
     "output_type": "execute_result"
    },
    {
     "data": {
      "image/png": "[encoded data removed]",
      "text/plain": [
       "<Figure size 720x504 with 2 Axes>"
      ]
     },
     "metadata": {
      "needs_background": "light"
     },
     "output_type": "display_data"
    }
   ],
   "source": [
    "## Lest check the co-relations\n",
    "plt.figure(figsize=(10,7))\n",
    "sns.heatmap(df_adult.iloc[:,:-1].corr(),annot=True,fmt='.2f',cmap = \"YlGnBu\") ## Only Independant Variables"
   ]
  },
  {
   "cell_type": "markdown",
   "metadata": {},
   "source": [
    "As we can see from the heatmap \"education\" and \"education.num\" are highly correlated and also we can see earlier both are highly corelated, same can be said about the \"marital.status\" and \"relationship\" ,thus,we can drop \"relationship\" and \"education\".\n"
   ]
  },
  {
   "cell_type": "code",
   "execution_count": 34,
   "metadata": {},
   "outputs": [],
   "source": [
    "df_adult = df_adult.drop(['relationship','education'],axis=1)"
   ]
  },
  {
   "cell_type": "markdown",
   "metadata": {},
   "source": [
    "Also we drop the \"native.country\" as more are from single country(USA) which can cause bias."
   ]
  },
  {
   "cell_type": "code",
   "execution_count": 35,
   "metadata": {},
   "outputs": [],
   "source": [
    "df_adult = df_adult.drop(\"native_country\",axis=1)"
   ]
  },
  {
   "cell_type": "code",
   "execution_count": 36,
   "metadata": {},
   "outputs": [
    {
     "data": {
      "text/html": [
       "<div>\n",
       "<style scoped>\n",
       "    .dataframe tbody tr th:only-of-type {\n",
       "        vertical-align: middle;\n",
       "    }\n",
       "\n",
       "    .dataframe tbody tr th {\n",
       "        vertical-align: top;\n",
       "    }\n",
       "\n",
       "    .dataframe thead th {\n",
       "        text-align: right;\n",
       "    }\n",
       "</style>\n",
       "<table border=\"1\" class=\"dataframe\">\n",
       "  <thead>\n",
       "    <tr style=\"text-align: right;\">\n",
       "      <th></th>\n",
       "      <th>age</th>\n",
       "      <th>workclass</th>\n",
       "      <th>fnlwgt</th>\n",
       "      <th>educational_num</th>\n",
       "      <th>marital_status</th>\n",
       "      <th>occupation</th>\n",
       "      <th>race</th>\n",
       "      <th>gender</th>\n",
       "      <th>capital_gain</th>\n",
       "      <th>capital_loss</th>\n",
       "      <th>hours_per_week</th>\n",
       "      <th>income</th>\n",
       "    </tr>\n",
       "  </thead>\n",
       "  <tbody>\n",
       "    <tr>\n",
       "      <th>0</th>\n",
       "      <td>25</td>\n",
       "      <td>2</td>\n",
       "      <td>226802</td>\n",
       "      <td>7</td>\n",
       "      <td>1</td>\n",
       "      <td>6</td>\n",
       "      <td>2</td>\n",
       "      <td>1</td>\n",
       "      <td>0</td>\n",
       "      <td>0</td>\n",
       "      <td>40</td>\n",
       "      <td>0</td>\n",
       "    </tr>\n",
       "    <tr>\n",
       "      <th>1</th>\n",
       "      <td>38</td>\n",
       "      <td>2</td>\n",
       "      <td>89814</td>\n",
       "      <td>9</td>\n",
       "      <td>0</td>\n",
       "      <td>4</td>\n",
       "      <td>4</td>\n",
       "      <td>1</td>\n",
       "      <td>0</td>\n",
       "      <td>0</td>\n",
       "      <td>50</td>\n",
       "      <td>0</td>\n",
       "    </tr>\n",
       "    <tr>\n",
       "      <th>2</th>\n",
       "      <td>28</td>\n",
       "      <td>1</td>\n",
       "      <td>336951</td>\n",
       "      <td>12</td>\n",
       "      <td>0</td>\n",
       "      <td>10</td>\n",
       "      <td>4</td>\n",
       "      <td>1</td>\n",
       "      <td>0</td>\n",
       "      <td>0</td>\n",
       "      <td>40</td>\n",
       "      <td>1</td>\n",
       "    </tr>\n",
       "    <tr>\n",
       "      <th>3</th>\n",
       "      <td>44</td>\n",
       "      <td>2</td>\n",
       "      <td>160323</td>\n",
       "      <td>10</td>\n",
       "      <td>0</td>\n",
       "      <td>6</td>\n",
       "      <td>2</td>\n",
       "      <td>1</td>\n",
       "      <td>7688</td>\n",
       "      <td>0</td>\n",
       "      <td>40</td>\n",
       "      <td>1</td>\n",
       "    </tr>\n",
       "    <tr>\n",
       "      <th>5</th>\n",
       "      <td>34</td>\n",
       "      <td>2</td>\n",
       "      <td>198693</td>\n",
       "      <td>6</td>\n",
       "      <td>1</td>\n",
       "      <td>7</td>\n",
       "      <td>4</td>\n",
       "      <td>1</td>\n",
       "      <td>0</td>\n",
       "      <td>0</td>\n",
       "      <td>30</td>\n",
       "      <td>0</td>\n",
       "    </tr>\n",
       "  </tbody>\n",
       "</table>\n",
       "</div>"
      ],
      "text/plain": [
       "   age  workclass  fnlwgt  educational_num  marital_status  occupation  race  \\\n",
       "0   25          2  226802                7               1           6     2   \n",
       "1   38          2   89814                9               0           4     4   \n",
       "2   28          1  336951               12               0          10     4   \n",
       "3   44          2  160323               10               0           6     2   \n",
       "5   34          2  198693                6               1           7     4   \n",
       "\n",
       "   gender  capital_gain  capital_loss  hours_per_week  income  \n",
       "0       1             0             0              40       0  \n",
       "1       1             0             0              50       0  \n",
       "2       1             0             0              40       1  \n",
       "3       1          7688             0              40       1  \n",
       "5       1             0             0              30       0  "
      ]
     },
     "execution_count": 36,
     "metadata": {},
     "output_type": "execute_result"
    }
   ],
   "source": [
    "df_adult.head()"
   ]
  },
  {
   "cell_type": "code",
   "execution_count": 37,
   "metadata": {},
   "outputs": [
    {
     "data": {
      "text/html": [
       "<div>\n",
       "<style scoped>\n",
       "    .dataframe tbody tr th:only-of-type {\n",
       "        vertical-align: middle;\n",
       "    }\n",
       "\n",
       "    .dataframe tbody tr th {\n",
       "        vertical-align: top;\n",
       "    }\n",
       "\n",
       "    .dataframe thead th {\n",
       "        text-align: right;\n",
       "    }\n",
       "</style>\n",
       "<table border=\"1\" class=\"dataframe\">\n",
       "  <thead>\n",
       "    <tr style=\"text-align: right;\">\n",
       "      <th></th>\n",
       "      <th>age</th>\n",
       "      <th>workclass</th>\n",
       "      <th>fnlwgt</th>\n",
       "      <th>educational_num</th>\n",
       "      <th>marital_status</th>\n",
       "      <th>occupation</th>\n",
       "      <th>race</th>\n",
       "      <th>gender</th>\n",
       "      <th>capital_gain</th>\n",
       "      <th>capital_loss</th>\n",
       "      <th>hours_per_week</th>\n",
       "      <th>income</th>\n",
       "    </tr>\n",
       "  </thead>\n",
       "  <tbody>\n",
       "    <tr>\n",
       "      <th>count</th>\n",
       "      <td>45222.000000</td>\n",
       "      <td>45222.000000</td>\n",
       "      <td>4.522200e+04</td>\n",
       "      <td>45222.000000</td>\n",
       "      <td>45222.000000</td>\n",
       "      <td>45222.000000</td>\n",
       "      <td>45222.000000</td>\n",
       "      <td>45222.000000</td>\n",
       "      <td>45222.000000</td>\n",
       "      <td>45222.000000</td>\n",
       "      <td>45222.000000</td>\n",
       "      <td>45222.000000</td>\n",
       "    </tr>\n",
       "    <tr>\n",
       "      <th>mean</th>\n",
       "      <td>38.547941</td>\n",
       "      <td>2.204502</td>\n",
       "      <td>1.897347e+05</td>\n",
       "      <td>10.118460</td>\n",
       "      <td>0.521494</td>\n",
       "      <td>5.969572</td>\n",
       "      <td>3.680288</td>\n",
       "      <td>0.675048</td>\n",
       "      <td>1101.430344</td>\n",
       "      <td>88.595418</td>\n",
       "      <td>40.938017</td>\n",
       "      <td>0.247844</td>\n",
       "    </tr>\n",
       "    <tr>\n",
       "      <th>std</th>\n",
       "      <td>13.217870</td>\n",
       "      <td>0.958122</td>\n",
       "      <td>1.056392e+05</td>\n",
       "      <td>2.552881</td>\n",
       "      <td>0.499543</td>\n",
       "      <td>4.026400</td>\n",
       "      <td>0.832353</td>\n",
       "      <td>0.468362</td>\n",
       "      <td>7506.430084</td>\n",
       "      <td>404.956092</td>\n",
       "      <td>12.007508</td>\n",
       "      <td>0.431766</td>\n",
       "    </tr>\n",
       "    <tr>\n",
       "      <th>min</th>\n",
       "      <td>17.000000</td>\n",
       "      <td>0.000000</td>\n",
       "      <td>1.349200e+04</td>\n",
       "      <td>1.000000</td>\n",
       "      <td>0.000000</td>\n",
       "      <td>0.000000</td>\n",
       "      <td>0.000000</td>\n",
       "      <td>0.000000</td>\n",
       "      <td>0.000000</td>\n",
       "      <td>0.000000</td>\n",
       "      <td>1.000000</td>\n",
       "      <td>0.000000</td>\n",
       "    </tr>\n",
       "    <tr>\n",
       "      <th>25%</th>\n",
       "      <td>28.000000</td>\n",
       "      <td>2.000000</td>\n",
       "      <td>1.173882e+05</td>\n",
       "      <td>9.000000</td>\n",
       "      <td>0.000000</td>\n",
       "      <td>2.000000</td>\n",
       "      <td>4.000000</td>\n",
       "      <td>0.000000</td>\n",
       "      <td>0.000000</td>\n",
       "      <td>0.000000</td>\n",
       "      <td>40.000000</td>\n",
       "      <td>0.000000</td>\n",
       "    </tr>\n",
       "    <tr>\n",
       "      <th>50%</th>\n",
       "      <td>37.000000</td>\n",
       "      <td>2.000000</td>\n",
       "      <td>1.783160e+05</td>\n",
       "      <td>10.000000</td>\n",
       "      <td>1.000000</td>\n",
       "      <td>6.000000</td>\n",
       "      <td>4.000000</td>\n",
       "      <td>1.000000</td>\n",
       "      <td>0.000000</td>\n",
       "      <td>0.000000</td>\n",
       "      <td>40.000000</td>\n",
       "      <td>0.000000</td>\n",
       "    </tr>\n",
       "    <tr>\n",
       "      <th>75%</th>\n",
       "      <td>47.000000</td>\n",
       "      <td>2.000000</td>\n",
       "      <td>2.379260e+05</td>\n",
       "      <td>13.000000</td>\n",
       "      <td>1.000000</td>\n",
       "      <td>9.000000</td>\n",
       "      <td>4.000000</td>\n",
       "      <td>1.000000</td>\n",
       "      <td>0.000000</td>\n",
       "      <td>0.000000</td>\n",
       "      <td>45.000000</td>\n",
       "      <td>0.000000</td>\n",
       "    </tr>\n",
       "    <tr>\n",
       "      <th>max</th>\n",
       "      <td>90.000000</td>\n",
       "      <td>6.000000</td>\n",
       "      <td>1.490400e+06</td>\n",
       "      <td>16.000000</td>\n",
       "      <td>1.000000</td>\n",
       "      <td>13.000000</td>\n",
       "      <td>4.000000</td>\n",
       "      <td>1.000000</td>\n",
       "      <td>99999.000000</td>\n",
       "      <td>4356.000000</td>\n",
       "      <td>99.000000</td>\n",
       "      <td>1.000000</td>\n",
       "    </tr>\n",
       "  </tbody>\n",
       "</table>\n",
       "</div>"
      ],
      "text/plain": [
       "                age     workclass        fnlwgt  educational_num  \\\n",
       "count  45222.000000  45222.000000  4.522200e+04     45222.000000   \n",
       "mean      38.547941      2.204502  1.897347e+05        10.118460   \n",
       "std       13.217870      0.958122  1.056392e+05         2.552881   \n",
       "min       17.000000      0.000000  1.349200e+04         1.000000   \n",
       "25%       28.000000      2.000000  1.173882e+05         9.000000   \n",
       "50%       37.000000      2.000000  1.783160e+05        10.000000   \n",
       "75%       47.000000      2.000000  2.379260e+05        13.000000   \n",
       "max       90.000000      6.000000  1.490400e+06        16.000000   \n",
       "\n",
       "       marital_status    occupation          race        gender  capital_gain  \\\n",
       "count    45222.000000  45222.000000  45222.000000  45222.000000  45222.000000   \n",
       "mean         0.521494      5.969572      3.680288      0.675048   1101.430344   \n",
       "std          0.499543      4.026400      0.832353      0.468362   7506.430084   \n",
       "min          0.000000      0.000000      0.000000      0.000000      0.000000   \n",
       "25%          0.000000      2.000000      4.000000      0.000000      0.000000   \n",
       "50%          1.000000      6.000000      4.000000      1.000000      0.000000   \n",
       "75%          1.000000      9.000000      4.000000      1.000000      0.000000   \n",
       "max          1.000000     13.000000      4.000000      1.000000  99999.000000   \n",
       "\n",
       "       capital_loss  hours_per_week        income  \n",
       "count  45222.000000    45222.000000  45222.000000  \n",
       "mean      88.595418       40.938017      0.247844  \n",
       "std      404.956092       12.007508      0.431766  \n",
       "min        0.000000        1.000000      0.000000  \n",
       "25%        0.000000       40.000000      0.000000  \n",
       "50%        0.000000       40.000000      0.000000  \n",
       "75%        0.000000       45.000000      0.000000  \n",
       "max     4356.000000       99.000000      1.000000  "
      ]
     },
     "execution_count": 37,
     "metadata": {},
     "output_type": "execute_result"
    }
   ],
   "source": [
    "df_adult.describe()"
   ]
  },
  {
   "cell_type": "code",
   "execution_count": 38,
   "metadata": {},
   "outputs": [
    {
     "data": {
      "text/plain": [
       "(45222, 12)"
      ]
     },
     "execution_count": 38,
     "metadata": {},
     "output_type": "execute_result"
    }
   ],
   "source": [
    "df_adult.shape"
   ]
  },
  {
   "cell_type": "code",
   "execution_count": 39,
   "metadata": {},
   "outputs": [],
   "source": [
    "## Scalling is not required for Boosting Algorithm"
   ]
  },
  {
   "cell_type": "code",
   "execution_count": 40,
   "metadata": {},
   "outputs": [],
   "source": [
    "X = df_adult.iloc[:,0:-1]\n",
    "y = df_adult.income"
   ]
  },
  {
   "cell_type": "code",
   "execution_count": 41,
   "metadata": {},
   "outputs": [
    {
     "name": "stdout",
     "output_type": "stream",
     "text": [
      "(45222, 11)\n",
      "(45222,)\n",
      "<class 'pandas.core.frame.DataFrame'>\n",
      "<class 'pandas.core.series.Series'>\n"
     ]
    }
   ],
   "source": [
    "print(X.shape)\n",
    "print(y.shape)\n",
    "print(type(X))\n",
    "print(type(y))"
   ]
  },
  {
   "cell_type": "code",
   "execution_count": 42,
   "metadata": {},
   "outputs": [],
   "source": [
    "## Now split the test train\n",
    "X_train,X_test,y_train,y_test = train_test_split(X,y,test_size = 0.333,random_state = 42)"
   ]
  },
  {
   "cell_type": "code",
   "execution_count": 43,
   "metadata": {},
   "outputs": [
    {
     "name": "stdout",
     "output_type": "stream",
     "text": [
      "(30163, 11)\n",
      "(30163,)\n",
      "<class 'pandas.core.frame.DataFrame'>\n",
      "<class 'pandas.core.series.Series'>\n"
     ]
    }
   ],
   "source": [
    "print(X_train.shape)\n",
    "print(y_train.shape)\n",
    "print(type(X_train))\n",
    "print(type(y_train))"
   ]
  },
  {
   "cell_type": "code",
   "execution_count": 44,
   "metadata": {},
   "outputs": [
    {
     "name": "stdout",
     "output_type": "stream",
     "text": [
      "(15059, 11)\n",
      "(15059,)\n",
      "<class 'pandas.core.frame.DataFrame'>\n",
      "<class 'pandas.core.series.Series'>\n"
     ]
    }
   ],
   "source": [
    "print(X_test.shape)\n",
    "print(y_test.shape)\n",
    "print(type(X_test))\n",
    "print(type(y_test))"
   ]
  },
  {
   "cell_type": "code",
   "execution_count": 45,
   "metadata": {},
   "outputs": [
    {
     "data": {
      "text/plain": [
       "['age',\n",
       " 'workclass',\n",
       " 'fnlwgt',\n",
       " 'educational_num',\n",
       " 'marital_status',\n",
       " 'occupation',\n",
       " 'race',\n",
       " 'gender',\n",
       " 'capital_gain',\n",
       " 'capital_loss',\n",
       " 'hours_per_week']"
      ]
     },
     "execution_count": 45,
     "metadata": {},
     "output_type": "execute_result"
    }
   ],
   "source": [
    "X_cols = [x for x in X_train.columns]\n",
    "X_cols"
   ]
  },
  {
   "cell_type": "code",
   "execution_count": 46,
   "metadata": {},
   "outputs": [
    {
     "name": "stdout",
     "output_type": "stream",
     "text": [
      "0.6\n",
      "0.6\n",
      "0.72\n",
      "0.72\n"
     ]
    }
   ],
   "source": [
    "### To understand the ROC and AUC please refer below\n",
    "import numpy as np\n",
    "from sklearn.linear_model import LogisticRegression\n",
    "from sklearn.metrics import roc_curve, auc, roc_auc_score\n",
    "\n",
    "est = LogisticRegression(class_weight='auto')\n",
    "X = np.random.rand(10, 2)\n",
    "y = np.random.randint(2, size=10)\n",
    "est.fit(X, y)\n",
    "\n",
    "false_positive_rate, true_positive_rate, thresholds = roc_curve(y, est.predict(X))\n",
    "print(auc(false_positive_rate, true_positive_rate))\n",
    "print(roc_auc_score(y, est.predict(X)))\n",
    "\n",
    "false_positive_rate, true_positive_rate, thresholds = roc_curve(y, est.predict_proba(X)[:,1])\n",
    "print(auc(false_positive_rate, true_positive_rate))\n",
    "print(roc_auc_score(y, est.predict_proba(X)[:,1]))"
   ]
  },
  {
   "cell_type": "code",
   "execution_count": 47,
   "metadata": {},
   "outputs": [],
   "source": [
    "def evaluate_model(alg,X_train,y_train,X_test,y_test, X_cols, cv_folds=5):\n",
    "    #Fit the algorithm on the data\n",
    "    #alg.fit(X_train, y_train)\n",
    "        \n",
    "    #Predict training set:\n",
    "    y_train_pred = alg.predict(X_train)\n",
    "    #y_train_predprob = alg.predict_proba(X_train)[:,1]\n",
    "    \n",
    "    #Predict test set:\n",
    "    y_test_pred = alg.predict(X_test)\n",
    "    #y_test_predprob = alg.predict_proba(X_test)[:,1]\n",
    "    \n",
    "    # Print the ROC_AUC on training dataset\n",
    "    false_positive_rate_train, true_positive_rate_train, thresholds_train = metrics.roc_curve(y_train, y_train_pred)\n",
    "    roc_auc_score_train = metrics.roc_auc_score(y_train, y_train_pred)\n",
    "    auc_train = metrics.auc(false_positive_rate_train, true_positive_rate_train)\n",
    "    \n",
    "    \n",
    "\n",
    "    # Print the ROC_AUC on test dataset\n",
    "    false_positive_rate_test, true_positive_rate_test, thresholds_test = metrics.roc_curve(y_test, y_test_pred)\n",
    "    roc_auc_score_test = metrics.roc_auc_score(y_test, y_test_pred)\n",
    "    auc_test = metrics.auc(false_positive_rate_test, true_positive_rate_test)\n",
    "      \n",
    "        \n",
    "    #Print model report:\n",
    "    print(\"\\nBase Model Report with Default Parameters\")\n",
    "    print(\"Accuracy (Train) : %f\" % metrics.accuracy_score(y_train, y_train_pred))\n",
    "    print(\"AUC (Train): %f\" % auc_train)\n",
    "    print(\"ROC_AUC_Score (Train): %f\" % roc_auc_score_train)\n",
    "    print(\"F1 Score (Train): %f\" % metrics.f1_score(y_train, y_train_pred))\n",
    "    print(\"Classification Report (Train): {}\\n\".format(metrics.classification_report(y_train,y_train_pred)))\n",
    "    #print(\"ROC_AUC Score (Train): %f\" % metrics.roc_auc_score(y_train, y_train_predprob))\n",
    "    print(\"Accuracy (Test) : %f\" % metrics.accuracy_score(y_test, y_test_pred))\n",
    "    print(\"AUC (Test): %f\" % auc_train)\n",
    "    print(\"ROC_AUC_Score (Train): %f\" % roc_auc_score_test)\n",
    "    print(\"F1 Score (Test): %f\" % metrics.f1_score(y_test,y_test_pred))\n",
    "    print(\"Classification Report (Test): {}\\n\".format(metrics.classification_report(y_test,y_test_pred)))\n",
    "    #print(\"ROC_AUC Score (Train): %f\" % metrics.roc_auc_score(y_train, y_train_predprob))\n",
    "            \n",
    "    #Print Feature Importance:\n",
    "    feat_imp = pd.Series(alg.feature_importances_, X_cols).sort_values(ascending=False)\n",
    "    feat_imp.plot(kind='bar', title='Feature Importances')\n",
    "    plt.ylabel('Feature Importance Score')"
   ]
  },
  {
   "cell_type": "markdown",
   "metadata": {},
   "source": [
    "**We will use AUC (Area Under Curve) and F1 score as the evaluation metric. Our target value is binary so it’s a binary classification problem. AUC ,ROC_AUC_SCORE and F1 score is a good way for evaluation for this type of problems**"
   ]
  },
  {
   "cell_type": "code",
   "execution_count": 48,
   "metadata": {},
   "outputs": [],
   "source": [
    "def modelfit_GS(alg,X_train,y_train,X_test,y_test, X_cols):\n",
    "    #Fit the algorithm on the data\n",
    "    #alg.fit(X_train, y_train)\n",
    "        \n",
    "    #Predict training set:\n",
    "    y_train_pred = alg.predict(X_train)\n",
    "    #y_train_predprob = alg.predict_proba(X_train)[:,1]\n",
    "    \n",
    "    #Predict test set:\n",
    "    y_test_pred = alg.predict(X_test)\n",
    "    #y_test_predprob = alg.predict_proba(X_test)[:,1]\n",
    "    \n",
    "    # Print the ROC_AUC on training dataset\n",
    "    false_positive_rate_train, true_positive_rate_train, thresholds_train = metrics.roc_curve(y_train, y_train_pred)\n",
    "    roc_auc_score_train = metrics.roc_auc_score(y_train, y_train_pred)\n",
    "    auc_train = metrics.auc(false_positive_rate_train, true_positive_rate_train)\n",
    "    \n",
    "    \n",
    "\n",
    "    # Print the ROC_AUC on test dataset\n",
    "    false_positive_rate_test, true_positive_rate_test, thresholds_test = metrics.roc_curve(y_test, y_test_pred)\n",
    "    roc_auc_score_test = metrics.roc_auc_score(y_test, y_test_pred)\n",
    "    auc_test = metrics.auc(false_positive_rate_test, true_positive_rate_test)\n",
    "      \n",
    "        \n",
    "    #Print model report:\n",
    "    print(\"\\nBase Model Report with Default Parameters\")\n",
    "    print(\"Accuracy (Train) : %.4g\" % metrics.accuracy_score(y_train, y_train_pred))\n",
    "    print(\"AUC (Train): %f\" % auc_train)\n",
    "    print(\"ROC_AUC_Score (Train): %f\" % roc_auc_score_train)\n",
    "    print(\"F1 Score (Train): %f\" % metrics.f1_score(y_train, y_train_pred))\n",
    "    print(\"Classification Report (Train): {}\\n\".format(metrics.classification_report(y_train,y_train_pred)))\n",
    "    #print(\"ROC_AUC Score (Train): %f\" % metrics.roc_auc_score(y_train, y_train_predprob))\n",
    "    print(\"Accuracy (Test) : %f\" % metrics.accuracy_score(y_test, y_test_pred))\n",
    "    print(\"AUC (Test): %f\" % auc_train)\n",
    "    print(\"ROC_AUC_Score (Train): %f\" % roc_auc_score_test)\n",
    "    print(\"F1 Score (Test): %f\" % metrics.f1_score(y_test,y_test_pred))\n",
    "    print(\"Classification Report (Test): {}\\n\".format(metrics.classification_report(y_test,y_test_pred)))\n",
    "    #print(\"ROC_AUC Score (Train): %f\" % metrics.roc_auc_score(y_train, y_train_predprob))\n",
    "    print(\"Best Score using GridSearch : {}\\n\".format(alg.best_score_))\n",
    "    print(\"Best Parameter using GridSearch : {}\\n\".format(alg.best_params_))   \n",
    "    ## Plot the Grapg with Mean test score \n",
    "    cv_results = pd.DataFrame(alg.cv_results_)\n",
    "    plt.figure(figsize=(15,5))\n",
    "    palette = sns.color_palette(\"Set1\", n_colors=6, desat=.5)\n",
    "    sns.lineplot(data=cv_results,x=cv_results.iloc[:,4],\n",
    "                 y=cv_results.iloc[:,-3]\n",
    "                 #,hue=cv_results[\"param_learning_rate\"]\n",
    "                 ,palette=palette\n",
    "                 #,err_style=\"bars\", ci=58,lw=1,err_kws={'capsize':0.5}\n",
    "                 #,size=cv_results[\"param_learning_rate\"]\n",
    "                 #,sizes=(.25, 2.5)\n",
    "                )\n",
    "    "
   ]
  },
  {
   "cell_type": "markdown",
   "metadata": {},
   "source": [
    "### XGBClassifier"
   ]
  },
  {
   "cell_type": "markdown",
   "metadata": {},
   "source": [
    "#### Base Model"
   ]
  },
  {
   "cell_type": "code",
   "execution_count": 49,
   "metadata": {},
   "outputs": [
    {
     "data": {
      "text/plain": [
       "XGBClassifier(base_score=0.5, booster='gbtree', colsample_bylevel=1,\n",
       "              colsample_bynode=1, colsample_bytree=1, gamma=0,\n",
       "              learning_rate=0.1, max_delta_step=0, max_depth=3,\n",
       "              min_child_weight=1, missing=None, n_estimators=100, n_jobs=8,\n",
       "              nthread=None, objective='binary:logistic', random_state=10,\n",
       "              reg_alpha=0, reg_lambda=1, scale_pos_weight=1, seed=None,\n",
       "              silent=None, subsample=1, verbosity=1)"
      ]
     },
     "execution_count": 49,
     "metadata": {},
     "output_type": "execute_result"
    }
   ],
   "source": [
    "xgb = XGBClassifier(random_state=10,n_jobs=8)\n",
    "xgb.fit(X_train,y_train)"
   ]
  },
  {
   "cell_type": "code",
   "execution_count": 50,
   "metadata": {},
   "outputs": [
    {
     "name": "stdout",
     "output_type": "stream",
     "text": [
      "\n",
      "Base Model Report with Default Parameters\n",
      "Accuracy (Train) : 0.862481\n",
      "AUC (Train): 0.774953\n",
      "ROC_AUC_Score (Train): 0.774953\n",
      "F1 Score (Train): 0.684467\n",
      "Classification Report (Train):               precision    recall  f1-score   support\n",
      "\n",
      "           0       0.88      0.95      0.91     22680\n",
      "           1       0.79      0.60      0.68      7483\n",
      "\n",
      "    accuracy                           0.86     30163\n",
      "   macro avg       0.84      0.77      0.80     30163\n",
      "weighted avg       0.86      0.86      0.86     30163\n",
      "\n",
      "\n",
      "Accuracy (Test) : 0.864134\n",
      "AUC (Test): 0.774953\n",
      "ROC_AUC_Score (Train): 0.777094\n",
      "F1 Score (Test): 0.687729\n",
      "Classification Report (Test):               precision    recall  f1-score   support\n",
      "\n",
      "           0       0.88      0.95      0.91     11334\n",
      "           1       0.80      0.60      0.69      3725\n",
      "\n",
      "    accuracy                           0.86     15059\n",
      "   macro avg       0.84      0.78      0.80     15059\n",
      "weighted avg       0.86      0.86      0.86     15059\n",
      "\n",
      "\n",
      "Time taken by Model:  0.1467576026916504\n"
     ]
    },
    {
     "data": {
      "image/png": "[encoded data removed]",
      "text/plain": [
       "<Figure size 432x288 with 1 Axes>"
      ]
     },
     "metadata": {
      "needs_background": "light"
     },
     "output_type": "display_data"
    }
   ],
   "source": [
    "## Evaluate the base model\n",
    "starttime = time.time()\n",
    "evaluate_model(xgb,X_train,y_train,X_test,y_test, X_cols, cv_folds=5)\n",
    "endtime = time.time()\n",
    "print(\"Time taken by Model: \",endtime - starttime)"
   ]
  },
  {
   "cell_type": "markdown",
   "metadata": {},
   "source": [
    "#### Parameter Tunning of XGB with SkLearn and Gridsearch"
   ]
  },
  {
   "cell_type": "code",
   "execution_count": 51,
   "metadata": {},
   "outputs": [],
   "source": [
    "### Max_depth tunning and setting all the remaining parameters default\n",
    "param_value1 = range(1,15)\n",
    "param_name1 = \"max_depth\"\n",
    "param_test1 =  {'max_depth':range(1,15)}\n",
    "gs_xgb1 = GridSearchCV(estimator = XGBClassifier(random_state=10),param_grid = param_test1,\n",
    "                       scoring='roc_auc',cv=5,n_jobs=8)\n",
    "## for scoring\n",
    "## https://scikit-learn.org/stable/modules/model_evaluation.html#scoring-parameter"
   ]
  },
  {
   "cell_type": "code",
   "execution_count": 52,
   "metadata": {},
   "outputs": [
    {
     "name": "stdout",
     "output_type": "stream",
     "text": [
      "Wall time: 37.8 s\n"
     ]
    },
    {
     "data": {
      "text/plain": [
       "GridSearchCV(cv=5, error_score=nan,\n",
       "             estimator=XGBClassifier(base_score=0.5, booster='gbtree',\n",
       "                                     colsample_bylevel=1, colsample_bynode=1,\n",
       "                                     colsample_bytree=1, gamma=0,\n",
       "                                     learning_rate=0.1, max_delta_step=0,\n",
       "                                     max_depth=3, min_child_weight=1,\n",
       "                                     missing=None, n_estimators=100, n_jobs=1,\n",
       "                                     nthread=None, objective='binary:logistic',\n",
       "                                     random_state=10, reg_alpha=0, reg_lambda=1,\n",
       "                                     scale_pos_weight=1, seed=None, silent=None,\n",
       "                                     subsample=1, verbosity=1),\n",
       "             iid='deprecated', n_jobs=8, param_grid={'max_depth': range(1, 15)},\n",
       "             pre_dispatch='2*n_jobs', refit=True, return_train_score=False,\n",
       "             scoring='roc_auc', verbose=0)"
      ]
     },
     "execution_count": 52,
     "metadata": {},
     "output_type": "execute_result"
    }
   ],
   "source": [
    "%time gs_xgb1.fit(X_train,y_train)"
   ]
  },
  {
   "cell_type": "code",
   "execution_count": 53,
   "metadata": {},
   "outputs": [
    {
     "name": "stdout",
     "output_type": "stream",
     "text": [
      "\n",
      "Base Model Report with Default Parameters\n",
      "Accuracy (Train) : 0.8796\n",
      "AUC (Train): 0.809633\n",
      "ROC_AUC_Score (Train): 0.809633\n",
      "F1 Score (Train): 0.734362\n",
      "Classification Report (Train):               precision    recall  f1-score   support\n",
      "\n",
      "           0       0.90      0.95      0.92     22680\n",
      "           1       0.81      0.67      0.73      7483\n",
      "\n",
      "    accuracy                           0.88     30163\n",
      "   macro avg       0.85      0.81      0.83     30163\n",
      "weighted avg       0.88      0.88      0.88     30163\n",
      "\n",
      "\n",
      "Accuracy (Test) : 0.871041\n",
      "AUC (Test): 0.809633\n",
      "ROC_AUC_Score (Train): 0.796641\n",
      "F1 Score (Test): 0.713569\n",
      "Classification Report (Test):               precision    recall  f1-score   support\n",
      "\n",
      "           0       0.89      0.94      0.92     11334\n",
      "           1       0.79      0.65      0.71      3725\n",
      "\n",
      "    accuracy                           0.87     15059\n",
      "   macro avg       0.84      0.80      0.82     15059\n",
      "weighted avg       0.87      0.87      0.87     15059\n",
      "\n",
      "\n",
      "Best Score using GridSearch : 0.9238992700715165\n",
      "\n",
      "Best Parameter using GridSearch : {'max_depth': 6}\n",
      "\n",
      "Wall time: 302 ms\n"
     ]
    },
    {
     "data": {
      "image/png": "[encoded data removed]",
      "text/plain": [
       "<Figure size 1080x360 with 1 Axes>"
      ]
     },
     "metadata": {
      "needs_background": "light"
     },
     "output_type": "display_data"
    }
   ],
   "source": [
    "%time modelfit_GS(gs_xgb1,X_train,y_train,X_test,y_test, X_cols)"
   ]
  },
  {
   "cell_type": "code",
   "execution_count": 54,
   "metadata": {},
   "outputs": [],
   "source": [
    "### min_child_weight tunning and taking max_depth = 6 and setting all the remaining parameters default\n",
    "param_value2 = range(1,5)\n",
    "param_name2 = \"min_child_weight\"\n",
    "param_test2 =  {'min_child_weight':range(1,5)}\n",
    "gs_xgb2 = GridSearchCV(estimator = XGBClassifier(random_state=10,max_depth=6),param_grid = param_test2,\n",
    "                       scoring='roc_auc',cv=5,n_jobs=8)"
   ]
  },
  {
   "cell_type": "code",
   "execution_count": 55,
   "metadata": {},
   "outputs": [
    {
     "name": "stdout",
     "output_type": "stream",
     "text": [
      "Wall time: 8.67 s\n"
     ]
    },
    {
     "data": {
      "text/plain": [
       "GridSearchCV(cv=5, error_score=nan,\n",
       "             estimator=XGBClassifier(base_score=0.5, booster='gbtree',\n",
       "                                     colsample_bylevel=1, colsample_bynode=1,\n",
       "                                     colsample_bytree=1, gamma=0,\n",
       "                                     learning_rate=0.1, max_delta_step=0,\n",
       "                                     max_depth=6, min_child_weight=1,\n",
       "                                     missing=None, n_estimators=100, n_jobs=1,\n",
       "                                     nthread=None, objective='binary:logistic',\n",
       "                                     random_state=10, reg_alpha=0, reg_lambda=1,\n",
       "                                     scale_pos_weight=1, seed=None, silent=None,\n",
       "                                     subsample=1, verbosity=1),\n",
       "             iid='deprecated', n_jobs=8,\n",
       "             param_grid={'min_child_weight': range(1, 5)},\n",
       "             pre_dispatch='2*n_jobs', refit=True, return_train_score=False,\n",
       "             scoring='roc_auc', verbose=0)"
      ]
     },
     "execution_count": 55,
     "metadata": {},
     "output_type": "execute_result"
    }
   ],
   "source": [
    "%time gs_xgb2.fit(X_train,y_train)"
   ]
  },
  {
   "cell_type": "code",
   "execution_count": 56,
   "metadata": {},
   "outputs": [
    {
     "name": "stdout",
     "output_type": "stream",
     "text": [
      "\n",
      "Base Model Report with Default Parameters\n",
      "Accuracy (Train) : 0.8796\n",
      "AUC (Train): 0.809633\n",
      "ROC_AUC_Score (Train): 0.809633\n",
      "F1 Score (Train): 0.734362\n",
      "Classification Report (Train):               precision    recall  f1-score   support\n",
      "\n",
      "           0       0.90      0.95      0.92     22680\n",
      "           1       0.81      0.67      0.73      7483\n",
      "\n",
      "    accuracy                           0.88     30163\n",
      "   macro avg       0.85      0.81      0.83     30163\n",
      "weighted avg       0.88      0.88      0.88     30163\n",
      "\n",
      "\n",
      "Accuracy (Test) : 0.871041\n",
      "AUC (Test): 0.809633\n",
      "ROC_AUC_Score (Train): 0.796641\n",
      "F1 Score (Test): 0.713569\n",
      "Classification Report (Test):               precision    recall  f1-score   support\n",
      "\n",
      "           0       0.89      0.94      0.92     11334\n",
      "           1       0.79      0.65      0.71      3725\n",
      "\n",
      "    accuracy                           0.87     15059\n",
      "   macro avg       0.84      0.80      0.82     15059\n",
      "weighted avg       0.87      0.87      0.87     15059\n",
      "\n",
      "\n",
      "Best Score using GridSearch : 0.9238992700715165\n",
      "\n",
      "Best Parameter using GridSearch : {'min_child_weight': 1}\n",
      "\n",
      "Wall time: 289 ms\n"
     ]
    },
    {
     "data": {
      "image/png": "[encoded data removed]",
      "text/plain": [
       "<Figure size 1080x360 with 1 Axes>"
      ]
     },
     "metadata": {
      "needs_background": "light"
     },
     "output_type": "display_data"
    }
   ],
   "source": [
    "%time modelfit_GS(gs_xgb2,X_train,y_train,X_test,y_test, X_cols)"
   ]
  },
  {
   "cell_type": "code",
   "execution_count": 57,
   "metadata": {},
   "outputs": [],
   "source": [
    "param_value3 = range(50,1050,100)\n",
    "param_name3 = \"n_estimators\"\n",
    "param_test3 =  {'n_estimators':range(50,1050,100)}\n",
    "gs_xgb3 = GridSearchCV(estimator = XGBClassifier(learning_rate=0.1,random_state=10,max_depth=6,min_child_weight=1),param_grid = param_test3,\n",
    "                       scoring='roc_auc',cv=5,n_jobs=8)"
   ]
  },
  {
   "cell_type": "code",
   "execution_count": 58,
   "metadata": {},
   "outputs": [
    {
     "name": "stdout",
     "output_type": "stream",
     "text": [
      "Wall time: 1min 49s\n"
     ]
    },
    {
     "data": {
      "text/plain": [
       "GridSearchCV(cv=5, error_score=nan,\n",
       "             estimator=XGBClassifier(base_score=0.5, booster='gbtree',\n",
       "                                     colsample_bylevel=1, colsample_bynode=1,\n",
       "                                     colsample_bytree=1, gamma=0,\n",
       "                                     learning_rate=0.1, max_delta_step=0,\n",
       "                                     max_depth=6, min_child_weight=1,\n",
       "                                     missing=None, n_estimators=100, n_jobs=1,\n",
       "                                     nthread=None, objective='binary:logistic',\n",
       "                                     random_state=10, reg_alpha=0, reg_lambda=1,\n",
       "                                     scale_pos_weight=1, seed=None, silent=None,\n",
       "                                     subsample=1, verbosity=1),\n",
       "             iid='deprecated', n_jobs=8,\n",
       "             param_grid={'n_estimators': range(50, 1050, 100)},\n",
       "             pre_dispatch='2*n_jobs', refit=True, return_train_score=False,\n",
       "             scoring='roc_auc', verbose=0)"
      ]
     },
     "execution_count": 58,
     "metadata": {},
     "output_type": "execute_result"
    }
   ],
   "source": [
    "%time gs_xgb3.fit(X_train,y_train)"
   ]
  },
  {
   "cell_type": "code",
   "execution_count": 59,
   "metadata": {},
   "outputs": [
    {
     "name": "stdout",
     "output_type": "stream",
     "text": [
      "\n",
      "Base Model Report with Default Parameters\n",
      "Accuracy (Train) : 0.8856\n",
      "AUC (Train): 0.818929\n",
      "ROC_AUC_Score (Train): 0.818929\n",
      "F1 Score (Train): 0.748598\n",
      "Classification Report (Train):               precision    recall  f1-score   support\n",
      "\n",
      "           0       0.90      0.95      0.93     22680\n",
      "           1       0.82      0.69      0.75      7483\n",
      "\n",
      "    accuracy                           0.89     30163\n",
      "   macro avg       0.86      0.82      0.84     30163\n",
      "weighted avg       0.88      0.89      0.88     30163\n",
      "\n",
      "\n",
      "Accuracy (Test) : 0.871373\n",
      "AUC (Test): 0.818929\n",
      "ROC_AUC_Score (Train): 0.799024\n",
      "F1 Score (Test): 0.716107\n",
      "Classification Report (Test):               precision    recall  f1-score   support\n",
      "\n",
      "           0       0.89      0.94      0.92     11334\n",
      "           1       0.79      0.66      0.72      3725\n",
      "\n",
      "    accuracy                           0.87     15059\n",
      "   macro avg       0.84      0.80      0.82     15059\n",
      "weighted avg       0.87      0.87      0.87     15059\n",
      "\n",
      "\n",
      "Best Score using GridSearch : 0.9243286982934169\n",
      "\n",
      "Best Parameter using GridSearch : {'n_estimators': 150}\n",
      "\n",
      "Wall time: 405 ms\n"
     ]
    },
    {
     "data": {
      "image/png": "[encoded data removed]",
      "text/plain": [
       "<Figure size 1080x360 with 1 Axes>"
      ]
     },
     "metadata": {
      "needs_background": "light"
     },
     "output_type": "display_data"
    }
   ],
   "source": [
    "%time modelfit_GS(gs_xgb3,X_train,y_train,X_test,y_test, X_cols)"
   ]
  },
  {
   "cell_type": "code",
   "execution_count": 60,
   "metadata": {},
   "outputs": [],
   "source": [
    "param_value4 = [0.1,0.02,0.03,0.04,0.05,0.06,0.001]\n",
    "param_name4 = \"learning_rate\"\n",
    "param_test4 =  {'learning_rate':[0.1,0.02,0.03,0.04,0.05,0.06,0.001]}\n",
    "gs_xgb4 = GridSearchCV(estimator = XGBClassifier(random_state=10,max_depth=6,min_child_weight=1,n_estimators =150),param_grid = param_test4,\n",
    "                       scoring='roc_auc',cv=5,n_jobs=8)"
   ]
  },
  {
   "cell_type": "code",
   "execution_count": 61,
   "metadata": {},
   "outputs": [
    {
     "name": "stdout",
     "output_type": "stream",
     "text": [
      "Wall time: 25.5 s\n"
     ]
    },
    {
     "data": {
      "text/plain": [
       "GridSearchCV(cv=5, error_score=nan,\n",
       "             estimator=XGBClassifier(base_score=0.5, booster='gbtree',\n",
       "                                     colsample_bylevel=1, colsample_bynode=1,\n",
       "                                     colsample_bytree=1, gamma=0,\n",
       "                                     learning_rate=0.1, max_delta_step=0,\n",
       "                                     max_depth=6, min_child_weight=1,\n",
       "                                     missing=None, n_estimators=150, n_jobs=1,\n",
       "                                     nthread=None, objective='binary:logistic',\n",
       "                                     random_state=10, reg_alpha=0, reg_lambda=1,\n",
       "                                     scale_pos_weight=1, seed=None, silent=None,\n",
       "                                     subsample=1, verbosity=1),\n",
       "             iid='deprecated', n_jobs=8,\n",
       "             param_grid={'learning_rate': [0.1, 0.02, 0.03, 0.04, 0.05, 0.06,\n",
       "                                           0.001]},\n",
       "             pre_dispatch='2*n_jobs', refit=True, return_train_score=False,\n",
       "             scoring='roc_auc', verbose=0)"
      ]
     },
     "execution_count": 61,
     "metadata": {},
     "output_type": "execute_result"
    }
   ],
   "source": [
    "%time gs_xgb4.fit(X_train,y_train)"
   ]
  },
  {
   "cell_type": "code",
   "execution_count": 62,
   "metadata": {},
   "outputs": [
    {
     "name": "stdout",
     "output_type": "stream",
     "text": [
      "\n",
      "Base Model Report with Default Parameters\n",
      "Accuracy (Train) : 0.8856\n",
      "AUC (Train): 0.818929\n",
      "ROC_AUC_Score (Train): 0.818929\n",
      "F1 Score (Train): 0.748598\n",
      "Classification Report (Train):               precision    recall  f1-score   support\n",
      "\n",
      "           0       0.90      0.95      0.93     22680\n",
      "           1       0.82      0.69      0.75      7483\n",
      "\n",
      "    accuracy                           0.89     30163\n",
      "   macro avg       0.86      0.82      0.84     30163\n",
      "weighted avg       0.88      0.89      0.88     30163\n",
      "\n",
      "\n",
      "Accuracy (Test) : 0.871373\n",
      "AUC (Test): 0.818929\n",
      "ROC_AUC_Score (Train): 0.799024\n",
      "F1 Score (Test): 0.716107\n",
      "Classification Report (Test):               precision    recall  f1-score   support\n",
      "\n",
      "           0       0.89      0.94      0.92     11334\n",
      "           1       0.79      0.66      0.72      3725\n",
      "\n",
      "    accuracy                           0.87     15059\n",
      "   macro avg       0.84      0.80      0.82     15059\n",
      "weighted avg       0.87      0.87      0.87     15059\n",
      "\n",
      "\n",
      "Best Score using GridSearch : 0.9243286982934169\n",
      "\n",
      "Best Parameter using GridSearch : {'learning_rate': 0.1}\n",
      "\n",
      "Wall time: 403 ms\n"
     ]
    },
    {
     "data": {
      "image/png": "[encoded data removed]",
      "text/plain": [
       "<Figure size 1080x360 with 1 Axes>"
      ]
     },
     "metadata": {
      "needs_background": "light"
     },
     "output_type": "display_data"
    }
   ],
   "source": [
    "%time modelfit_GS(gs_xgb4,X_train,y_train,X_test,y_test, X_cols)"
   ]
  },
  {
   "cell_type": "code",
   "execution_count": null,
   "metadata": {},
   "outputs": [],
   "source": []
  },
  {
   "cell_type": "markdown",
   "metadata": {},
   "source": [
    "**Now Apply these best parameters in our base model and make final model using sklearn XGB**"
   ]
  },
  {
   "cell_type": "code",
   "execution_count": 63,
   "metadata": {},
   "outputs": [
    {
     "name": "stdout",
     "output_type": "stream",
     "text": [
      "Wall time: 1.06 s\n"
     ]
    },
    {
     "data": {
      "text/plain": [
       "XGBClassifier(base_score=0.5, booster='gbtree', colsample_bylevel=1,\n",
       "              colsample_bynode=1, colsample_bytree=1, gamma=0,\n",
       "              learning_rate=0.1, max_delta_step=0, max_depth=6,\n",
       "              min_child_weight=1, missing=None, n_estimators=150, n_jobs=8,\n",
       "              nthread=None, objective='binary:logistic', random_state=10,\n",
       "              reg_alpha=0, reg_lambda=1, scale_pos_weight=1, seed=None,\n",
       "              silent=None, subsample=1, verbosity=1)"
      ]
     },
     "execution_count": 63,
     "metadata": {},
     "output_type": "execute_result"
    }
   ],
   "source": [
    "xgb_final = XGBClassifier(n_jobs=8,random_state=10,max_depth=6,\n",
    "                    min_child_weight=1,n_estimators = 150,learning_rate=0.1,reg_alpha=0)\n",
    "%time xgb_final.fit(X_train,y_train)"
   ]
  },
  {
   "cell_type": "code",
   "execution_count": 64,
   "metadata": {},
   "outputs": [
    {
     "name": "stdout",
     "output_type": "stream",
     "text": [
      "\n",
      "Base Model Report with Default Parameters\n",
      "Accuracy (Train) : 0.885588\n",
      "AUC (Train): 0.818929\n",
      "ROC_AUC_Score (Train): 0.818929\n",
      "F1 Score (Train): 0.748598\n",
      "Classification Report (Train):               precision    recall  f1-score   support\n",
      "\n",
      "           0       0.90      0.95      0.93     22680\n",
      "           1       0.82      0.69      0.75      7483\n",
      "\n",
      "    accuracy                           0.89     30163\n",
      "   macro avg       0.86      0.82      0.84     30163\n",
      "weighted avg       0.88      0.89      0.88     30163\n",
      "\n",
      "\n",
      "Accuracy (Test) : 0.871373\n",
      "AUC (Test): 0.818929\n",
      "ROC_AUC_Score (Train): 0.799024\n",
      "F1 Score (Test): 0.716107\n",
      "Classification Report (Test):               precision    recall  f1-score   support\n",
      "\n",
      "           0       0.89      0.94      0.92     11334\n",
      "           1       0.79      0.66      0.72      3725\n",
      "\n",
      "    accuracy                           0.87     15059\n",
      "   macro avg       0.84      0.80      0.82     15059\n",
      "weighted avg       0.87      0.87      0.87     15059\n",
      "\n",
      "\n",
      "Time taken by Model:  0.21578192710876465\n"
     ]
    },
    {
     "data": {
      "image/png": "[encoded data removed]",
      "text/plain": [
       "<Figure size 432x288 with 1 Axes>"
      ]
     },
     "metadata": {
      "needs_background": "light"
     },
     "output_type": "display_data"
    }
   ],
   "source": [
    "## Evaluate the base model\n",
    "starttime = time.time()\n",
    "evaluate_model(xgb_final,X_train,y_train,X_test,y_test, X_cols, cv_folds=5)\n",
    "endtime = time.time()\n",
    "print(\"Time taken by Model: \",endtime - starttime)"
   ]
  },
  {
   "cell_type": "markdown",
   "metadata": {},
   "source": [
    "**XGBoost's built-in cv which allows early stopping to prevent overfitting**"
   ]
  },
  {
   "cell_type": "markdown",
   "metadata": {},
   "source": [
    "To increase the performance of XGBoost's speed through many iterations of the training set, and since we are using only XGBoost's API and not sklearn's anymore, we can create a DMatrix. This sorts the data initially to optimize for XGBoost when it builds trees, making the algorithm more efficient. This is especially helpful when we have a very large number of training examples. To create a DMatrix:"
   ]
  },
  {
   "cell_type": "code",
   "execution_count": 65,
   "metadata": {},
   "outputs": [],
   "source": [
    "## DMatrix is a internal data structure that used by XGBoost which is optimized for both memory efficiency and training speed.\n",
    "xgb_dmat = XGB.DMatrix(X_train,y_train)"
   ]
  },
  {
   "cell_type": "markdown",
   "metadata": {},
   "source": [
    "Now let's specify our parameters (with slightly different syntax in some places for the XGBoost native API) and set our stopping criteria."
   ]
  },
  {
   "cell_type": "code",
   "execution_count": 66,
   "metadata": {},
   "outputs": [],
   "source": [
    "xgb_param = {'eta': 0.07, 'seed':0, 'subsample': 0.8, 'colsample_bytree': 0.8, \n",
    "             'objective': 'binary:logistic', 'max_depth':6, 'min_child_weight':1} "
   ]
  },
  {
   "cell_type": "code",
   "execution_count": 67,
   "metadata": {},
   "outputs": [
    {
     "name": "stdout",
     "output_type": "stream",
     "text": [
      "Wall time: 8.54 s\n"
     ]
    }
   ],
   "source": [
    "%time xgb_cv = XGB.cv(params=xgb_param,dtrain=xgb_dmat,num_boost_round=8000,nfold=5,metrics=\"error\",early_stopping_rounds=50)\n",
    "# lets take early stopping that minimizes error,\n",
    "# We need to make sure that we enter metrics inside a list or we may encounter issues!"
   ]
  },
  {
   "cell_type": "markdown",
   "metadata": {},
   "source": [
    "We can look at our CV results to see how accurate we were with these settings. The output is automatically saved into a pandas dataframe for us."
   ]
  },
  {
   "cell_type": "code",
   "execution_count": 68,
   "metadata": {},
   "outputs": [
    {
     "data": {
      "text/html": [
       "<div>\n",
       "<style scoped>\n",
       "    .dataframe tbody tr th:only-of-type {\n",
       "        vertical-align: middle;\n",
       "    }\n",
       "\n",
       "    .dataframe tbody tr th {\n",
       "        vertical-align: top;\n",
       "    }\n",
       "\n",
       "    .dataframe thead th {\n",
       "        text-align: right;\n",
       "    }\n",
       "</style>\n",
       "<table border=\"1\" class=\"dataframe\">\n",
       "  <thead>\n",
       "    <tr style=\"text-align: right;\">\n",
       "      <th></th>\n",
       "      <th>train-error-mean</th>\n",
       "      <th>train-error-std</th>\n",
       "      <th>test-error-mean</th>\n",
       "      <th>test-error-std</th>\n",
       "    </tr>\n",
       "  </thead>\n",
       "  <tbody>\n",
       "    <tr>\n",
       "      <th>189</th>\n",
       "      <td>0.113483</td>\n",
       "      <td>0.001196</td>\n",
       "      <td>0.131784</td>\n",
       "      <td>0.002681</td>\n",
       "    </tr>\n",
       "    <tr>\n",
       "      <th>190</th>\n",
       "      <td>0.113309</td>\n",
       "      <td>0.001204</td>\n",
       "      <td>0.131718</td>\n",
       "      <td>0.002705</td>\n",
       "    </tr>\n",
       "    <tr>\n",
       "      <th>191</th>\n",
       "      <td>0.113251</td>\n",
       "      <td>0.001205</td>\n",
       "      <td>0.131850</td>\n",
       "      <td>0.002936</td>\n",
       "    </tr>\n",
       "    <tr>\n",
       "      <th>192</th>\n",
       "      <td>0.113127</td>\n",
       "      <td>0.001224</td>\n",
       "      <td>0.131552</td>\n",
       "      <td>0.002936</td>\n",
       "    </tr>\n",
       "    <tr>\n",
       "      <th>193</th>\n",
       "      <td>0.112903</td>\n",
       "      <td>0.001085</td>\n",
       "      <td>0.131453</td>\n",
       "      <td>0.002931</td>\n",
       "    </tr>\n",
       "  </tbody>\n",
       "</table>\n",
       "</div>"
      ],
      "text/plain": [
       "     train-error-mean  train-error-std  test-error-mean  test-error-std\n",
       "189          0.113483         0.001196         0.131784        0.002681\n",
       "190          0.113309         0.001204         0.131718        0.002705\n",
       "191          0.113251         0.001205         0.131850        0.002936\n",
       "192          0.113127         0.001224         0.131552        0.002936\n",
       "193          0.112903         0.001085         0.131453        0.002931"
      ]
     },
     "execution_count": 68,
     "metadata": {},
     "output_type": "execute_result"
    }
   ],
   "source": [
    "xgb_cv.tail(5)"
   ]
  },
  {
   "cell_type": "markdown",
   "metadata": {},
   "source": [
    "Our CV test error at this number of iterations is 13.14%, or 87.14% accuracy.\n",
    "\n",
    "Now that we have our best settings, let's create this as an XGBoost object model that we can reference later."
   ]
  },
  {
   "cell_type": "code",
   "execution_count": 69,
   "metadata": {},
   "outputs": [],
   "source": [
    "xgb_param = {'eta': 0.06, 'seed':0, 'subsample': 0.8, 'colsample_bytree': 0.8, \n",
    "             'objective': 'binary:logistic', 'max_depth':6, 'min_child_weight':1} \n",
    "\n",
    "XGB_final = XGB.train(xgb_param, xgb_dmat, num_boost_round = 193)  ### our cv was stopet at 155"
   ]
  },
  {
   "cell_type": "markdown",
   "metadata": {},
   "source": [
    "### Plotting feature importance\n",
    "\n",
    "Generally, importance provides a score that indicates how useful or valuable each feature was in the construction of the boosted decision trees within the model. The more an attribute is used to make key decisions with decision trees, the higher its relative importance.\n",
    "\n",
    "This importance is calculated explicitly for each attribute in the dataset, allowing attributes to be ranked and compared to each other.\n",
    "\n",
    "Importance is calculated for a single decision tree by the amount that each attribute split point improves the performance measure, weighted by the number of observations the node is responsible for. The performance measure may be the purity (Gini index) used to select the split points or another more specific error function.\n",
    "\n",
    "The feature importances are then averaged across all of the the decision trees within the model."
   ]
  },
  {
   "cell_type": "code",
   "execution_count": 70,
   "metadata": {},
   "outputs": [
    {
     "data": {
      "text/plain": [
       "<matplotlib.axes._subplots.AxesSubplot at 0x22ad1ada848>"
      ]
     },
     "execution_count": 70,
     "metadata": {},
     "output_type": "execute_result"
    },
    {
     "data": {
      "text/plain": [
       "<Figure size 432x288 with 0 Axes>"
      ]
     },
     "metadata": {},
     "output_type": "display_data"
    },
    {
     "data": {
      "image/png": "[encoded data removed]",
      "text/plain": [
       "<Figure size 432x288 with 1 Axes>"
      ]
     },
     "metadata": {
      "needs_background": "light"
     },
     "output_type": "display_data"
    }
   ],
   "source": [
    "plt.figure(figsize=(6,4))\n",
    "XGB.plot_importance(XGB_final)\n",
    "## F score is a metric that simply sums up how many times each feature is split on"
   ]
  },
  {
   "cell_type": "markdown",
   "metadata": {},
   "source": [
    "This will tell us which features were most important in the series of trees. The **'fnlwgt'** feature seems to have the most importance filing.\n"
   ]
  },
  {
   "cell_type": "markdown",
   "metadata": {},
   "source": [
    "####  Lets compute the performance on test data"
   ]
  },
  {
   "cell_type": "markdown",
   "metadata": {},
   "source": [
    "The model has now been tuned using cross-validation grid search through the sklearn API and early stopping through the built-in XGBoost API. Now, we can see how it finally performs on the test set. Does it match our CV performance? First, create another DMatrix (this time for the test data)."
   ]
  },
  {
   "cell_type": "code",
   "execution_count": 71,
   "metadata": {},
   "outputs": [],
   "source": [
    "xgb_dmat_test = XGB.DMatrix(X_test)"
   ]
  },
  {
   "cell_type": "code",
   "execution_count": 72,
   "metadata": {},
   "outputs": [
    {
     "data": {
      "text/plain": [
       "array([0.00897498, 0.13539638, 0.5528122 , ..., 0.43945658, 0.00323098,\n",
       "       0.99821186], dtype=float32)"
      ]
     },
     "execution_count": 72,
     "metadata": {},
     "output_type": "execute_result"
    }
   ],
   "source": [
    "## lets calculate y_pred using DMAT\n",
    "y_pred_xgb = XGB_final.predict(xgb_dmat_test)\n",
    "y_pred_xgb"
   ]
  },
  {
   "cell_type": "markdown",
   "metadata": {},
   "source": [
    "**You can see that the predict function for XGBoost outputs probabilities** by default and not actual class labels. To calculate accuracy we need to convert these to a 0/1 label. We will set 0.5 probability as our threshold."
   ]
  },
  {
   "cell_type": "code",
   "execution_count": 73,
   "metadata": {},
   "outputs": [],
   "source": [
    "y_pred_xgb[y_pred_xgb>0.5] = 1\n",
    "y_pred_xgb[y_pred_xgb<=0.5] = 0"
   ]
  },
  {
   "cell_type": "code",
   "execution_count": 74,
   "metadata": {},
   "outputs": [
    {
     "data": {
      "text/plain": [
       "array([0., 0., 1., ..., 0., 0., 1.], dtype=float32)"
      ]
     },
     "execution_count": 74,
     "metadata": {},
     "output_type": "execute_result"
    }
   ],
   "source": [
    "y_pred_xgb"
   ]
  },
  {
   "cell_type": "code",
   "execution_count": 75,
   "metadata": {},
   "outputs": [
    {
     "name": "stdout",
     "output_type": "stream",
     "text": [
      "XGB Accuracy Score on test data : 0.8720366558204397\n"
     ]
    }
   ],
   "source": [
    "acc_score = metrics.accuracy_score(y_test,y_pred_xgb)\n",
    "print(\"XGB Accuracy Score on test data : {}\".format(acc_score))"
   ]
  },
  {
   "cell_type": "code",
   "execution_count": 76,
   "metadata": {},
   "outputs": [
    {
     "name": "stdout",
     "output_type": "stream",
     "text": [
      "XGB F1 Score on test data : 0.716242085112649\n"
     ]
    }
   ],
   "source": [
    "F1Score = metrics.f1_score(y_test,y_pred_xgb)\n",
    "print(\"XGB F1 Score on test data : {}\".format(F1Score))"
   ]
  },
  {
   "cell_type": "code",
   "execution_count": 77,
   "metadata": {},
   "outputs": [
    {
     "name": "stdout",
     "output_type": "stream",
     "text": [
      "XGB ROC_AUC Score on test data : 0.7984740100167815\n"
     ]
    }
   ],
   "source": [
    "ROC_AUC_Score = metrics.roc_auc_score(y_test,y_pred_xgb)\n",
    "print(\"XGB ROC_AUC Score on test data : {}\".format(ROC_AUC_Score))"
   ]
  },
  {
   "cell_type": "code",
   "execution_count": 79,
   "metadata": {},
   "outputs": [
    {
     "name": "stdout",
     "output_type": "stream",
     "text": [
      "              precision    recall  f1-score   support\n",
      "\n",
      "           0       0.89      0.94      0.92     11334\n",
      "           1       0.79      0.65      0.72      3725\n",
      "\n",
      "    accuracy                           0.87     15059\n",
      "   macro avg       0.84      0.80      0.82     15059\n",
      "weighted avg       0.87      0.87      0.87     15059\n",
      "\n"
     ]
    }
   ],
   "source": [
    "print(metrics.classification_report(y_test,y_pred_xgb))"
   ]
  },
  {
   "cell_type": "code",
   "execution_count": 81,
   "metadata": {},
   "outputs": [],
   "source": [
    "from mlxtend.plotting import plot_confusion_matrix"
   ]
  },
  {
   "cell_type": "code",
   "execution_count": 82,
   "metadata": {},
   "outputs": [
    {
     "data": {
      "text/plain": [
       "(<Figure size 432x288 with 1 Axes>,\n",
       " <matplotlib.axes._subplots.AxesSubplot at 0x22ad83d8648>)"
      ]
     },
     "execution_count": 82,
     "metadata": {},
     "output_type": "execute_result"
    },
    {
     "data": {
      "image/png": "[encoded data removed]",
      "text/plain": [
       "<Figure size 432x288 with 1 Axes>"
      ]
     },
     "metadata": {
      "needs_background": "light"
     },
     "output_type": "display_data"
    }
   ],
   "source": [
    "plot_confusion_matrix(metrics.confusion_matrix(y_test,y_pred_xgb))"
   ]
  },
  {
   "cell_type": "code",
   "execution_count": null,
   "metadata": {},
   "outputs": [],
   "source": []
  }
 ],
 "metadata": {
  "kernelspec": {
   "display_name": "Python 3",
   "language": "python",
   "name": "python3"
  },
  "language_info": {
   "codemirror_mode": {
    "name": "ipython",
    "version": 3
   },
   "file_extension": ".py",
   "mimetype": "text/x-python",
   "name": "python",
   "nbconvert_exporter": "python",
   "pygments_lexer": "ipython3",
   "version": "3.7.7"
  }
 },
 "nbformat": 4,
 "nbformat_minor": 4
}
