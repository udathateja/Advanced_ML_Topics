{
 "cells": [
  {
   "cell_type": "markdown",
   "id": "902ec07a",
   "metadata": {},
   "source": [
    "### Linear Discriminant Analysis in Python"
   ]
  },
  {
   "cell_type": "code",
   "execution_count": 1,
   "id": "062a32f3",
   "metadata": {},
   "outputs": [],
   "source": [
    "import numpy as np\n",
    "import pandas as pd\n",
    "import matplotlib.pyplot as plt\n",
    "import seaborn as sns"
   ]
  },
  {
   "cell_type": "code",
   "execution_count": 2,
   "id": "da30fd1a",
   "metadata": {},
   "outputs": [],
   "source": [
    "df_wine = pd.read_csv('https://archive.ics.uci.edu/ml/machine-learning-databases/wine/wine.data',header=None)"
   ]
  },
  {
   "cell_type": "code",
   "execution_count": 3,
   "id": "72135b5c",
   "metadata": {},
   "outputs": [],
   "source": [
    "df_wine.columns = ['Class label', 'Alcohol', 'Malic acid', 'Ash',\n",
    "                   'Alcalinity of ash', 'Magnesium', 'Total phenols',\n",
    "                   'Flavanoids', 'Nonflavanoid phenols', 'Proanthocyanins',\n",
    "                   'Color intensity', 'Hue',\n",
    "                   'OD280/OD315 of diluted wines', 'Proline']"
   ]
  },
  {
   "cell_type": "code",
   "execution_count": 4,
   "id": "1e30da36",
   "metadata": {},
   "outputs": [
    {
     "data": {
      "text/html": [
       "<div>\n",
       "<style scoped>\n",
       "    .dataframe tbody tr th:only-of-type {\n",
       "        vertical-align: middle;\n",
       "    }\n",
       "\n",
       "    .dataframe tbody tr th {\n",
       "        vertical-align: top;\n",
       "    }\n",
       "\n",
       "    .dataframe thead th {\n",
       "        text-align: right;\n",
       "    }\n",
       "</style>\n",
       "<table border=\"1\" class=\"dataframe\">\n",
       "  <thead>\n",
       "    <tr style=\"text-align: right;\">\n",
       "      <th></th>\n",
       "      <th>Class label</th>\n",
       "      <th>Alcohol</th>\n",
       "      <th>Malic acid</th>\n",
       "      <th>Ash</th>\n",
       "      <th>Alcalinity of ash</th>\n",
       "      <th>Magnesium</th>\n",
       "      <th>Total phenols</th>\n",
       "      <th>Flavanoids</th>\n",
       "      <th>Nonflavanoid phenols</th>\n",
       "      <th>Proanthocyanins</th>\n",
       "      <th>Color intensity</th>\n",
       "      <th>Hue</th>\n",
       "      <th>OD280/OD315 of diluted wines</th>\n",
       "      <th>Proline</th>\n",
       "    </tr>\n",
       "  </thead>\n",
       "  <tbody>\n",
       "    <tr>\n",
       "      <th>0</th>\n",
       "      <td>1</td>\n",
       "      <td>14.23</td>\n",
       "      <td>1.71</td>\n",
       "      <td>2.43</td>\n",
       "      <td>15.6</td>\n",
       "      <td>127</td>\n",
       "      <td>2.80</td>\n",
       "      <td>3.06</td>\n",
       "      <td>0.28</td>\n",
       "      <td>2.29</td>\n",
       "      <td>5.64</td>\n",
       "      <td>1.04</td>\n",
       "      <td>3.92</td>\n",
       "      <td>1065</td>\n",
       "    </tr>\n",
       "    <tr>\n",
       "      <th>1</th>\n",
       "      <td>1</td>\n",
       "      <td>13.20</td>\n",
       "      <td>1.78</td>\n",
       "      <td>2.14</td>\n",
       "      <td>11.2</td>\n",
       "      <td>100</td>\n",
       "      <td>2.65</td>\n",
       "      <td>2.76</td>\n",
       "      <td>0.26</td>\n",
       "      <td>1.28</td>\n",
       "      <td>4.38</td>\n",
       "      <td>1.05</td>\n",
       "      <td>3.40</td>\n",
       "      <td>1050</td>\n",
       "    </tr>\n",
       "    <tr>\n",
       "      <th>2</th>\n",
       "      <td>1</td>\n",
       "      <td>13.16</td>\n",
       "      <td>2.36</td>\n",
       "      <td>2.67</td>\n",
       "      <td>18.6</td>\n",
       "      <td>101</td>\n",
       "      <td>2.80</td>\n",
       "      <td>3.24</td>\n",
       "      <td>0.30</td>\n",
       "      <td>2.81</td>\n",
       "      <td>5.68</td>\n",
       "      <td>1.03</td>\n",
       "      <td>3.17</td>\n",
       "      <td>1185</td>\n",
       "    </tr>\n",
       "    <tr>\n",
       "      <th>3</th>\n",
       "      <td>1</td>\n",
       "      <td>14.37</td>\n",
       "      <td>1.95</td>\n",
       "      <td>2.50</td>\n",
       "      <td>16.8</td>\n",
       "      <td>113</td>\n",
       "      <td>3.85</td>\n",
       "      <td>3.49</td>\n",
       "      <td>0.24</td>\n",
       "      <td>2.18</td>\n",
       "      <td>7.80</td>\n",
       "      <td>0.86</td>\n",
       "      <td>3.45</td>\n",
       "      <td>1480</td>\n",
       "    </tr>\n",
       "    <tr>\n",
       "      <th>4</th>\n",
       "      <td>1</td>\n",
       "      <td>13.24</td>\n",
       "      <td>2.59</td>\n",
       "      <td>2.87</td>\n",
       "      <td>21.0</td>\n",
       "      <td>118</td>\n",
       "      <td>2.80</td>\n",
       "      <td>2.69</td>\n",
       "      <td>0.39</td>\n",
       "      <td>1.82</td>\n",
       "      <td>4.32</td>\n",
       "      <td>1.04</td>\n",
       "      <td>2.93</td>\n",
       "      <td>735</td>\n",
       "    </tr>\n",
       "  </tbody>\n",
       "</table>\n",
       "</div>"
      ],
      "text/plain": [
       "   Class label  Alcohol  Malic acid   Ash  Alcalinity of ash  Magnesium  \\\n",
       "0            1    14.23        1.71  2.43               15.6        127   \n",
       "1            1    13.20        1.78  2.14               11.2        100   \n",
       "2            1    13.16        2.36  2.67               18.6        101   \n",
       "3            1    14.37        1.95  2.50               16.8        113   \n",
       "4            1    13.24        2.59  2.87               21.0        118   \n",
       "\n",
       "   Total phenols  Flavanoids  Nonflavanoid phenols  Proanthocyanins  \\\n",
       "0           2.80        3.06                  0.28             2.29   \n",
       "1           2.65        2.76                  0.26             1.28   \n",
       "2           2.80        3.24                  0.30             2.81   \n",
       "3           3.85        3.49                  0.24             2.18   \n",
       "4           2.80        2.69                  0.39             1.82   \n",
       "\n",
       "   Color intensity   Hue  OD280/OD315 of diluted wines  Proline  \n",
       "0             5.64  1.04                          3.92     1065  \n",
       "1             4.38  1.05                          3.40     1050  \n",
       "2             5.68  1.03                          3.17     1185  \n",
       "3             7.80  0.86                          3.45     1480  \n",
       "4             4.32  1.04                          2.93      735  "
      ]
     },
     "execution_count": 4,
     "metadata": {},
     "output_type": "execute_result"
    }
   ],
   "source": [
    "df_wine.head()"
   ]
  },
  {
   "cell_type": "code",
   "execution_count": 5,
   "id": "6962d5e6",
   "metadata": {},
   "outputs": [],
   "source": [
    "# Add The \"_\" in the column Name\n",
    "df_wine.columns = df_wine.columns.str.replace(\" \",\"_\")"
   ]
  },
  {
   "cell_type": "code",
   "execution_count": 6,
   "id": "c56904ba",
   "metadata": {},
   "outputs": [
    {
     "data": {
      "text/plain": [
       "Index(['Class_label', 'Alcohol', 'Malic_acid', 'Ash', 'Alcalinity_of_ash',\n",
       "       'Magnesium', 'Total_phenols', 'Flavanoids', 'Nonflavanoid_phenols',\n",
       "       'Proanthocyanins', 'Color_intensity', 'Hue',\n",
       "       'OD280/OD315_of_diluted_wines', 'Proline'],\n",
       "      dtype='object')"
      ]
     },
     "execution_count": 6,
     "metadata": {},
     "output_type": "execute_result"
    }
   ],
   "source": [
    "df_wine.columns"
   ]
  },
  {
   "cell_type": "code",
   "execution_count": 7,
   "id": "2f53bfe4",
   "metadata": {},
   "outputs": [
    {
     "data": {
      "text/plain": [
       "2    71\n",
       "1    59\n",
       "3    48\n",
       "Name: Class_label, dtype: int64"
      ]
     },
     "execution_count": 7,
     "metadata": {},
     "output_type": "execute_result"
    }
   ],
   "source": [
    "df_wine.Class_label.value_counts()"
   ]
  },
  {
   "cell_type": "code",
   "execution_count": 8,
   "id": "ad786df5",
   "metadata": {},
   "outputs": [
    {
     "data": {
      "text/plain": [
       "[1, 2, 3]"
      ]
     },
     "execution_count": 8,
     "metadata": {},
     "output_type": "execute_result"
    }
   ],
   "source": [
    "class_value = df_wine[\"Class_label\"].explode().unique().tolist()\n",
    "class_value"
   ]
  },
  {
   "cell_type": "code",
   "execution_count": 9,
   "id": "fda1b232",
   "metadata": {},
   "outputs": [
    {
     "data": {
      "text/plain": [
       "3"
      ]
     },
     "execution_count": 9,
     "metadata": {},
     "output_type": "execute_result"
    }
   ],
   "source": [
    "class_count = len(class_value)\n",
    "class_count"
   ]
  },
  {
   "cell_type": "code",
   "execution_count": 10,
   "id": "a3032577",
   "metadata": {},
   "outputs": [],
   "source": [
    "X_ori = df_wine.drop(\"Class_label\",axis=1).values\n",
    "y_ori = df_wine[\"Class_label\"].values"
   ]
  },
  {
   "cell_type": "code",
   "execution_count": 11,
   "id": "9290f177",
   "metadata": {},
   "outputs": [
    {
     "name": "stdout",
     "output_type": "stream",
     "text": [
      "(178, 13)\n",
      "(178,)\n",
      "<class 'numpy.ndarray'>\n",
      "<class 'numpy.ndarray'>\n"
     ]
    }
   ],
   "source": [
    "print(X_ori.shape)\n",
    "print(y_ori.shape)\n",
    "print(type(X_ori))\n",
    "print(type(y_ori))"
   ]
  },
  {
   "cell_type": "code",
   "execution_count": 12,
   "id": "eda1f94b",
   "metadata": {},
   "outputs": [
    {
     "data": {
      "text/plain": [
       "13"
      ]
     },
     "execution_count": 12,
     "metadata": {},
     "output_type": "execute_result"
    }
   ],
   "source": [
    "features = X_ori.shape[1]\n",
    "features"
   ]
  },
  {
   "cell_type": "code",
   "execution_count": 13,
   "id": "388987cf",
   "metadata": {},
   "outputs": [],
   "source": [
    "from sklearn.model_selection import train_test_split"
   ]
  },
  {
   "cell_type": "code",
   "execution_count": 14,
   "id": "b2a21602",
   "metadata": {},
   "outputs": [],
   "source": [
    "X_train,X_test,y_train,y_test = train_test_split(X_ori,y_ori,test_size=0.3,random_state=42)"
   ]
  },
  {
   "cell_type": "code",
   "execution_count": 15,
   "id": "01924265",
   "metadata": {},
   "outputs": [
    {
     "name": "stdout",
     "output_type": "stream",
     "text": [
      "(124, 13)\n",
      "(124,)\n",
      "<class 'numpy.ndarray'>\n",
      "<class 'numpy.ndarray'>\n"
     ]
    }
   ],
   "source": [
    "print(X_train.shape)\n",
    "print(y_train.shape)\n",
    "print(type(X_train))\n",
    "print(type(y_train))"
   ]
  },
  {
   "cell_type": "code",
   "execution_count": 16,
   "id": "67802e7f",
   "metadata": {},
   "outputs": [
    {
     "name": "stdout",
     "output_type": "stream",
     "text": [
      "(54, 13)\n",
      "(54,)\n",
      "<class 'numpy.ndarray'>\n",
      "<class 'numpy.ndarray'>\n"
     ]
    }
   ],
   "source": [
    "print(X_test.shape)\n",
    "print(y_test.shape)\n",
    "print(type(X_test))\n",
    "print(type(y_test))"
   ]
  },
  {
   "cell_type": "code",
   "execution_count": 17,
   "id": "5a4d5321",
   "metadata": {},
   "outputs": [
    {
     "data": {
      "text/plain": [
       "StandardScaler()"
      ]
     },
     "execution_count": 17,
     "metadata": {},
     "output_type": "execute_result"
    }
   ],
   "source": [
    "# scale the data\n",
    "from sklearn.preprocessing import StandardScaler\n",
    "scale = StandardScaler()\n",
    "scale.fit(X_train)"
   ]
  },
  {
   "cell_type": "code",
   "execution_count": 18,
   "id": "893beb37",
   "metadata": {},
   "outputs": [],
   "source": [
    "# scale the training datatset\n",
    "X_train_scale = scale.transform(X_train)\n",
    "y = y_train"
   ]
  },
  {
   "cell_type": "code",
   "execution_count": 19,
   "id": "cee690bd",
   "metadata": {},
   "outputs": [],
   "source": [
    "# scale the test datatset\n",
    "X_test_scale = scale.transform(X_test)"
   ]
  },
  {
   "cell_type": "code",
   "execution_count": 20,
   "id": "3c95d818",
   "metadata": {},
   "outputs": [],
   "source": [
    "X = X_train_scale"
   ]
  },
  {
   "cell_type": "code",
   "execution_count": 21,
   "id": "c9eeacda",
   "metadata": {},
   "outputs": [
    {
     "name": "stdout",
     "output_type": "stream",
     "text": [
      "(124, 13)\n",
      "(124,)\n",
      "<class 'numpy.ndarray'>\n",
      "<class 'numpy.ndarray'>\n"
     ]
    }
   ],
   "source": [
    "print(X.shape)\n",
    "print(y.shape)\n",
    "print(type(X))\n",
    "print(type(y))"
   ]
  },
  {
   "cell_type": "code",
   "execution_count": 22,
   "id": "b9dc1a0c",
   "metadata": {},
   "outputs": [
    {
     "data": {
      "text/plain": [
       "0.0"
      ]
     },
     "execution_count": 22,
     "metadata": {},
     "output_type": "execute_result"
    }
   ],
   "source": [
    "np.round(X.mean(),4)"
   ]
  },
  {
   "cell_type": "markdown",
   "id": "32927540",
   "metadata": {},
   "source": [
    "LDA is based upon the concept of searching for a linear combination of variables (predictors) that best separates two classes (targets)\n",
    "Here are the 5 steps that constitute LDA."
   ]
  },
  {
   "cell_type": "markdown",
   "id": "36a68bd0",
   "metadata": {},
   "source": [
    "<img src=\"https://raw.githubusercontent.com/atulpatelDS/Machine_Learning/master/Images/LDA_Steps.png\" width=\"550\" height=\"600\" align=\"left\"/></img>"
   ]
  },
  {
   "cell_type": "markdown",
   "id": "f5d500d3",
   "metadata": {},
   "source": [
    "### 1. Create the mean vector for all 3 classes"
   ]
  },
  {
   "cell_type": "code",
   "execution_count": 23,
   "id": "1284f590",
   "metadata": {},
   "outputs": [],
   "source": [
    "#np.mean(X)"
   ]
  },
  {
   "cell_type": "code",
   "execution_count": 24,
   "id": "522607b2",
   "metadata": {},
   "outputs": [],
   "source": [
    "#c1 = np.mean(X[y==1],axis=0)\n",
    "#c1"
   ]
  },
  {
   "cell_type": "code",
   "execution_count": 25,
   "id": "f8fa2c7b",
   "metadata": {},
   "outputs": [],
   "source": [
    "#c2 = np.mean(X[y==2],axis=0)\n",
    "#c2"
   ]
  },
  {
   "cell_type": "code",
   "execution_count": 26,
   "id": "0f89d0d1",
   "metadata": {},
   "outputs": [],
   "source": [
    "#c3 = np.mean(X[y==3],axis=0)\n",
    "#c3"
   ]
  },
  {
   "cell_type": "code",
   "execution_count": 27,
   "id": "d44ea8b7",
   "metadata": {},
   "outputs": [],
   "source": [
    "#type(c1)"
   ]
  },
  {
   "cell_type": "code",
   "execution_count": 28,
   "id": "69fe2946",
   "metadata": {},
   "outputs": [],
   "source": [
    "#V_mean = []"
   ]
  },
  {
   "cell_type": "code",
   "execution_count": 29,
   "id": "a6de77a1",
   "metadata": {},
   "outputs": [],
   "source": [
    "#type(V_mean)"
   ]
  },
  {
   "cell_type": "code",
   "execution_count": 30,
   "id": "06fa94f5",
   "metadata": {},
   "outputs": [],
   "source": [
    "#for i in [c1,c2,c3]:\n",
    "#    V_mean.append(i)"
   ]
  },
  {
   "cell_type": "code",
   "execution_count": 31,
   "id": "248c2c36",
   "metadata": {},
   "outputs": [],
   "source": [
    "#V_mean"
   ]
  },
  {
   "cell_type": "code",
   "execution_count": 32,
   "id": "db7d57b9",
   "metadata": {},
   "outputs": [
    {
     "name": "stdout",
     "output_type": "stream",
     "text": [
      "mean vector for class 1 : [ 0.93897593 -0.36706207  0.30420702 -0.79393526  0.44892803  0.88914993\n",
      "  0.96562026 -0.49124188  0.55803006  0.21694825  0.45068982  0.77049323\n",
      "  1.17072198]\n",
      "\n",
      "mean vector for class 2 : [-0.85970362 -0.32935245 -0.3958741   0.29797788 -0.30832714 -0.04961672\n",
      "  0.06144507 -0.03008465  0.1508999  -0.86704092  0.42607802  0.28089573\n",
      " -0.69490638]\n",
      "\n",
      "mean vector for class 3 : [ 0.15959246  0.91617957  0.22427718  0.49583872 -0.07472835 -0.97309298\n",
      " -1.22638422  0.62217375 -0.87841758  1.01982694 -1.15680864 -1.31954459\n",
      " -0.35539884]\n",
      "\n"
     ]
    }
   ],
   "source": [
    "#Another way to compute the \"V_mean\" , we can directly use for loop to compute the mean of each class corresponding to each columns\n",
    "V_mean = []\n",
    "for i in class_value: # clsses\n",
    "    V_mean.append(np.mean(X[y==i],axis=0))\n",
    "    print(\"mean vector for class %s : %s\\n\" % (i,V_mean[i-1]))"
   ]
  },
  {
   "cell_type": "code",
   "execution_count": 33,
   "id": "0d84cc56",
   "metadata": {},
   "outputs": [],
   "source": [
    "V_mean  = np.round(V_mean,4)\n",
    "#V_mean"
   ]
  },
  {
   "cell_type": "markdown",
   "id": "9df80955",
   "metadata": {},
   "source": [
    "### 2.1 Create the scatter matrix With-in class (S_w)"
   ]
  },
  {
   "cell_type": "markdown",
   "id": "7f291220",
   "metadata": {},
   "source": [
    "<img src=\"https://raw.githubusercontent.com/atulpatelDS/Machine_Learning/master/Images/WithinClass.png\" width=\"350\" height=\"600\" align=\"left\"/></img>"
   ]
  },
  {
   "cell_type": "markdown",
   "id": "f72e5a1f",
   "metadata": {},
   "source": [
    "where c is the total number of distinct classes\n",
    "\n",
    "where x is a sample (i.e. row) and n is the total number of samples with a given class."
   ]
  },
  {
   "cell_type": "code",
   "execution_count": 34,
   "id": "9319a47b",
   "metadata": {},
   "outputs": [],
   "source": [
    "# total no of features or we can say variables\n",
    "d = features\n",
    "\n",
    "# define Witn-in class scatter matrix \n",
    "S_w = np.zeros((d,d))\n",
    "\n",
    "# lets calculate the scatter matrix of each class and then Witn-in class\n",
    "\n",
    "# For loop for the Witn-in Class Scatter Matrix S_w\n",
    "for c,mv in zip(class_value,V_mean):  # label is the no of the classes\n",
    "    \n",
    "    # define class scatter matrix \n",
    "    S_k = np.zeros((d,d))\n",
    "    \n",
    "    # for loop for the Class Scatter Matrix\n",
    "    for i in X[y==c]:\n",
    "        # Make the column vectors to calculate the scatter matrix of each class\n",
    "        x = i.reshape(d,1)\n",
    "        mi = mv.reshape(d,1)\n",
    "        # make the class scatter matrix using the column vectors\n",
    "        S_k += (x-mi).dot((x-mi).T)\n",
    "    \n",
    "    # Now sum all the Class scatter Matrix\n",
    "    S_w += S_k"
   ]
  },
  {
   "cell_type": "code",
   "execution_count": 35,
   "id": "193abc4e",
   "metadata": {},
   "outputs": [],
   "source": [
    "#x = X[y==1]"
   ]
  },
  {
   "cell_type": "code",
   "execution_count": 36,
   "id": "b94dc660",
   "metadata": {},
   "outputs": [],
   "source": [
    "#x.shape"
   ]
  },
  {
   "cell_type": "code",
   "execution_count": 37,
   "id": "6d23b6e7",
   "metadata": {},
   "outputs": [
    {
     "data": {
      "text/plain": [
       "(13, 13)"
      ]
     },
     "execution_count": 37,
     "metadata": {},
     "output_type": "execute_result"
    }
   ],
   "source": [
    "S_w.shape"
   ]
  },
  {
   "cell_type": "code",
   "execution_count": 38,
   "id": "e53183fd",
   "metadata": {},
   "outputs": [],
   "source": [
    "S_w = np.round(S_w,4)\n",
    "#S_w"
   ]
  },
  {
   "cell_type": "markdown",
   "id": "057abe9c",
   "metadata": {},
   "source": [
    "### 2.2 Create the scatter matrix Between the classes (S_b)"
   ]
  },
  {
   "cell_type": "markdown",
   "id": "ace78f18",
   "metadata": {},
   "source": [
    "<img src=\"https://raw.githubusercontent.com/atulpatelDS/Machine_Learning/master/Images/betweenclass.png\" width=\"400\" height=\"600\" align=\"left\"/></img>"
   ]
  },
  {
   "cell_type": "markdown",
   "id": "9cdb81f7",
   "metadata": {},
   "source": [
    "<img src=\"https://raw.githubusercontent.com/atulpatelDS/Machine_Learning/master/Images/betweenclass1.png\" width=\"300\" height=\"600\" align=\"left\"/></img>"
   ]
  },
  {
   "cell_type": "code",
   "execution_count": 39,
   "id": "34cc6176",
   "metadata": {},
   "outputs": [],
   "source": [
    "# Lets calculate the Between class scatter matrix S_b\n",
    "\n",
    "# total no of variables\n",
    "d = features\n",
    "\n",
    "# Define the Between Scatter Matrix\n",
    "S_b = np.zeros((d,d))\n",
    "\n",
    "# for loop to calculate the Between Scatter Matrix S_b\n",
    "\n",
    "for c,mv in enumerate(V_mean,start=1):\n",
    "    \n",
    "    # calculate the size of the individual classes\n",
    "    n = X[y == c].shape[0]\n",
    "    \n",
    "    # Calculate the column class mean vector\n",
    "    mi = mv.reshape(d,1)\n",
    "    \n",
    "    # Lets calculate the Overall mean and convert into column vector\n",
    "    m = np.mean(X,axis=0).reshape(d,1)\n",
    "    \n",
    "    # Now lets calculate the Between Scatter Matrix using the formula as mention above\n",
    "    \n",
    "    S_b += n*((mi-m).dot((mi-m).T)) "
   ]
  },
  {
   "cell_type": "code",
   "execution_count": 40,
   "id": "1efa0b76",
   "metadata": {},
   "outputs": [],
   "source": [
    "#n = X[y == c].shape[0]"
   ]
  },
  {
   "cell_type": "code",
   "execution_count": 41,
   "id": "b7b29aeb",
   "metadata": {},
   "outputs": [],
   "source": [
    "#n"
   ]
  },
  {
   "cell_type": "code",
   "execution_count": 42,
   "id": "4ff7d1b9",
   "metadata": {},
   "outputs": [
    {
     "data": {
      "text/plain": [
       "(13, 13)"
      ]
     },
     "execution_count": 42,
     "metadata": {},
     "output_type": "execute_result"
    }
   ],
   "source": [
    "S_b.shape"
   ]
  },
  {
   "cell_type": "code",
   "execution_count": 43,
   "id": "16b89107",
   "metadata": {},
   "outputs": [],
   "source": [
    "#S_b"
   ]
  },
  {
   "cell_type": "markdown",
   "id": "b62a00ba",
   "metadata": {},
   "source": [
    "### 3. Calculate the Eigen Value and Eigen Vectors "
   ]
  },
  {
   "cell_type": "markdown",
   "id": "fda37d9c",
   "metadata": {},
   "source": [
    "Now we will solve the generalized eigenvalue problem for the below matrix to obtain the linear discriminants."
   ]
  },
  {
   "cell_type": "markdown",
   "id": "1124998d",
   "metadata": {},
   "source": [
    "<img src=\"https://raw.githubusercontent.com/atulpatelDS/Machine_Learning/master/Images/Gerenalized_matrix.PNG\" width=\"200\" height=\"600\" align=\"left\"/></img>"
   ]
  },
  {
   "cell_type": "code",
   "execution_count": 44,
   "id": "a209ae20",
   "metadata": {},
   "outputs": [],
   "source": [
    "Eigen_values,Eigen_vectors = np.linalg.eig(np.linalg.inv(S_w).dot(S_b))"
   ]
  },
  {
   "cell_type": "code",
   "execution_count": 45,
   "id": "89d50ec6",
   "metadata": {},
   "outputs": [
    {
     "name": "stdout",
     "output_type": "stream",
     "text": [
      "(13,)\n",
      "(13, 13)\n"
     ]
    }
   ],
   "source": [
    "print(Eigen_values.shape)\n",
    "print(Eigen_vectors.shape)"
   ]
  },
  {
   "cell_type": "code",
   "execution_count": 46,
   "id": "dcd3f595",
   "metadata": {},
   "outputs": [
    {
     "data": {
      "text/plain": [
       "array([ 8.93902116e+00+0.00000000e+00j,  3.95241708e+00+0.00000000e+00j,\n",
       "        9.92705293e-09+0.00000000e+00j,  8.87021085e-16+0.00000000e+00j,\n",
       "       -5.75526301e-16+3.33115366e-16j, -5.75526301e-16-3.33115366e-16j,\n",
       "        4.12209414e-16+0.00000000e+00j, -5.50174685e-16+0.00000000e+00j,\n",
       "       -3.75850491e-16+0.00000000e+00j, -5.98659672e-19+3.10228874e-16j,\n",
       "       -5.98659672e-19-3.10228874e-16j,  6.32521745e-17+0.00000000e+00j,\n",
       "        5.02774325e-18+0.00000000e+00j])"
      ]
     },
     "execution_count": 46,
     "metadata": {},
     "output_type": "execute_result"
    }
   ],
   "source": [
    "Eigen_values"
   ]
  },
  {
   "cell_type": "markdown",
   "id": "8ed84a96",
   "metadata": {},
   "source": [
    "### 4. Sort the Eigen_vectors by using Eigen_values"
   ]
  },
  {
   "cell_type": "code",
   "execution_count": 47,
   "id": "d6cc29aa",
   "metadata": {},
   "outputs": [],
   "source": [
    "#ids = Eigen_values.argsort()"
   ]
  },
  {
   "cell_type": "code",
   "execution_count": 48,
   "id": "192d50e7",
   "metadata": {},
   "outputs": [],
   "source": [
    "#ids"
   ]
  },
  {
   "cell_type": "code",
   "execution_count": 49,
   "id": "ec29d8ee",
   "metadata": {},
   "outputs": [],
   "source": [
    "#Eigen_vector_sorted = Eigen_vectors[:,ids] "
   ]
  },
  {
   "cell_type": "code",
   "execution_count": 50,
   "id": "82b1a73a",
   "metadata": {},
   "outputs": [],
   "source": [
    "eigen_value_vector_pair = [(np.abs(Eigen_values[i]),Eigen_vectors[:,i]) for i in range(len(Eigen_values))]"
   ]
  },
  {
   "cell_type": "code",
   "execution_count": 51,
   "id": "66e61da8",
   "metadata": {},
   "outputs": [],
   "source": [
    "eigen_value_vector_pair = sorted(eigen_value_vector_pair,key=lambda k:k[0],reverse=True)"
   ]
  },
  {
   "cell_type": "code",
   "execution_count": 52,
   "id": "9a41662b",
   "metadata": {},
   "outputs": [
    {
     "name": "stdout",
     "output_type": "stream",
     "text": [
      "Eigen Value 1 : 8.939021155538134\n",
      "Eigen Value 2 : 3.9524170807690133\n",
      "Eigen Value 3 : 9.927052927577906e-09\n",
      "Eigen Value 4 : 8.870210852882995e-16\n",
      "Eigen Value 5 : 6.649784735720713e-16\n",
      "Eigen Value 6 : 6.649784735720713e-16\n",
      "Eigen Value 7 : 5.501746847612816e-16\n",
      "Eigen Value 8 : 4.122094141447847e-16\n",
      "Eigen Value 9 : 3.758504906936685e-16\n",
      "Eigen Value 10 : 3.1022945162019336e-16\n",
      "Eigen Value 11 : 3.1022945162019336e-16\n",
      "Eigen Value 12 : 6.325217448443546e-17\n",
      "Eigen Value 13 : 5.027743250874774e-18\n"
     ]
    }
   ],
   "source": [
    "# Display the Eigen_values in decreasing order\n",
    "for i,j in enumerate(eigen_value_vector_pair,start=1):\n",
    "    print(\"Eigen Value {} : {}\".format(i,j[0]))"
   ]
  },
  {
   "cell_type": "code",
   "execution_count": 53,
   "id": "10c4fcf1",
   "metadata": {},
   "outputs": [
    {
     "name": "stdout",
     "output_type": "stream",
     "text": [
      "Explained Varinace :\n",
      "\n",
      "Eigen Value 1 : 69.34075922947828\n",
      "Eigen Value 2 : 30.659240693516715\n",
      "Eigen Value 3 : 7.700500702842648e-08\n",
      "Eigen Value 4 : 6.880699176815378e-15\n",
      "Eigen Value 5 : 5.158295458354481e-15\n",
      "Eigen Value 6 : 5.158295458354481e-15\n",
      "Eigen Value 7 : 4.267752552140539e-15\n",
      "Eigen Value 8 : 3.1975440309400528e-15\n",
      "Eigen Value 9 : 2.91550472115445e-15\n",
      "Eigen Value 10 : 2.4064766529119935e-15\n",
      "Eigen Value 11 : 2.4064766529119935e-15\n",
      "Eigen Value 12 : 4.9065258100982215e-16\n",
      "Eigen Value 13 : 3.900063867849237e-17\n"
     ]
    }
   ],
   "source": [
    "# Calculate the explained Variance\n",
    "print(\"Explained Varinace :\\n\")\n",
    "sum_eigen_values = sum(Eigen_values.real)\n",
    "for i, j in enumerate(eigen_value_vector_pair,start=1):\n",
    "    print(\"Eigen Value {} : {}\".format(i,(j[0]/sum_eigen_values)*100))"
   ]
  },
  {
   "cell_type": "markdown",
   "id": "56b2d124",
   "metadata": {},
   "source": [
    "### 5. Select the top k Eigen_vectors"
   ]
  },
  {
   "cell_type": "code",
   "execution_count": 54,
   "id": "3efbd313",
   "metadata": {},
   "outputs": [],
   "source": [
    "explained_var = np.round(((Eigen_values.real)/sum(Eigen_values.real)),4)"
   ]
  },
  {
   "cell_type": "code",
   "execution_count": 55,
   "id": "7c7e356f",
   "metadata": {},
   "outputs": [
    {
     "data": {
      "text/plain": [
       "array([ 0.6934,  0.3066,  0.    ,  0.    , -0.    , -0.    ,  0.    ,\n",
       "       -0.    , -0.    , -0.    , -0.    ,  0.    ,  0.    ])"
      ]
     },
     "execution_count": 55,
     "metadata": {},
     "output_type": "execute_result"
    }
   ],
   "source": [
    "explained_var"
   ]
  },
  {
   "cell_type": "code",
   "execution_count": 56,
   "id": "0f03594a",
   "metadata": {},
   "outputs": [
    {
     "data": {
      "text/plain": [
       "[<matplotlib.lines.Line2D at 0x26e564583d0>]"
      ]
     },
     "execution_count": 56,
     "metadata": {},
     "output_type": "execute_result"
    },
    {
     "data": {
      "image/png": "[encoded data removed]",
      "text/plain": [
       "<Figure size 432x288 with 1 Axes>"
      ]
     },
     "metadata": {
      "needs_background": "light"
     },
     "output_type": "display_data"
    }
   ],
   "source": [
    "plt.plot(range(1,features+1),np.cumsum(explained_var))"
   ]
  },
  {
   "cell_type": "code",
   "execution_count": 57,
   "id": "3d32704c",
   "metadata": {},
   "outputs": [
    {
     "data": {
      "image/png": "[encoded data removed]",
      "text/plain": [
       "<Figure size 432x288 with 1 Axes>"
      ]
     },
     "metadata": {
      "needs_background": "light"
     },
     "output_type": "display_data"
    }
   ],
   "source": [
    "plt.bar(range(1,features+1),explained_var,alpha = 0.5,align = \"center\",label = 'Individual \"Discriminability\"')\n",
    "plt.step(range(1, features+1),np.cumsum(explained_var), where='mid', label='cumulative \"discriminability\"')\n",
    "plt.ylabel('\"discriminability\" ratio')\n",
    "plt.xlabel('Linear Discriminants')\n",
    "plt.ylim([-0.1, 1.1])\n",
    "plt.legend(loc='best')\n",
    "plt.show()"
   ]
  },
  {
   "cell_type": "markdown",
   "id": "9cb7780c",
   "metadata": {},
   "source": [
    "Discriminative Ratio is the S_b/S_w ,means ratio of \"Distance between classes\"/\"Distance within Class\".\n",
    "If it is close to 1 than measn there is much separation between the class and very very less variance within the class datasets.If we see the above graph we will observe that 1st Linear discriminant(Eigen Vector) is able to explain close to 70% discriminability and 2nd close to 30%.If we take cumulative of 1st and 2nd components (Eigen Vectors) , both components cumulatively are able to explain close to 100% discriminability(see the blue line)."
   ]
  },
  {
   "cell_type": "markdown",
   "id": "abb4bd2f",
   "metadata": {},
   "source": [
    "### 6. Form the 'd x k' dimentional matrix W"
   ]
  },
  {
   "cell_type": "markdown",
   "id": "f3cbc2ad",
   "metadata": {},
   "source": [
    "it is now time to construct our d X k dimensional eigenvector\n",
    "matrix W (here 13X2) and thereby reducing the initial 13 dimensional feature space into a 2 dimensional feature\n",
    "subspace. As we found that 2 eigen vectors are able to explain close to 100% discriminability so we will create a matrix W with the first two eigenvectors."
   ]
  },
  {
   "cell_type": "code",
   "execution_count": 58,
   "id": "c6de999a",
   "metadata": {},
   "outputs": [
    {
     "data": {
      "text/plain": [
       "list"
      ]
     },
     "execution_count": 58,
     "metadata": {},
     "output_type": "execute_result"
    }
   ],
   "source": [
    "type(eigen_value_vector_pair)"
   ]
  },
  {
   "cell_type": "code",
   "execution_count": 59,
   "id": "a9de2b0c",
   "metadata": {},
   "outputs": [],
   "source": [
    "# 1st eigen vector\n",
    "ev1 = eigen_value_vector_pair[0][1].real\n",
    "ev2 = eigen_value_vector_pair[1][1].real"
   ]
  },
  {
   "cell_type": "code",
   "execution_count": 60,
   "id": "4b5e4ebe",
   "metadata": {},
   "outputs": [
    {
     "data": {
      "text/plain": [
       "(13,)"
      ]
     },
     "execution_count": 60,
     "metadata": {},
     "output_type": "execute_result"
    }
   ],
   "source": [
    "ev1.shape"
   ]
  },
  {
   "cell_type": "code",
   "execution_count": 61,
   "id": "7622c889",
   "metadata": {},
   "outputs": [
    {
     "data": {
      "text/plain": [
       "(13,)"
      ]
     },
     "execution_count": 61,
     "metadata": {},
     "output_type": "execute_result"
    }
   ],
   "source": [
    "ev2.shape"
   ]
  },
  {
   "cell_type": "code",
   "execution_count": 62,
   "id": "cccda2eb",
   "metadata": {},
   "outputs": [],
   "source": [
    "W = np.hstack((ev1.reshape(features,1),ev2.reshape(features,1)))"
   ]
  },
  {
   "cell_type": "code",
   "execution_count": 63,
   "id": "d88aecf2",
   "metadata": {},
   "outputs": [
    {
     "data": {
      "text/plain": [
       "(13, 2)"
      ]
     },
     "execution_count": 63,
     "metadata": {},
     "output_type": "execute_result"
    }
   ],
   "source": [
    "W.shape"
   ]
  },
  {
   "cell_type": "code",
   "execution_count": 64,
   "id": "2c648a67",
   "metadata": {},
   "outputs": [
    {
     "data": {
      "text/plain": [
       "array([[-0.11727944, -0.42224992],\n",
       "       [ 0.07554281, -0.1553273 ],\n",
       "       [-0.04493831, -0.43067183],\n",
       "       [ 0.24251435,  0.39093574],\n",
       "       [ 0.00409591, -0.00143299],\n",
       "       [ 0.18498309, -0.10750486],\n",
       "       [-0.70711234,  0.26438457],\n",
       "       [-0.06954694,  0.08603312],\n",
       "       [ 0.03888924,  0.16977139],\n",
       "       [ 0.35082905, -0.33702165],\n",
       "       [-0.07542071,  0.16985548],\n",
       "       [-0.35334738,  0.06359842],\n",
       "       [-0.3542456 , -0.4417099 ]])"
      ]
     },
     "execution_count": 64,
     "metadata": {},
     "output_type": "execute_result"
    }
   ],
   "source": [
    "W"
   ]
  },
  {
   "cell_type": "markdown",
   "id": "120f7646",
   "metadata": {},
   "source": [
    "### 6. Use matrix W to transform the samples onto a new subspace Y"
   ]
  },
  {
   "cell_type": "markdown",
   "id": "0b789e4a",
   "metadata": {},
   "source": [
    "we will use the dot product of X and W to get the new matrix Y.\n",
    "where X is a n×d matrix with n samples and d dimensions, and Y is a n×k matrix with n samples and k ( k<n) dimensions. In other words, Y is composed of the LDA components, or in another way, the new feature space."
   ]
  },
  {
   "cell_type": "code",
   "execution_count": 65,
   "id": "cc19a3fd",
   "metadata": {},
   "outputs": [],
   "source": [
    "Y = X.dot(W)"
   ]
  },
  {
   "cell_type": "code",
   "execution_count": 66,
   "id": "3f74913a",
   "metadata": {},
   "outputs": [
    {
     "name": "stdout",
     "output_type": "stream",
     "text": [
      "(124, 2)\n",
      "<class 'numpy.ndarray'>\n"
     ]
    }
   ],
   "source": [
    "print(Y.shape)\n",
    "print(type(Y))"
   ]
  },
  {
   "cell_type": "markdown",
   "id": "aa9ea3fd",
   "metadata": {},
   "source": [
    "### Plot the data with 2 LDA components"
   ]
  },
  {
   "cell_type": "code",
   "execution_count": 67,
   "id": "19faf7b8",
   "metadata": {},
   "outputs": [
    {
     "data": {
      "image/png": "[encoded data removed]",
      "text/plain": [
       "<Figure size 432x288 with 1 Axes>"
      ]
     },
     "metadata": {
      "needs_background": "light"
     },
     "output_type": "display_data"
    }
   ],
   "source": [
    "plt.scatter(x= Y[:,0],y = Y[:,1],c = y)\n",
    "plt.xlabel(\"LDA1\")\n",
    "plt.ylabel(\"LDA2\")\n",
    "plt.show()"
   ]
  },
  {
   "cell_type": "markdown",
   "id": "90f0bac6",
   "metadata": {},
   "source": [
    "### Lets compare the result with SKLEARN LDA Class"
   ]
  },
  {
   "cell_type": "code",
   "execution_count": 68,
   "id": "e8d88d78",
   "metadata": {},
   "outputs": [],
   "source": [
    "from sklearn.discriminant_analysis import LinearDiscriminantAnalysis"
   ]
  },
  {
   "cell_type": "code",
   "execution_count": 69,
   "id": "2a73643e",
   "metadata": {},
   "outputs": [
    {
     "data": {
      "text/plain": [
       "LinearDiscriminantAnalysis()"
      ]
     },
     "execution_count": 69,
     "metadata": {},
     "output_type": "execute_result"
    }
   ],
   "source": [
    "lda = LinearDiscriminantAnalysis()\n",
    "lda.fit(X,y)"
   ]
  },
  {
   "cell_type": "code",
   "execution_count": 70,
   "id": "6ee8de23",
   "metadata": {},
   "outputs": [
    {
     "data": {
      "text/plain": [
       "array([0.69340706, 0.30659294])"
      ]
     },
     "execution_count": 70,
     "metadata": {},
     "output_type": "execute_result"
    }
   ],
   "source": [
    "lda.explained_variance_ratio_"
   ]
  },
  {
   "cell_type": "code",
   "execution_count": 71,
   "id": "95da4472",
   "metadata": {},
   "outputs": [],
   "source": [
    "# Lets apply the LDA with 2 LDA components"
   ]
  },
  {
   "cell_type": "code",
   "execution_count": 72,
   "id": "0707ac3f",
   "metadata": {},
   "outputs": [
    {
     "data": {
      "text/plain": [
       "LinearDiscriminantAnalysis(n_components=2)"
      ]
     },
     "execution_count": 72,
     "metadata": {},
     "output_type": "execute_result"
    }
   ],
   "source": [
    "lda_2 = LinearDiscriminantAnalysis(n_components=2)\n",
    "lda_2.fit(X,y)"
   ]
  },
  {
   "cell_type": "code",
   "execution_count": 73,
   "id": "9ae6ac01",
   "metadata": {},
   "outputs": [],
   "source": [
    "# transform the training datatset\n",
    "X_sk_lda = lda_2.transform(X)"
   ]
  },
  {
   "cell_type": "code",
   "execution_count": 74,
   "id": "3c520755",
   "metadata": {},
   "outputs": [],
   "source": [
    "# transform the test datatset\n",
    "X_sk_lda_test = lda_2.transform(X_test_scale)"
   ]
  },
  {
   "cell_type": "code",
   "execution_count": 75,
   "id": "a3538fa7",
   "metadata": {},
   "outputs": [
    {
     "data": {
      "text/plain": [
       "(124, 2)"
      ]
     },
     "execution_count": 75,
     "metadata": {},
     "output_type": "execute_result"
    }
   ],
   "source": [
    "X_sk_lda.shape"
   ]
  },
  {
   "cell_type": "code",
   "execution_count": 76,
   "id": "e0e2a798",
   "metadata": {},
   "outputs": [
    {
     "data": {
      "image/png": "[encoded data removed]",
      "text/plain": [
       "<Figure size 432x288 with 1 Axes>"
      ]
     },
     "metadata": {
      "needs_background": "light"
     },
     "output_type": "display_data"
    }
   ],
   "source": [
    "plt.scatter(x= X_sk_lda[:,0],y = X_sk_lda[:,1],c = y)\n",
    "plt.xlabel(\"LDA1\")\n",
    "plt.ylabel(\"LDA2\")\n",
    "plt.show()"
   ]
  },
  {
   "cell_type": "code",
   "execution_count": 77,
   "id": "f9475dc2",
   "metadata": {},
   "outputs": [
    {
     "data": {
      "image/png": "[encoded data removed]",
      "text/plain": [
       "<Figure size 432x288 with 1 Axes>"
      ]
     },
     "metadata": {
      "needs_background": "light"
     },
     "output_type": "display_data"
    }
   ],
   "source": [
    "# Plot the graph with anotation\n",
    "for label,marker,color in zip(range(1,class_count+1),(\"*\",\"+\",\"o\"),(\"red\",\"blue\",\"green\")):\n",
    "    plt.scatter(x= X_sk_lda[:,0][y==label],y = X_sk_lda[:,1][y==label],color=color,\n",
    "                marker=marker,label=\"class {}\".format(label))\n",
    "plt.xlabel(\"LDA1\")\n",
    "plt.ylabel(\"LDA2\")\n",
    "plt.legend(loc= \"lower left\")\n",
    "plt.show()"
   ]
  },
  {
   "cell_type": "markdown",
   "id": "ce323c4d",
   "metadata": {},
   "source": [
    "#### We can see that results are same with Python and sklearn"
   ]
  },
  {
   "cell_type": "markdown",
   "id": "24c11046",
   "metadata": {},
   "source": [
    "### Lets Compare with PCA"
   ]
  },
  {
   "cell_type": "code",
   "execution_count": 78,
   "id": "0e2e0025",
   "metadata": {},
   "outputs": [],
   "source": [
    "from sklearn.decomposition import PCA"
   ]
  },
  {
   "cell_type": "code",
   "execution_count": 79,
   "id": "0fb811dc",
   "metadata": {},
   "outputs": [],
   "source": [
    "pca = PCA()"
   ]
  },
  {
   "cell_type": "code",
   "execution_count": 80,
   "id": "f5deedb0",
   "metadata": {},
   "outputs": [
    {
     "data": {
      "text/plain": [
       "PCA()"
      ]
     },
     "execution_count": 80,
     "metadata": {},
     "output_type": "execute_result"
    }
   ],
   "source": [
    "pca.fit(X)"
   ]
  },
  {
   "cell_type": "code",
   "execution_count": 81,
   "id": "47598425",
   "metadata": {},
   "outputs": [
    {
     "data": {
      "text/plain": [
       "array([4.74376552, 2.45913372, 1.5276711 , 0.99327678, 0.92313257,\n",
       "       0.59663887, 0.46974164, 0.34681782, 0.28504118, 0.25665489,\n",
       "       0.23096439, 0.17349645, 0.09935613])"
      ]
     },
     "execution_count": 81,
     "metadata": {},
     "output_type": "execute_result"
    }
   ],
   "source": [
    "pca.explained_variance_"
   ]
  },
  {
   "cell_type": "code",
   "execution_count": 82,
   "id": "77608bd5",
   "metadata": {},
   "outputs": [
    {
     "data": {
      "text/plain": [
       "array([0.36196226, 0.54960087, 0.66616635, 0.74195608, 0.81239361,\n",
       "       0.85791879, 0.89376135, 0.9202245 , 0.94197392, 0.96155739,\n",
       "       0.9791806 , 0.99241886, 1.        ])"
      ]
     },
     "execution_count": 82,
     "metadata": {},
     "output_type": "execute_result"
    }
   ],
   "source": [
    "np.cumsum(pca.explained_variance_ratio_)"
   ]
  },
  {
   "cell_type": "code",
   "execution_count": 83,
   "id": "62ff1b03",
   "metadata": {},
   "outputs": [
    {
     "data": {
      "text/plain": [
       "[<matplotlib.lines.Line2D at 0x26e56516fa0>]"
      ]
     },
     "execution_count": 83,
     "metadata": {},
     "output_type": "execute_result"
    },
    {
     "data": {
      "image/png": "[encoded data removed]",
      "text/plain": [
       "<Figure size 432x288 with 1 Axes>"
      ]
     },
     "metadata": {
      "needs_background": "light"
     },
     "output_type": "display_data"
    }
   ],
   "source": [
    "plt.plot(range(1,features+1),np.cumsum(pca.explained_variance_ratio_))"
   ]
  },
  {
   "cell_type": "code",
   "execution_count": 84,
   "id": "f86e8946",
   "metadata": {},
   "outputs": [],
   "source": [
    "# we can see number of Principal components = 10 which are able to explain more that 90% of data when we use scalling"
   ]
  },
  {
   "cell_type": "code",
   "execution_count": 85,
   "id": "99255ad2",
   "metadata": {},
   "outputs": [
    {
     "data": {
      "text/plain": [
       "PCA(n_components=10)"
      ]
     },
     "execution_count": 85,
     "metadata": {},
     "output_type": "execute_result"
    }
   ],
   "source": [
    "pca_10 = PCA(n_components=10)   # with scalling\n",
    "pca_10.fit(X)"
   ]
  },
  {
   "cell_type": "code",
   "execution_count": 86,
   "id": "2dabdb41",
   "metadata": {},
   "outputs": [],
   "source": [
    "# transform the training datatset\n",
    "X_sk_pca = pca_10.transform(X)"
   ]
  },
  {
   "cell_type": "code",
   "execution_count": 87,
   "id": "12e335a1",
   "metadata": {},
   "outputs": [],
   "source": [
    "# transform the test scale datatset\n",
    "X_sk_pca_test = pca_10.transform(X_test_scale)"
   ]
  },
  {
   "cell_type": "code",
   "execution_count": 88,
   "id": "fd040e0c",
   "metadata": {},
   "outputs": [
    {
     "data": {
      "text/plain": [
       "(124, 10)"
      ]
     },
     "execution_count": 88,
     "metadata": {},
     "output_type": "execute_result"
    }
   ],
   "source": [
    "X_sk_pca.shape"
   ]
  },
  {
   "cell_type": "code",
   "execution_count": 89,
   "id": "e7e72675",
   "metadata": {},
   "outputs": [
    {
     "data": {
      "image/png": "[encoded data removed]",
      "text/plain": [
       "<Figure size 432x288 with 1 Axes>"
      ]
     },
     "metadata": {
      "needs_background": "light"
     },
     "output_type": "display_data"
    }
   ],
   "source": [
    "plt.scatter(x= X_sk_pca[:,0],y = X_sk_pca[:,1],c = y)\n",
    "plt.xlabel(\"PCA1\")\n",
    "plt.ylabel(\"PCA2\")\n",
    "plt.show()"
   ]
  },
  {
   "cell_type": "code",
   "execution_count": 90,
   "id": "425eb995",
   "metadata": {},
   "outputs": [
    {
     "data": {
      "image/png": "[encoded data removed]",
      "text/plain": [
       "<Figure size 432x288 with 1 Axes>"
      ]
     },
     "metadata": {
      "needs_background": "light"
     },
     "output_type": "display_data"
    }
   ],
   "source": [
    "# Plot the graph with anotation\n",
    "for label,marker,color in zip(range(1,class_count+1),(\"*\",\"+\",\"o\"),(\"red\",\"blue\",\"green\")):\n",
    "    plt.scatter(x= X_sk_pca[:,0][y==label],y = X_sk_pca[:,1][y==label],color=color,marker=marker,\n",
    "                label=\"class {}\".format(label))\n",
    "plt.xlabel(\"PCA1\")\n",
    "plt.ylabel(\"PCA2\")\n",
    "plt.legend(loc= \"lower left\")\n",
    "plt.show()"
   ]
  },
  {
   "cell_type": "markdown",
   "id": "0b1f97a9",
   "metadata": {},
   "source": [
    "We can see that If we use PCA there are overlap in classes becuase PCA only selected components on the input dataset variance although LDA consider the output classes variaces with input dataset."
   ]
  },
  {
   "cell_type": "markdown",
   "id": "008bc677",
   "metadata": {},
   "source": [
    "### Lets compare the Accuracy with PCA and LDA with scalling dataset"
   ]
  },
  {
   "cell_type": "markdown",
   "id": "35cc6415",
   "metadata": {},
   "source": [
    "#### Accuracy with LDA"
   ]
  },
  {
   "cell_type": "code",
   "execution_count": 91,
   "id": "1872f3ef",
   "metadata": {},
   "outputs": [],
   "source": [
    "from sklearn.neighbors import KNeighborsClassifier \n",
    "from sklearn import metrics"
   ]
  },
  {
   "cell_type": "code",
   "execution_count": 92,
   "id": "5477b15f",
   "metadata": {},
   "outputs": [],
   "source": [
    "knn_lda = KNeighborsClassifier()"
   ]
  },
  {
   "cell_type": "code",
   "execution_count": 93,
   "id": "fa557de7",
   "metadata": {},
   "outputs": [
    {
     "data": {
      "text/plain": [
       "KNeighborsClassifier()"
      ]
     },
     "execution_count": 93,
     "metadata": {},
     "output_type": "execute_result"
    }
   ],
   "source": [
    "knn_lda.fit(X_sk_lda,y)"
   ]
  },
  {
   "cell_type": "code",
   "execution_count": 94,
   "id": "9b9dfa58",
   "metadata": {},
   "outputs": [],
   "source": [
    "y_pred_lda = knn_lda.predict(X_sk_lda_test)"
   ]
  },
  {
   "cell_type": "code",
   "execution_count": 95,
   "id": "31908736",
   "metadata": {},
   "outputs": [
    {
     "data": {
      "text/plain": [
       "0.9814814814814815"
      ]
     },
     "execution_count": 95,
     "metadata": {},
     "output_type": "execute_result"
    }
   ],
   "source": [
    "lda_accuracy = metrics.accuracy_score(y_test,y_pred_lda)\n",
    "lda_accuracy"
   ]
  },
  {
   "cell_type": "markdown",
   "id": "290cb69d",
   "metadata": {},
   "source": [
    "#### Accuracy with PCA"
   ]
  },
  {
   "cell_type": "code",
   "execution_count": 96,
   "id": "862450e8",
   "metadata": {},
   "outputs": [],
   "source": [
    "knn_pca = KNeighborsClassifier()"
   ]
  },
  {
   "cell_type": "code",
   "execution_count": 97,
   "id": "3377c4d6",
   "metadata": {},
   "outputs": [
    {
     "data": {
      "text/plain": [
       "KNeighborsClassifier()"
      ]
     },
     "execution_count": 97,
     "metadata": {},
     "output_type": "execute_result"
    }
   ],
   "source": [
    "knn_pca.fit(X_sk_pca,y)"
   ]
  },
  {
   "cell_type": "code",
   "execution_count": 98,
   "id": "25f3843a",
   "metadata": {},
   "outputs": [],
   "source": [
    "y_pred_pca = knn_pca.predict(X_sk_pca_test)"
   ]
  },
  {
   "cell_type": "code",
   "execution_count": 99,
   "id": "482a9623",
   "metadata": {},
   "outputs": [
    {
     "data": {
      "text/plain": [
       "0.9629629629629629"
      ]
     },
     "execution_count": 99,
     "metadata": {},
     "output_type": "execute_result"
    }
   ],
   "source": [
    "pca_accuracy = metrics.accuracy_score(y_test,y_pred_pca)\n",
    "pca_accuracy"
   ]
  }
 ],
 "metadata": {
  "kernelspec": {
   "display_name": "Python 3 (ipykernel)",
   "language": "python",
   "name": "python3"
  },
  "language_info": {
   "codemirror_mode": {
    "name": "ipython",
    "version": 3
   },
   "file_extension": ".py",
   "mimetype": "text/x-python",
   "name": "python",
   "nbconvert_exporter": "python",
   "pygments_lexer": "ipython3",
   "version": "3.8.11"
  }
 },
 "nbformat": 4,
 "nbformat_minor": 5
}
