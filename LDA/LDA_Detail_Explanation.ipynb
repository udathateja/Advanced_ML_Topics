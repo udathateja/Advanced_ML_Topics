{
 "cells": [
  {
   "cell_type": "markdown",
   "metadata": {},
   "source": [
    "# Linear Discriminant Analysis(LDA)"
   ]
  },
  {
   "cell_type": "code",
   "execution_count": 1,
   "metadata": {},
   "outputs": [],
   "source": [
    "import numpy as np\n",
    "import matplotlib.pyplot as plt\n",
    "import seaborn as sns\n",
    "import pandas as pd\n",
    "from IPython.display import Image\n",
    "\n",
    "%matplotlib inline"
   ]
  },
  {
   "cell_type": "code",
   "execution_count": 2,
   "metadata": {},
   "outputs": [],
   "source": [
    "df_wine = pd.read_csv('https://archive.ics.uci.edu/ml/machine-learning-databases/wine/wine.data',header=None)\n",
    "\n",
    "df_wine.columns = ['Class label', 'Alcohol', 'Malic acid', 'Ash',\n",
    "                   'Alcalinity of ash', 'Magnesium', 'Total phenols',\n",
    "                   'Flavanoids', 'Nonflavanoid phenols', 'Proanthocyanins',\n",
    "                   'Color intensity', 'Hue',\n",
    "                   'OD280/OD315 of diluted wines', 'Proline']"
   ]
  },
  {
   "cell_type": "code",
   "execution_count": 3,
   "metadata": {},
   "outputs": [
    {
     "data": {
      "text/html": [
       "<div>\n",
       "<style scoped>\n",
       "    .dataframe tbody tr th:only-of-type {\n",
       "        vertical-align: middle;\n",
       "    }\n",
       "\n",
       "    .dataframe tbody tr th {\n",
       "        vertical-align: top;\n",
       "    }\n",
       "\n",
       "    .dataframe thead th {\n",
       "        text-align: right;\n",
       "    }\n",
       "</style>\n",
       "<table border=\"1\" class=\"dataframe\">\n",
       "  <thead>\n",
       "    <tr style=\"text-align: right;\">\n",
       "      <th></th>\n",
       "      <th>Class label</th>\n",
       "      <th>Alcohol</th>\n",
       "      <th>Malic acid</th>\n",
       "      <th>Ash</th>\n",
       "      <th>Alcalinity of ash</th>\n",
       "      <th>Magnesium</th>\n",
       "      <th>Total phenols</th>\n",
       "      <th>Flavanoids</th>\n",
       "      <th>Nonflavanoid phenols</th>\n",
       "      <th>Proanthocyanins</th>\n",
       "      <th>Color intensity</th>\n",
       "      <th>Hue</th>\n",
       "      <th>OD280/OD315 of diluted wines</th>\n",
       "      <th>Proline</th>\n",
       "    </tr>\n",
       "  </thead>\n",
       "  <tbody>\n",
       "    <tr>\n",
       "      <th>0</th>\n",
       "      <td>1</td>\n",
       "      <td>14.23</td>\n",
       "      <td>1.71</td>\n",
       "      <td>2.43</td>\n",
       "      <td>15.6</td>\n",
       "      <td>127</td>\n",
       "      <td>2.80</td>\n",
       "      <td>3.06</td>\n",
       "      <td>0.28</td>\n",
       "      <td>2.29</td>\n",
       "      <td>5.64</td>\n",
       "      <td>1.04</td>\n",
       "      <td>3.92</td>\n",
       "      <td>1065</td>\n",
       "    </tr>\n",
       "    <tr>\n",
       "      <th>1</th>\n",
       "      <td>1</td>\n",
       "      <td>13.20</td>\n",
       "      <td>1.78</td>\n",
       "      <td>2.14</td>\n",
       "      <td>11.2</td>\n",
       "      <td>100</td>\n",
       "      <td>2.65</td>\n",
       "      <td>2.76</td>\n",
       "      <td>0.26</td>\n",
       "      <td>1.28</td>\n",
       "      <td>4.38</td>\n",
       "      <td>1.05</td>\n",
       "      <td>3.40</td>\n",
       "      <td>1050</td>\n",
       "    </tr>\n",
       "    <tr>\n",
       "      <th>2</th>\n",
       "      <td>1</td>\n",
       "      <td>13.16</td>\n",
       "      <td>2.36</td>\n",
       "      <td>2.67</td>\n",
       "      <td>18.6</td>\n",
       "      <td>101</td>\n",
       "      <td>2.80</td>\n",
       "      <td>3.24</td>\n",
       "      <td>0.30</td>\n",
       "      <td>2.81</td>\n",
       "      <td>5.68</td>\n",
       "      <td>1.03</td>\n",
       "      <td>3.17</td>\n",
       "      <td>1185</td>\n",
       "    </tr>\n",
       "    <tr>\n",
       "      <th>3</th>\n",
       "      <td>1</td>\n",
       "      <td>14.37</td>\n",
       "      <td>1.95</td>\n",
       "      <td>2.50</td>\n",
       "      <td>16.8</td>\n",
       "      <td>113</td>\n",
       "      <td>3.85</td>\n",
       "      <td>3.49</td>\n",
       "      <td>0.24</td>\n",
       "      <td>2.18</td>\n",
       "      <td>7.80</td>\n",
       "      <td>0.86</td>\n",
       "      <td>3.45</td>\n",
       "      <td>1480</td>\n",
       "    </tr>\n",
       "    <tr>\n",
       "      <th>4</th>\n",
       "      <td>1</td>\n",
       "      <td>13.24</td>\n",
       "      <td>2.59</td>\n",
       "      <td>2.87</td>\n",
       "      <td>21.0</td>\n",
       "      <td>118</td>\n",
       "      <td>2.80</td>\n",
       "      <td>2.69</td>\n",
       "      <td>0.39</td>\n",
       "      <td>1.82</td>\n",
       "      <td>4.32</td>\n",
       "      <td>1.04</td>\n",
       "      <td>2.93</td>\n",
       "      <td>735</td>\n",
       "    </tr>\n",
       "  </tbody>\n",
       "</table>\n",
       "</div>"
      ],
      "text/plain": [
       "   Class label  Alcohol  Malic acid   Ash  Alcalinity of ash  Magnesium  \\\n",
       "0            1    14.23        1.71  2.43               15.6        127   \n",
       "1            1    13.20        1.78  2.14               11.2        100   \n",
       "2            1    13.16        2.36  2.67               18.6        101   \n",
       "3            1    14.37        1.95  2.50               16.8        113   \n",
       "4            1    13.24        2.59  2.87               21.0        118   \n",
       "\n",
       "   Total phenols  Flavanoids  Nonflavanoid phenols  Proanthocyanins  \\\n",
       "0           2.80        3.06                  0.28             2.29   \n",
       "1           2.65        2.76                  0.26             1.28   \n",
       "2           2.80        3.24                  0.30             2.81   \n",
       "3           3.85        3.49                  0.24             2.18   \n",
       "4           2.80        2.69                  0.39             1.82   \n",
       "\n",
       "   Color intensity   Hue  OD280/OD315 of diluted wines  Proline  \n",
       "0             5.64  1.04                          3.92     1065  \n",
       "1             4.38  1.05                          3.40     1050  \n",
       "2             5.68  1.03                          3.17     1185  \n",
       "3             7.80  0.86                          3.45     1480  \n",
       "4             4.32  1.04                          2.93      735  "
      ]
     },
     "execution_count": 3,
     "metadata": {},
     "output_type": "execute_result"
    }
   ],
   "source": [
    "df_wine.head()"
   ]
  },
  {
   "cell_type": "code",
   "execution_count": 4,
   "metadata": {},
   "outputs": [
    {
     "data": {
      "text/html": [
       "<div>\n",
       "<style scoped>\n",
       "    .dataframe tbody tr th:only-of-type {\n",
       "        vertical-align: middle;\n",
       "    }\n",
       "\n",
       "    .dataframe tbody tr th {\n",
       "        vertical-align: top;\n",
       "    }\n",
       "\n",
       "    .dataframe thead th {\n",
       "        text-align: right;\n",
       "    }\n",
       "</style>\n",
       "<table border=\"1\" class=\"dataframe\">\n",
       "  <thead>\n",
       "    <tr style=\"text-align: right;\">\n",
       "      <th></th>\n",
       "      <th>Class label</th>\n",
       "      <th>Alcohol</th>\n",
       "      <th>Malic acid</th>\n",
       "      <th>Ash</th>\n",
       "      <th>Alcalinity of ash</th>\n",
       "      <th>Magnesium</th>\n",
       "      <th>Total phenols</th>\n",
       "      <th>Flavanoids</th>\n",
       "      <th>Nonflavanoid phenols</th>\n",
       "      <th>Proanthocyanins</th>\n",
       "      <th>Color intensity</th>\n",
       "      <th>Hue</th>\n",
       "      <th>OD280/OD315 of diluted wines</th>\n",
       "      <th>Proline</th>\n",
       "    </tr>\n",
       "  </thead>\n",
       "  <tbody>\n",
       "    <tr>\n",
       "      <th>count</th>\n",
       "      <td>178.000000</td>\n",
       "      <td>178.000000</td>\n",
       "      <td>178.000000</td>\n",
       "      <td>178.000000</td>\n",
       "      <td>178.000000</td>\n",
       "      <td>178.000000</td>\n",
       "      <td>178.000000</td>\n",
       "      <td>178.000000</td>\n",
       "      <td>178.000000</td>\n",
       "      <td>178.000000</td>\n",
       "      <td>178.000000</td>\n",
       "      <td>178.000000</td>\n",
       "      <td>178.000000</td>\n",
       "      <td>178.000000</td>\n",
       "    </tr>\n",
       "    <tr>\n",
       "      <th>mean</th>\n",
       "      <td>1.938202</td>\n",
       "      <td>13.000618</td>\n",
       "      <td>2.336348</td>\n",
       "      <td>2.366517</td>\n",
       "      <td>19.494944</td>\n",
       "      <td>99.741573</td>\n",
       "      <td>2.295112</td>\n",
       "      <td>2.029270</td>\n",
       "      <td>0.361854</td>\n",
       "      <td>1.590899</td>\n",
       "      <td>5.058090</td>\n",
       "      <td>0.957449</td>\n",
       "      <td>2.611685</td>\n",
       "      <td>746.893258</td>\n",
       "    </tr>\n",
       "    <tr>\n",
       "      <th>std</th>\n",
       "      <td>0.775035</td>\n",
       "      <td>0.811827</td>\n",
       "      <td>1.117146</td>\n",
       "      <td>0.274344</td>\n",
       "      <td>3.339564</td>\n",
       "      <td>14.282484</td>\n",
       "      <td>0.625851</td>\n",
       "      <td>0.998859</td>\n",
       "      <td>0.124453</td>\n",
       "      <td>0.572359</td>\n",
       "      <td>2.318286</td>\n",
       "      <td>0.228572</td>\n",
       "      <td>0.709990</td>\n",
       "      <td>314.907474</td>\n",
       "    </tr>\n",
       "    <tr>\n",
       "      <th>min</th>\n",
       "      <td>1.000000</td>\n",
       "      <td>11.030000</td>\n",
       "      <td>0.740000</td>\n",
       "      <td>1.360000</td>\n",
       "      <td>10.600000</td>\n",
       "      <td>70.000000</td>\n",
       "      <td>0.980000</td>\n",
       "      <td>0.340000</td>\n",
       "      <td>0.130000</td>\n",
       "      <td>0.410000</td>\n",
       "      <td>1.280000</td>\n",
       "      <td>0.480000</td>\n",
       "      <td>1.270000</td>\n",
       "      <td>278.000000</td>\n",
       "    </tr>\n",
       "    <tr>\n",
       "      <th>25%</th>\n",
       "      <td>1.000000</td>\n",
       "      <td>12.362500</td>\n",
       "      <td>1.602500</td>\n",
       "      <td>2.210000</td>\n",
       "      <td>17.200000</td>\n",
       "      <td>88.000000</td>\n",
       "      <td>1.742500</td>\n",
       "      <td>1.205000</td>\n",
       "      <td>0.270000</td>\n",
       "      <td>1.250000</td>\n",
       "      <td>3.220000</td>\n",
       "      <td>0.782500</td>\n",
       "      <td>1.937500</td>\n",
       "      <td>500.500000</td>\n",
       "    </tr>\n",
       "    <tr>\n",
       "      <th>50%</th>\n",
       "      <td>2.000000</td>\n",
       "      <td>13.050000</td>\n",
       "      <td>1.865000</td>\n",
       "      <td>2.360000</td>\n",
       "      <td>19.500000</td>\n",
       "      <td>98.000000</td>\n",
       "      <td>2.355000</td>\n",
       "      <td>2.135000</td>\n",
       "      <td>0.340000</td>\n",
       "      <td>1.555000</td>\n",
       "      <td>4.690000</td>\n",
       "      <td>0.965000</td>\n",
       "      <td>2.780000</td>\n",
       "      <td>673.500000</td>\n",
       "    </tr>\n",
       "    <tr>\n",
       "      <th>75%</th>\n",
       "      <td>3.000000</td>\n",
       "      <td>13.677500</td>\n",
       "      <td>3.082500</td>\n",
       "      <td>2.557500</td>\n",
       "      <td>21.500000</td>\n",
       "      <td>107.000000</td>\n",
       "      <td>2.800000</td>\n",
       "      <td>2.875000</td>\n",
       "      <td>0.437500</td>\n",
       "      <td>1.950000</td>\n",
       "      <td>6.200000</td>\n",
       "      <td>1.120000</td>\n",
       "      <td>3.170000</td>\n",
       "      <td>985.000000</td>\n",
       "    </tr>\n",
       "    <tr>\n",
       "      <th>max</th>\n",
       "      <td>3.000000</td>\n",
       "      <td>14.830000</td>\n",
       "      <td>5.800000</td>\n",
       "      <td>3.230000</td>\n",
       "      <td>30.000000</td>\n",
       "      <td>162.000000</td>\n",
       "      <td>3.880000</td>\n",
       "      <td>5.080000</td>\n",
       "      <td>0.660000</td>\n",
       "      <td>3.580000</td>\n",
       "      <td>13.000000</td>\n",
       "      <td>1.710000</td>\n",
       "      <td>4.000000</td>\n",
       "      <td>1680.000000</td>\n",
       "    </tr>\n",
       "  </tbody>\n",
       "</table>\n",
       "</div>"
      ],
      "text/plain": [
       "       Class label     Alcohol  Malic acid         Ash  Alcalinity of ash  \\\n",
       "count   178.000000  178.000000  178.000000  178.000000         178.000000   \n",
       "mean      1.938202   13.000618    2.336348    2.366517          19.494944   \n",
       "std       0.775035    0.811827    1.117146    0.274344           3.339564   \n",
       "min       1.000000   11.030000    0.740000    1.360000          10.600000   \n",
       "25%       1.000000   12.362500    1.602500    2.210000          17.200000   \n",
       "50%       2.000000   13.050000    1.865000    2.360000          19.500000   \n",
       "75%       3.000000   13.677500    3.082500    2.557500          21.500000   \n",
       "max       3.000000   14.830000    5.800000    3.230000          30.000000   \n",
       "\n",
       "        Magnesium  Total phenols  Flavanoids  Nonflavanoid phenols  \\\n",
       "count  178.000000     178.000000  178.000000            178.000000   \n",
       "mean    99.741573       2.295112    2.029270              0.361854   \n",
       "std     14.282484       0.625851    0.998859              0.124453   \n",
       "min     70.000000       0.980000    0.340000              0.130000   \n",
       "25%     88.000000       1.742500    1.205000              0.270000   \n",
       "50%     98.000000       2.355000    2.135000              0.340000   \n",
       "75%    107.000000       2.800000    2.875000              0.437500   \n",
       "max    162.000000       3.880000    5.080000              0.660000   \n",
       "\n",
       "       Proanthocyanins  Color intensity         Hue  \\\n",
       "count       178.000000       178.000000  178.000000   \n",
       "mean          1.590899         5.058090    0.957449   \n",
       "std           0.572359         2.318286    0.228572   \n",
       "min           0.410000         1.280000    0.480000   \n",
       "25%           1.250000         3.220000    0.782500   \n",
       "50%           1.555000         4.690000    0.965000   \n",
       "75%           1.950000         6.200000    1.120000   \n",
       "max           3.580000        13.000000    1.710000   \n",
       "\n",
       "       OD280/OD315 of diluted wines      Proline  \n",
       "count                    178.000000   178.000000  \n",
       "mean                       2.611685   746.893258  \n",
       "std                        0.709990   314.907474  \n",
       "min                        1.270000   278.000000  \n",
       "25%                        1.937500   500.500000  \n",
       "50%                        2.780000   673.500000  \n",
       "75%                        3.170000   985.000000  \n",
       "max                        4.000000  1680.000000  "
      ]
     },
     "execution_count": 4,
     "metadata": {},
     "output_type": "execute_result"
    }
   ],
   "source": [
    "df_wine.describe()"
   ]
  },
  {
   "cell_type": "code",
   "execution_count": 5,
   "metadata": {},
   "outputs": [],
   "source": [
    "## add \"_\" in column values\n",
    "df_wine.columns = df_wine.columns.str.replace(\" \",\"_\")"
   ]
  },
  {
   "cell_type": "code",
   "execution_count": 6,
   "metadata": {},
   "outputs": [
    {
     "data": {
      "text/plain": [
       "Index(['Class_label', 'Alcohol', 'Malic_acid', 'Ash', 'Alcalinity_of_ash',\n",
       "       'Magnesium', 'Total_phenols', 'Flavanoids', 'Nonflavanoid_phenols',\n",
       "       'Proanthocyanins', 'Color_intensity', 'Hue',\n",
       "       'OD280/OD315_of_diluted_wines', 'Proline'],\n",
       "      dtype='object')"
      ]
     },
     "execution_count": 6,
     "metadata": {},
     "output_type": "execute_result"
    }
   ],
   "source": [
    "df_wine.columns"
   ]
  },
  {
   "cell_type": "code",
   "execution_count": 7,
   "metadata": {},
   "outputs": [
    {
     "data": {
      "text/plain": [
       "Class_label\n",
       "1    59\n",
       "2    71\n",
       "3    48\n",
       "dtype: int64"
      ]
     },
     "execution_count": 7,
     "metadata": {},
     "output_type": "execute_result"
    }
   ],
   "source": [
    "df_wine.groupby(\"Class_label\").size()\n",
    "## Data seems like balanced"
   ]
  },
  {
   "cell_type": "code",
   "execution_count": 8,
   "metadata": {},
   "outputs": [
    {
     "name": "stdout",
     "output_type": "stream",
     "text": [
      "<class 'pandas.core.frame.DataFrame'>\n",
      "RangeIndex: 178 entries, 0 to 177\n",
      "Data columns (total 14 columns):\n",
      " #   Column                        Non-Null Count  Dtype  \n",
      "---  ------                        --------------  -----  \n",
      " 0   Class_label                   178 non-null    int64  \n",
      " 1   Alcohol                       178 non-null    float64\n",
      " 2   Malic_acid                    178 non-null    float64\n",
      " 3   Ash                           178 non-null    float64\n",
      " 4   Alcalinity_of_ash             178 non-null    float64\n",
      " 5   Magnesium                     178 non-null    int64  \n",
      " 6   Total_phenols                 178 non-null    float64\n",
      " 7   Flavanoids                    178 non-null    float64\n",
      " 8   Nonflavanoid_phenols          178 non-null    float64\n",
      " 9   Proanthocyanins               178 non-null    float64\n",
      " 10  Color_intensity               178 non-null    float64\n",
      " 11  Hue                           178 non-null    float64\n",
      " 12  OD280/OD315_of_diluted_wines  178 non-null    float64\n",
      " 13  Proline                       178 non-null    int64  \n",
      "dtypes: float64(11), int64(3)\n",
      "memory usage: 19.6 KB\n"
     ]
    }
   ],
   "source": [
    "df_wine.info()"
   ]
  },
  {
   "cell_type": "code",
   "execution_count": 9,
   "metadata": {},
   "outputs": [],
   "source": [
    "cols = df_wine.columns.drop(\"Class_label\")"
   ]
  },
  {
   "cell_type": "code",
   "execution_count": 10,
   "metadata": {},
   "outputs": [
    {
     "data": {
      "text/plain": [
       "Index(['Alcohol', 'Malic_acid', 'Ash', 'Alcalinity_of_ash', 'Magnesium',\n",
       "       'Total_phenols', 'Flavanoids', 'Nonflavanoid_phenols',\n",
       "       'Proanthocyanins', 'Color_intensity', 'Hue',\n",
       "       'OD280/OD315_of_diluted_wines', 'Proline'],\n",
       "      dtype='object')"
      ]
     },
     "execution_count": 10,
     "metadata": {},
     "output_type": "execute_result"
    }
   ],
   "source": [
    "cols"
   ]
  },
  {
   "cell_type": "code",
   "execution_count": 11,
   "metadata": {},
   "outputs": [],
   "source": [
    "X = df_wine.iloc[:,1:].values\n",
    "y = df_wine.iloc[:,0].values"
   ]
  },
  {
   "cell_type": "code",
   "execution_count": 12,
   "metadata": {},
   "outputs": [
    {
     "name": "stdout",
     "output_type": "stream",
     "text": [
      "(178, 13)\n",
      "(178,)\n",
      "<class 'numpy.ndarray'>\n",
      "<class 'numpy.ndarray'>\n"
     ]
    }
   ],
   "source": [
    "print(X.shape)\n",
    "print(y.shape)\n",
    "print(type(X))\n",
    "print(type(y))"
   ]
  },
  {
   "cell_type": "code",
   "execution_count": 13,
   "metadata": {},
   "outputs": [
    {
     "data": {
      "image/png": "[encoded data removed]",
      "text/plain": [
       "<Figure size 432x288 with 1 Axes>"
      ]
     },
     "metadata": {
      "needs_background": "light"
     },
     "output_type": "display_data"
    }
   ],
   "source": [
    "### \n",
    "from math import floor,ceil\n",
    "## floor() method in Python returns floor of x i.e., the largest integer not greater than x. \n",
    "## The method ceil() in Python returns ceiling value of x i.e., the smallest integer not less than x. \n",
    "\n",
    "# the order of the colors for each histogram\n",
    "colors = ('red', 'green', 'blue')\n",
    "\n",
    "# bin --width of the histogram in steps of 0.15\n",
    "bins = np.arange(floor(min(X[:,0])), ceil(max(X[:,0])), 0.15)\n",
    "\n",
    "# max count for a particular bin for all classes combined\n",
    "max_bin = max(np.histogram(X[:,0], bins=bins)[0])\n",
    "\n",
    "\n",
    "for label,color in zip(range(1,4), colors): #### you can select range (1,2) to check class 1 and so on to verify class wise distribution\n",
    "    mean = np.mean(X[:,0][y == label]) # class sample mean\n",
    "    stdev = np.std(X[:,0][y == label]) # class standard deviation\n",
    "    plt.hist(X[:,0][y == label], bins=bins, alpha=0.3,\n",
    "         label='class {} ($\\mu={:.2f}$, $\\sigma={:.2f}$)'.format(label, mean, stdev),\n",
    "             color=color,edgecolor=\"black\")\n",
    "plt.ylim([0, max_bin*1.3])\n",
    "plt.title('Wine data set - Distribution of alocohol contents')\n",
    "plt.xlabel('alcohol by volume', fontsize=14)\n",
    "plt.ylabel('count', fontsize=14)\n",
    "plt.legend(loc='upper right')\n",
    "\n",
    "plt.show()"
   ]
  },
  {
   "cell_type": "markdown",
   "metadata": {},
   "source": [
    "If you see the above graph I plotted the histogram of Column \"Alcohol\" to check that whether we can take Alcohol by volume as pefect feature that will separate all the classes(1,2,3). I think no, becuase we can see in graph there are some overlap among class 1, class 2 and class 3. **If you see there is some different colours outoff these 3 colurs , reason is due to overlapping of colurs.As we can conclude that \"Alcohol\" is not separating linearly all the classes.\n",
    "So \"Alcohol\" does not work for classification as separate feature.**"
   ]
  },
  {
   "cell_type": "markdown",
   "metadata": {},
   "source": [
    "**Now check the overlapping with feature \"Malic_acid\"**"
   ]
  },
  {
   "cell_type": "code",
   "execution_count": 14,
   "metadata": {},
   "outputs": [
    {
     "data": {
      "image/png": "[encoded data removed]",
      "text/plain": [
       "<Figure size 432x288 with 1 Axes>"
      ]
     },
     "metadata": {
      "needs_background": "light"
     },
     "output_type": "display_data"
    }
   ],
   "source": [
    "### \n",
    "from math import floor,ceil\n",
    "## floor() method in Python returns floor of x i.e., the largest integer not greater than x. \n",
    "## The method ceil() in Python returns ceiling value of x i.e., the smallest integer not less than x. \n",
    "\n",
    "# the order of the colors for each histogram\n",
    "colors = ('red', 'green', 'blue')\n",
    "\n",
    "# bin --width of the histogram in steps of 0.15\n",
    "bins = np.arange(floor(min(X[:,1])), ceil(max(X[:,1])), 0.10)   ## change bin range = 0.10 due to mallic acid data\n",
    "\n",
    "# max count for a particular bin for all classes combined\n",
    "max_bin = max(np.histogram(X[:,1], bins=bins)[0])\n",
    "\n",
    "\n",
    "for label,color in zip(range(1,4), colors): #### you can select range (1,2) to check class 1 and so on to verify class wise distribution\n",
    "    mean = np.mean(X[:,1][y == label]) # class sample mean\n",
    "    stdev = np.std(X[:,1][y == label]) # class standard deviation\n",
    "    plt.hist(X[:,1][y == label], bins=bins, alpha=0.3,\n",
    "         label='class {} ($\\mu={:.2f}$, $\\sigma={:.2f}$)'.format(label, mean, stdev),\n",
    "             color=color,edgecolor=\"black\")\n",
    "plt.ylim([0, max_bin*1.3])\n",
    "plt.title('Wine data set - Distribution of Malic acid')\n",
    "plt.xlabel('Malic acid', fontsize=14)\n",
    "plt.ylabel('count', fontsize=14)\n",
    "plt.legend(loc='upper right')\n",
    "\n",
    "plt.show()"
   ]
  },
  {
   "cell_type": "markdown",
   "metadata": {},
   "source": [
    "Again we can see that \"Malic acid\" is also not a pefect feature that also does not separate all the classes(1,2,3) becuase we can see in graph there are some overlap among class 1, class 2 and class 3. **As we can conclude that \"Malic acid\" is not separating linearly all the classes.**\n",
    "\n",
    "**Conclusion:**\n",
    "We can try same way for other variables and check the same conclusion and dyou will find that none of the features are able to linearly separate the all the classes.Now what should we do to classify all the class perfectly.\n",
    "Can we use PCA, no that only use for dimentionalty reduction of input variables which consider that which variables have high variance and make principal compennets on that basis. Still we stuck now. So how we can classify all the classes with reducing the number of dimensions (i.e. input variables) in a dataset while retaining as much information as possible.\n",
    "Yes, we have LDA which will work better in this case.\n",
    "Lets use LDA"
   ]
  },
  {
   "cell_type": "code",
   "execution_count": 15,
   "metadata": {},
   "outputs": [],
   "source": [
    "## Lets scale the data\n",
    "from sklearn.preprocessing import StandardScaler\n",
    "sc = StandardScaler()\n",
    "X_scale = sc.fit_transform(X)"
   ]
  },
  {
   "cell_type": "code",
   "execution_count": 16,
   "metadata": {},
   "outputs": [],
   "source": [
    "df_X_scale = pd.DataFrame(X_scale,columns=cols)"
   ]
  },
  {
   "cell_type": "code",
   "execution_count": 17,
   "metadata": {},
   "outputs": [
    {
     "data": {
      "text/plain": [
       "numpy.ndarray"
      ]
     },
     "execution_count": 17,
     "metadata": {},
     "output_type": "execute_result"
    }
   ],
   "source": [
    "type(X_scale)"
   ]
  },
  {
   "cell_type": "code",
   "execution_count": 18,
   "metadata": {},
   "outputs": [
    {
     "data": {
      "image/png": "[encoded data removed]",
      "text/plain": [
       "<Figure size 864x288 with 1 Axes>"
      ]
     },
     "metadata": {
      "needs_background": "light"
     },
     "output_type": "display_data"
    }
   ],
   "source": [
    "i = []\n",
    "plt.figure(figsize=(12,4))\n",
    "for i in cols:\n",
    "    sns.kdeplot(df_X_scale[i])"
   ]
  },
  {
   "cell_type": "markdown",
   "metadata": {},
   "source": [
    "### LDA"
   ]
  },
  {
   "cell_type": "markdown",
   "metadata": {},
   "source": [
    "LDA is based upon the concept of searching for a linear combination of variables (predictors) that best separates two classes (targets)\n",
    "Here are the 5 steps that constitute LDA."
   ]
  },
  {
   "cell_type": "markdown",
   "metadata": {},
   "source": [
    "<img src=\"https://raw.githubusercontent.com/atulpatelDS/Machine_Learning/master/Images/LDA_Steps.png\" width=\"550\" height=\"600\" align=\"left\"/></img>"
   ]
  },
  {
   "cell_type": "markdown",
   "metadata": {},
   "source": [
    "**Step-1 Compute the mean vector for all 3 classes**"
   ]
  },
  {
   "cell_type": "code",
   "execution_count": 19,
   "metadata": {},
   "outputs": [
    {
     "name": "stdout",
     "output_type": "stream",
     "text": [
      "d(13) dimentions(columns) Mean Vector for Class 1: [ 0.9192 -0.2923  0.3256 -0.738   0.4632  0.8734  0.9569 -0.579   0.5404\n",
      "  0.2034  0.4588  0.7714  1.1745]\n",
      "\n",
      "d(13) dimentions(columns) Mean Vector for Class 2: [-0.8917 -0.3624 -0.445   0.2231 -0.3646 -0.0581  0.0518  0.0146  0.069\n",
      " -0.8528  0.4336  0.2453 -0.7241]\n",
      "\n",
      "d(13) dimentions(columns) Mean Vector for Class 3: [ 0.1892  0.8953  0.2579  0.5771 -0.0301 -0.9876 -1.2528  0.6901 -0.7663\n",
      "  1.0114 -1.2054 -1.3109 -0.3726]\n",
      "\n"
     ]
    }
   ],
   "source": [
    "\n",
    "np.set_printoptions(precision=4)\n",
    "\n",
    "mean_vector = []\n",
    "for label in range(1, 4):  ## becuase we have 3 classes so took range this\n",
    "    mean_vector.append(np.mean(X_scale[y == label], axis=0))\n",
    "    print('d(13) dimentions(columns) Mean Vector for Class %s: %s\\n' % (label, mean_vector[label - 1]))"
   ]
  },
  {
   "cell_type": "code",
   "execution_count": 20,
   "metadata": {},
   "outputs": [
    {
     "name": "stdout",
     "output_type": "stream",
     "text": [
      "<class 'list'>\n",
      "[array([ 0.9192, -0.2923,  0.3256, -0.738 ,  0.4632,  0.8734,  0.9569,\n",
      "       -0.579 ,  0.5404,  0.2034,  0.4588,  0.7714,  1.1745]), array([-0.8917, -0.3624, -0.445 ,  0.2231, -0.3646, -0.0581,  0.0518,\n",
      "        0.0146,  0.069 , -0.8528,  0.4336,  0.2453, -0.7241]), array([ 0.1892,  0.8953,  0.2579,  0.5771, -0.0301, -0.9876, -1.2528,\n",
      "        0.6901, -0.7663,  1.0114, -1.2054, -1.3109, -0.3726])]\n"
     ]
    }
   ],
   "source": [
    "print(type(mean_vector))  ### combined mean for all 3 classes\n",
    "print(mean_vector)"
   ]
  },
  {
   "cell_type": "markdown",
   "metadata": {},
   "source": [
    "**Step-2 Compute the Scatter Matrix(With-in(S_W) and Between class(S_B)**"
   ]
  },
  {
   "cell_type": "markdown",
   "metadata": {},
   "source": [
    "**See below the scatter matrix**"
   ]
  },
  {
   "cell_type": "markdown",
   "metadata": {},
   "source": [
    "<img src=\"https://raw.githubusercontent.com/atulpatelDS/Machine_Learning/master/Images/scatter_matrix.png\" width=\"600\" height=\"600\" align=\"left\"/></img>"
   ]
  },
  {
   "cell_type": "markdown",
   "metadata": {},
   "source": [
    "**1st create the Within-class scatter matrix(S_W)**"
   ]
  },
  {
   "cell_type": "markdown",
   "metadata": {},
   "source": [
    "<img src=\"https://raw.githubusercontent.com/atulpatelDS/Machine_Learning/master/Images/WithinClass.png\" width=\"350\" height=\"600\" align=\"left\"/></img>"
   ]
  },
  {
   "cell_type": "markdown",
   "metadata": {},
   "source": [
    "where c is the total number of distinct classes\n",
    "\n",
    "where x is a sample (i.e. row) and n is the total number of samples with a given class."
   ]
  },
  {
   "cell_type": "code",
   "execution_count": 21,
   "metadata": {},
   "outputs": [
    {
     "name": "stdout",
     "output_type": "stream",
     "text": [
      "Within-class scatter matrix(S_W): 13X13\n"
     ]
    }
   ],
   "source": [
    "d = 13  # number of features\n",
    "S_W = np.zeros((d, d))\n",
    "for label, mi in zip(range(1, 4), mean_vector):\n",
    "    class_scatter = np.zeros((d, d))  # scatter matrix for each class\n",
    "    for x in X_scale[y == label]:\n",
    "        x, mi = x.reshape(d, 1), mi.reshape(d, 1)  # make column vectors\n",
    "        class_scatter += (x - mi).dot((x - mi).T)\n",
    "    S_W += class_scatter                          # sum class scatter matrices\n",
    "\n",
    "print('Within-class scatter matrix(S_W): %sX%s' % (S_W.shape[0], S_W.shape[1]))\n",
    "#print(S_W)"
   ]
  },
  {
   "cell_type": "code",
   "execution_count": 22,
   "metadata": {},
   "outputs": [
    {
     "data": {
      "text/plain": [
       "array([[ 69.9756,   1.586 , -10.5167,  -6.3107,   0.2722,   9.3862,\n",
       "          4.9117,  -1.6993,   6.3521,  23.0461,   0.7418,  -1.5222,\n",
       "          8.424 ],\n",
       "       [  1.586 , 125.1573,  12.2831,  19.5649,  -9.8093,  -3.646 ,\n",
       "         -1.484 ,  12.8798,   4.7349, -17.5794, -29.0382,  10.324 ,\n",
       "        -16.5377],\n",
       "       [-10.5167,  12.2831, 154.4941,  93.0013,  30.9692,  16.5741,\n",
       "         19.2481,  36.1874,   3.0045,   2.7101,   6.5174,   9.8587,\n",
       "         -1.0205],\n",
       "       [ -6.3107,  19.5649,  93.0013, 126.347 ,  11.9466,   9.1457,\n",
       "         13.0007,  19.8655,   8.5374,  -2.314 ,  -2.2665,  16.7472,\n",
       "         -5.4944],\n",
       "       [  0.2722,  -9.8093,  30.9692,  11.9466, 155.8597,  11.3629,\n",
       "          8.2262, -28.4214,  27.9955,   9.4206,   6.801 ,  -4.8791,\n",
       "         18.6351],\n",
       "       [  9.3862,  -3.646 ,  16.5741,   9.1457,  11.3629,  85.9391,\n",
       "         45.4112, -17.4787,  45.1227,  24.1358,  -1.8026,  23.7094,\n",
       "          7.4967],\n",
       "       [  4.9117,  -1.484 ,  19.2481,  13.0007,   8.2262,  45.4112,\n",
       "         48.456 , -21.6138,  39.3387,  21.7876,  -3.2424,  16.8405,\n",
       "          1.9167],\n",
       "       [ -1.6993,  12.8798,  36.1874,  19.8655, -28.4214, -17.4787,\n",
       "        -21.6138, 135.346 , -21.3484,  -0.9215,   8.4051, -20.0601,\n",
       "         -2.2146],\n",
       "       [  6.3521,   4.7349,   3.0045,   8.5374,  27.9955,  45.1227,\n",
       "         39.3387, -21.3484, 132.2477,  30.4003,  -8.4828,  18.3805,\n",
       "         11.2115],\n",
       "       [ 23.0461, -17.5794,   2.7101,  -2.314 ,   9.4206,  24.1358,\n",
       "         21.7876,  -0.9215,  30.4003,  74.8208, -13.6157,  -7.0894,\n",
       "         16.415 ],\n",
       "       [  0.7418, -29.0382,   6.5174,  -2.2665,   6.801 ,  -1.8026,\n",
       "         -3.2424,   8.4051,  -8.4828, -13.6157,  82.4874,  -3.6298,\n",
       "         10.9806],\n",
       "       [ -1.5222,  10.324 ,   9.8587,  16.7472,  -4.8791,  23.7094,\n",
       "         16.8405, -20.0601,  18.3805,  -7.0894,  -3.6298,  56.1317,\n",
       "         -8.6133],\n",
       "       [  8.424 , -16.5377,  -1.0205,  -5.4944,  18.6351,   7.4967,\n",
       "          1.9167,  -2.2146,  11.2115,  16.415 ,  10.9806,  -8.6133,\n",
       "         52.7215]])"
      ]
     },
     "execution_count": 22,
     "metadata": {},
     "output_type": "execute_result"
    }
   ],
   "source": [
    "S_W"
   ]
  },
  {
   "cell_type": "code",
   "execution_count": 23,
   "metadata": {},
   "outputs": [
    {
     "name": "stdout",
     "output_type": "stream",
     "text": [
      "Class label distribution in training Data: [59 71 48]\n"
     ]
    }
   ],
   "source": [
    "print('Class label distribution in training Data: %s' % np.bincount(y)[1:])"
   ]
  },
  {
   "cell_type": "code",
   "execution_count": 24,
   "metadata": {},
   "outputs": [],
   "source": [
    "### Other way to compute Within Class scatter matrix\n",
    "## Covariance Matrix --https://www.youtube.com/watch?v=ieL0jxzLhCE\n",
    "### https://www.youtube.com/watch?v=9B5vEVjH2Pk\n",
    "#d = 13  # number of features\n",
    "#S_W = np.zeros((d, d))\n",
    "#for label in zip(range(1, 4)):\n",
    "#    class_scatter = np.cov(X_scale[y == label].T)\n",
    "#    S_W += class_scatter\n",
    "#print('Scaled within-class scatter matrix: %sx%s' % (S_W.shape[0],\n",
    "#                                                     S_W.shape[1]))"
   ]
  },
  {
   "cell_type": "markdown",
   "metadata": {},
   "source": [
    "**2nd create the Between Class scatter matrix(S_B)**\n",
    "\n",
    "Next, we calculate the between class scatter matrix using the following formula."
   ]
  },
  {
   "cell_type": "markdown",
   "metadata": {},
   "source": [
    "<img src=\"https://raw.githubusercontent.com/atulpatelDS/Machine_Learning/master/Images/betweenclass.png\" width=\"400\" height=\"600\" align=\"left\"/></img>"
   ]
  },
  {
   "cell_type": "markdown",
   "metadata": {},
   "source": [
    "<img src=\"https://raw.githubusercontent.com/atulpatelDS/Machine_Learning/master/Images/betweenclass1.png\" width=\"300\" height=\"600\" align=\"left\"/></img>"
   ]
  },
  {
   "cell_type": "code",
   "execution_count": 25,
   "metadata": {},
   "outputs": [
    {
     "name": "stdout",
     "output_type": "stream",
     "text": [
      "1 [ 0.9192 -0.2923  0.3256 -0.738   0.4632  0.8734  0.9569 -0.579   0.5404\n",
      "  0.2034  0.4588  0.7714  1.1745]\n",
      "2 [-0.8917 -0.3624 -0.445   0.2231 -0.3646 -0.0581  0.0518  0.0146  0.069\n",
      " -0.8528  0.4336  0.2453 -0.7241]\n",
      "3 [ 0.1892  0.8953  0.2579  0.5771 -0.0301 -0.9876 -1.2528  0.6901 -0.7663\n",
      "  1.0114 -1.2054 -1.3109 -0.3726]\n"
     ]
    }
   ],
   "source": [
    "### Check to show how enumerate works in below code\n",
    "for i,mv in enumerate(mean_vector,start=1):\n",
    "    print(i,mv) "
   ]
  },
  {
   "cell_type": "code",
   "execution_count": 26,
   "metadata": {},
   "outputs": [
    {
     "name": "stdout",
     "output_type": "stream",
     "text": [
      "Between-class scatter matrix: 13x13\n"
     ]
    }
   ],
   "source": [
    "mean_overall = np.mean(X_scale, axis=0)\n",
    "d = 13  # number of features\n",
    "S_B = np.zeros((d, d))\n",
    "for i, mv in enumerate(mean_vector,start=1):  ### https://www.geeksforgeeks.org/enumerate-in-python/\n",
    "    n = X_scale[y == i, :].shape[0] ## size of the class-- no of rows(this is count)-- as per dataset size on n is (40X13)\n",
    "    mi = mv.reshape(d, 1)  # make column vector -- sample mean (size is 13X1)\n",
    "    m = mean_overall.reshape(d, 1)  # make column vector --- overall mean ( m size is 13X1)\n",
    "    S_B += n * (mi - m).dot((mi - m).T)\n",
    "\n",
    "print('Between-class scatter matrix: %sx%s' % (S_B.shape[0], S_B.shape[1]))"
   ]
  },
  {
   "cell_type": "code",
   "execution_count": 27,
   "metadata": {},
   "outputs": [],
   "source": [
    "mean_overall = np.mean(X_scale, axis=0)"
   ]
  },
  {
   "cell_type": "code",
   "execution_count": 28,
   "metadata": {},
   "outputs": [
    {
     "data": {
      "text/plain": [
       "array([-0., -0., -0., -0., -0.,  0., -0.,  0., -0.,  0.,  0.,  0., -0.])"
      ]
     },
     "execution_count": 28,
     "metadata": {},
     "output_type": "execute_result"
    }
   ],
   "source": [
    "np.round(mean_overall,4)"
   ]
  },
  {
   "cell_type": "code",
   "execution_count": 29,
   "metadata": {},
   "outputs": [],
   "source": [
    "#S_B"
   ]
  },
  {
   "cell_type": "markdown",
   "metadata": {},
   "source": [
    "**Step-3 Compute the eigenvalues and Eigen Vector**"
   ]
  },
  {
   "cell_type": "markdown",
   "metadata": {},
   "source": [
    "Now we will solve the generalized eigenvalue problem for the below matrix to obtain the linear discriminants."
   ]
  },
  {
   "cell_type": "markdown",
   "metadata": {},
   "source": [
    "<img src=\"https://raw.githubusercontent.com/atulpatelDS/Machine_Learning/master/Images/Gerenalized_matrix.PNG\" width=\"200\" height=\"600\" align=\"left\"/></img>"
   ]
  },
  {
   "cell_type": "code",
   "execution_count": 30,
   "metadata": {},
   "outputs": [
    {
     "data": {
      "text/plain": [
       "((13,), (13, 13))"
      ]
     },
     "execution_count": 30,
     "metadata": {},
     "output_type": "execute_result"
    }
   ],
   "source": [
    "eigen_vals, eigen_vect = np.linalg.eig(np.linalg.inv(S_W).dot(S_B)) ## Compute the eigenvalues and right eigenvectors of a square array\n",
    "eigen_vals.shape, eigen_vect.shape"
   ]
  },
  {
   "cell_type": "code",
   "execution_count": 31,
   "metadata": {},
   "outputs": [
    {
     "data": {
      "text/plain": [
       "array([ 0.0000e+00+0.0000e+00j,  4.1285e+00+0.0000e+00j,\n",
       "        9.0817e+00+0.0000e+00j,  1.8677e-15+0.0000e+00j,\n",
       "        7.5068e-16+0.0000e+00j, -8.4488e-17+6.0276e-16j,\n",
       "       -8.4488e-17-6.0276e-16j, -4.3955e-16+1.2732e-16j,\n",
       "       -4.3955e-16-1.2732e-16j,  1.8102e-17+1.8934e-16j,\n",
       "        1.8102e-17-1.8934e-16j,  3.3061e-17+0.0000e+00j,\n",
       "        1.9438e-16+0.0000e+00j])"
      ]
     },
     "execution_count": 31,
     "metadata": {},
     "output_type": "execute_result"
    }
   ],
   "source": [
    "eigen_vals"
   ]
  },
  {
   "cell_type": "markdown",
   "metadata": {},
   "source": [
    "**Step-4 Sort the eigenvector by using eigen value and select the top k eigen vector and after that form dXk dimentional matrix W**"
   ]
  },
  {
   "cell_type": "markdown",
   "metadata": {},
   "source": [
    "The eigenvectors with the highest eigenvalues carry the most information about the distribution of the data. Thus, we sort the eigenvalues from highest to lowest and select the first k eigenvectors. In order to ensure that the eigenvalue maps to the same eigenvector after sorting, we place them in a temporary array."
   ]
  },
  {
   "cell_type": "code",
   "execution_count": 32,
   "metadata": {},
   "outputs": [
    {
     "name": "stdout",
     "output_type": "stream",
     "text": [
      "Eigenvalues in decreasing order:\n",
      "\n",
      "9.081739435042467\n",
      "4.128469045639483\n",
      "1.867700597670615e-15\n",
      "7.506764658244466e-16\n",
      "6.086573892028544e-16\n",
      "6.086573892028544e-16\n",
      "4.576179372210815e-16\n",
      "4.576179372210815e-16\n",
      "1.9437658613147546e-16\n",
      "1.902058343367409e-16\n",
      "1.902058343367409e-16\n",
      "3.3060698476458215e-17\n",
      "0.0\n"
     ]
    }
   ],
   "source": [
    "eigen_pairs = [(np.abs(eigen_vals[i]), eigen_vect[:,i]) for i in range(len(eigen_vals))]\n",
    "eigen_pairs = sorted(eigen_pairs, key=lambda k: k[0], reverse=True)\n",
    "# That lambda function just grabs the first element from each (eigen_vals, eigen_vect) pair, \n",
    "# meaning that the tuples are sorted by descending order of eigenvalue magnitude.\n",
    "print('Eigenvalues in decreasing order:\\n')\n",
    "for eigen_val in eigen_pairs:\n",
    "    print (eigen_val[0])"
   ]
  },
  {
   "cell_type": "markdown",
   "metadata": {},
   "source": [
    "Just looking at the values, it’s difficult to determine how much of the variance is explained by each component. Thus, we express it as a percentage."
   ]
  },
  {
   "cell_type": "code",
   "execution_count": 33,
   "metadata": {},
   "outputs": [
    {
     "name": "stdout",
     "output_type": "stream",
     "text": [
      "Explained Variance :\n",
      "\n",
      "Eigen Value 1: 68.74788878860782%\n",
      "Eigen Value 2: 31.25211121139217%\n",
      "Eigen Value 3: 1.4138312808627217e-14%\n",
      "Eigen Value 4: 5.6825482120301426e-15%\n",
      "Eigen Value 5: 4.607477543544669e-15%\n",
      "Eigen Value 6: 4.607477543544669e-15%\n",
      "Eigen Value 7: 3.464123506379801e-15%\n",
      "Eigen Value 8: 3.464123506379801e-15%\n",
      "Eigen Value 9: 1.471411949445942e-15%\n",
      "Eigen Value 10: 1.4398397619151119e-15%\n",
      "Eigen Value 11: 1.4398397619151119e-15%\n",
      "Eigen Value 12: 2.502662885661856e-16%\n",
      "Eigen Value 13: 0.0%\n"
     ]
    }
   ],
   "source": [
    "print(\"Explained Variance :\\n\")\n",
    "eigen_val_sum = sum(eigen_vals.real)\n",
    "for i , j in enumerate(eigen_pairs,start=1):\n",
    "    print(\"Eigen Value {}: {}\".format(i,(j[0]/eigen_val_sum)*100)+\"%\")    "
   ]
  },
  {
   "cell_type": "markdown",
   "metadata": {},
   "source": [
    "**Plot the Cumulative Discriminability**\n",
    "\n",
    "It tells us that how best a particular a eigen vector(linear discriminant) is able to discriminate th classes."
   ]
  },
  {
   "cell_type": "code",
   "execution_count": 34,
   "metadata": {},
   "outputs": [
    {
     "data": {
      "image/png": "[encoded data removed]",
      "text/plain": [
       "<Figure size 432x288 with 1 Axes>"
      ]
     },
     "metadata": {
      "needs_background": "light"
     },
     "output_type": "display_data"
    }
   ],
   "source": [
    "tot = sum(eigen_vals.real)\n",
    "discr = [(i / tot) for i in sorted(eigen_vals.real, reverse=True)] ## also tell the explained variance \n",
    "cum_discr = np.cumsum(discr)\n",
    "plt.bar(range(1, 14), discr, alpha=0.5, align='center', label='individual \"discriminability\"',color=\"red\")\n",
    "plt.step(range(1, 14), cum_discr, where='mid', label='cumulative \"discriminability\"')\n",
    "plt.ylabel('\"discriminability\" ratio')\n",
    "plt.xlabel('Linear Discriminants')\n",
    "plt.ylim([-0.1, 1.1])\n",
    "plt.legend(loc='best')\n",
    "plt.show()"
   ]
  },
  {
   "cell_type": "markdown",
   "metadata": {},
   "source": [
    "Discriminative Ratio is the S_B/S_W ,means ratio of \"Distance between classes\"/\"Distnce within Class\".\n",
    "If it is close to 1 than measn there is much separation between the class and very very less variance within the class datasets.If you see the above graph you will observer that 1st Linear discriminant(Eigen Vector) is able to explain close to 70% discriminability and 2nd close to 30%.If we take cumulative means 1st 2 components (Eigen Vectors) cumulatively are able to explain close to 100% discriminability(see the blue line)."
   ]
  },
  {
   "cell_type": "markdown",
   "metadata": {},
   "source": [
    "**Create a matrix W**"
   ]
  },
  {
   "cell_type": "markdown",
   "metadata": {},
   "source": [
    "After sorting the eigenpairs by decreasing eigenvalues, it is now time to construct our d X k dimensional eigenvector\n",
    "matrix W (here 13X2) and thereby reducing the initial 13 dimensional feature space into a 2 dimensional feature\n",
    "subspace."
   ]
  },
  {
   "cell_type": "code",
   "execution_count": 35,
   "metadata": {},
   "outputs": [
    {
     "data": {
      "text/plain": [
       "array([[-0.14  , -0.4187],\n",
       "       [ 0.0789, -0.2018],\n",
       "       [-0.0433, -0.3807],\n",
       "       [ 0.221 ,  0.2892],\n",
       "       [-0.0132,  0.0039],\n",
       "       [ 0.1654,  0.0119],\n",
       "       [-0.7095,  0.2907],\n",
       "       [-0.0796,  0.1201],\n",
       "       [ 0.0328,  0.104 ],\n",
       "       [ 0.352 , -0.3473],\n",
       "       [-0.08  ,  0.2049],\n",
       "       [-0.3514, -0.0215],\n",
       "       [-0.3624, -0.5315]])"
      ]
     },
     "execution_count": 35,
     "metadata": {},
     "output_type": "execute_result"
    }
   ],
   "source": [
    "## Select 1st two eigen vector(Linear Discriminant)\n",
    "EV1 = eigen_pairs[0][1]  ## 1st eigen vector\n",
    "EV2 = eigen_pairs[1][1]  ## 2nd eigen vector\n",
    "W = np.hstack((EV1.reshape(13,1).real,EV2.reshape(13,1).real))\n",
    "W"
   ]
  },
  {
   "cell_type": "code",
   "execution_count": 36,
   "metadata": {},
   "outputs": [],
   "source": [
    "## Other way to do above steps\n",
    "#W = np.hstack((eigen_pairs[0][1][:, np.newaxis].real, \n",
    "#               eigen_pairs[1][1][:, np.newaxis].real))\n",
    "#W"
   ]
  },
  {
   "cell_type": "markdown",
   "metadata": {},
   "source": [
    "**Step-5 Use matrix W to transfor the samples onto a new subspace.**"
   ]
  },
  {
   "cell_type": "markdown",
   "metadata": {},
   "source": [
    "we will save the dot product of X and W into a new matrix Y.\n",
    "where X is a n×d matrix with n samples and d dimensions, and Y is a n×k matrix with n samples and k ( k<n) dimensions. In other words, Y is composed of the LDA components, or said yet another way, the new feature space."
   ]
  },
  {
   "cell_type": "code",
   "execution_count": 37,
   "metadata": {},
   "outputs": [],
   "source": [
    "X_lda = X_scale.dot(W)  ### Y =X.dot(W)  ,, Y is newly created subspace LDA component"
   ]
  },
  {
   "cell_type": "code",
   "execution_count": 38,
   "metadata": {},
   "outputs": [
    {
     "name": "stdout",
     "output_type": "stream",
     "text": [
      "(178, 2)\n",
      "<class 'numpy.ndarray'>\n"
     ]
    }
   ],
   "source": [
    "print(X_lda.shape)\n",
    "print(type(X_lda))"
   ]
  },
  {
   "cell_type": "markdown",
   "metadata": {},
   "source": [
    "Lets plot the data as a function of the two LDA components and use a different color for each class."
   ]
  },
  {
   "cell_type": "code",
   "execution_count": 39,
   "metadata": {},
   "outputs": [
    {
     "data": {
      "text/plain": [
       "<matplotlib.collections.PathCollection at 0x1fa35e52d90>"
      ]
     },
     "execution_count": 39,
     "metadata": {},
     "output_type": "execute_result"
    },
    {
     "data": {
      "image/png": "[encoded data removed]",
      "text/plain": [
       "<Figure size 432x288 with 1 Axes>"
      ]
     },
     "metadata": {
      "needs_background": "light"
     },
     "output_type": "display_data"
    }
   ],
   "source": [
    "plt.xlabel('LD1')\n",
    "plt.ylabel('LD2')\n",
    "plt.scatter(x=X_lda[:,0],\n",
    "            y=X_lda[:,1],\n",
    "    c=y,\n",
    "    cmap='rainbow',\n",
    "    alpha=0.7,\n",
    "    edgecolors='b'\n",
    ")"
   ]
  },
  {
   "cell_type": "markdown",
   "metadata": {},
   "source": [
    "**Rather than implementing the Linear Discriminant Analysis algorithm from scratch every time, we can use the predefined LinearDiscriminantAnalysis class made available to us by the scikit-learn library**"
   ]
  },
  {
   "cell_type": "code",
   "execution_count": 40,
   "metadata": {},
   "outputs": [],
   "source": [
    "from sklearn.discriminant_analysis import LinearDiscriminantAnalysis\n",
    "\n",
    "sklearn_lda = LinearDiscriminantAnalysis(n_components=2)\n",
    "X_lda_sk = sklearn_lda.fit_transform(X_scale, y)"
   ]
  },
  {
   "cell_type": "markdown",
   "metadata": {},
   "source": [
    "We can also obtain the variance explained by each component."
   ]
  },
  {
   "cell_type": "code",
   "execution_count": 41,
   "metadata": {},
   "outputs": [
    {
     "data": {
      "text/plain": [
       "array([0.6875, 0.3125])"
      ]
     },
     "execution_count": 41,
     "metadata": {},
     "output_type": "execute_result"
    }
   ],
   "source": [
    "sklearn_lda.explained_variance_ratio_"
   ]
  },
  {
   "cell_type": "markdown",
   "metadata": {},
   "source": [
    "We can see that both are same as we computed usuing manually"
   ]
  },
  {
   "cell_type": "code",
   "execution_count": 42,
   "metadata": {},
   "outputs": [
    {
     "data": {
      "text/plain": [
       "<matplotlib.collections.PathCollection at 0x1fa36121f40>"
      ]
     },
     "execution_count": 42,
     "metadata": {},
     "output_type": "execute_result"
    },
    {
     "data": {
      "image/png": "[encoded data removed]",
      "text/plain": [
       "<Figure size 432x288 with 1 Axes>"
      ]
     },
     "metadata": {
      "needs_background": "light"
     },
     "output_type": "display_data"
    }
   ],
   "source": [
    "plt.xlabel('LD1')\n",
    "plt.ylabel('LD2')\n",
    "## for grapg\n",
    "plt.scatter(x=X_lda_sk[:,0],\n",
    "            y=X_lda_sk[:,1],\n",
    "    c=y,\n",
    "#    cmap='rainbow',\n",
    "    alpha=0.7,\n",
    "    edgecolors='b'\n",
    ")"
   ]
  },
  {
   "cell_type": "code",
   "execution_count": 43,
   "metadata": {},
   "outputs": [
    {
     "data": {
      "image/png": "[encoded data removed]",
      "text/plain": [
       "<Figure size 432x288 with 1 Axes>"
      ]
     },
     "metadata": {
      "needs_background": "light"
     },
     "output_type": "display_data"
    }
   ],
   "source": [
    "for label,marker,color in zip(range(1,4),('x', 'o', '^'),('red', 'green', 'blue')):\n",
    "    plt.scatter(x=X_lda_sk[:,0][y == label],\n",
    "                y=X_lda_sk[:,1][y == label],\n",
    "                marker=marker, color=color,\n",
    "                alpha=0.7, label='class {}'.format(label))\n",
    "\n",
    "plt.xlabel('vector 1')\n",
    "plt.ylabel('vector 2')\n",
    "\n",
    "plt.legend(loc='lower right')\n",
    "plt.title('Most significant singular vectors after linear transformation via LDA')\n",
    "\n",
    "plt.show()"
   ]
  },
  {
   "cell_type": "code",
   "execution_count": 44,
   "metadata": {},
   "outputs": [
    {
     "data": {
      "text/plain": [
       "PCA()"
      ]
     },
     "execution_count": 44,
     "metadata": {},
     "output_type": "execute_result"
    }
   ],
   "source": [
    "### Lets compare with PCA\n",
    "from sklearn.decomposition import PCA\n",
    "pca = PCA()\n",
    "pca.fit(X_scale, y)"
   ]
  },
  {
   "cell_type": "code",
   "execution_count": 45,
   "metadata": {},
   "outputs": [
    {
     "data": {
      "text/plain": [
       "array([4.7324, 2.5111, 1.4542, 0.9242, 0.858 , 0.6453, 0.5541, 0.3505,\n",
       "       0.2905, 0.2523, 0.2271, 0.1697, 0.104 ])"
      ]
     },
     "execution_count": 45,
     "metadata": {},
     "output_type": "execute_result"
    }
   ],
   "source": [
    "pca.explained_variance_"
   ]
  },
  {
   "cell_type": "code",
   "execution_count": 46,
   "metadata": {},
   "outputs": [
    {
     "data": {
      "image/png": "[encoded data removed]",
      "text/plain": [
       "<Figure size 288x216 with 1 Axes>"
      ]
     },
     "metadata": {
      "needs_background": "light"
     },
     "output_type": "display_data"
    }
   ],
   "source": [
    "plt.figure(figsize= (4,3))\n",
    "plt.plot(range(1,14),np.cumsum(pca.explained_variance_ratio_))\n",
    "plt.ylabel(\"Cumulative Explained Variance\")\n",
    "plt.xlabel(\"No of components\")\n",
    "##plt.annotate(\"point where PCA is able to explain more than 90% of variance\",xy=(2,0.99))\n",
    "plt.show()"
   ]
  },
  {
   "cell_type": "markdown",
   "metadata": {},
   "source": [
    "we can see from the above graph that cumulative Explained Variance ratio helps us to select the principal components. As we can observe that 4 Principal components can explain 80% variance in data"
   ]
  },
  {
   "cell_type": "code",
   "execution_count": 47,
   "metadata": {},
   "outputs": [],
   "source": [
    "PC = PCA(n_components=4)\n",
    "post_pca = PC.fit(X_scale)\n",
    "X_pca_post = PC.transform(X_scale)"
   ]
  },
  {
   "cell_type": "markdown",
   "metadata": {},
   "source": [
    "Lets Plot the graph wuth PCA"
   ]
  },
  {
   "cell_type": "code",
   "execution_count": 48,
   "metadata": {},
   "outputs": [
    {
     "data": {
      "text/plain": [
       "<matplotlib.collections.PathCollection at 0x1fa36296610>"
      ]
     },
     "execution_count": 48,
     "metadata": {},
     "output_type": "execute_result"
    },
    {
     "data": {
      "image/png": "[encoded data removed]",
      "text/plain": [
       "<Figure size 432x288 with 1 Axes>"
      ]
     },
     "metadata": {
      "needs_background": "light"
     },
     "output_type": "display_data"
    }
   ],
   "source": [
    "plt.xlabel('PC1')\n",
    "plt.ylabel('PC2')\n",
    "plt.scatter(\n",
    "    X_pca_post[:,0],\n",
    "    X_pca_post[:,1],\n",
    "    c=y,\n",
    "    cmap='rainbow',\n",
    "    alpha=0.7,\n",
    "    edgecolors='b'\n",
    ")"
   ]
  },
  {
   "cell_type": "markdown",
   "metadata": {},
   "source": [
    "#### We can see that If we use PCA there are still overlap in classes becuase PCA only selected components on the input dataset variance although LDA consider the output classes variaces with input dataset."
   ]
  },
  {
   "cell_type": "markdown",
   "metadata": {},
   "source": [
    "### Lets check the Model Accuracy using LDA"
   ]
  },
  {
   "cell_type": "code",
   "execution_count": 49,
   "metadata": {},
   "outputs": [],
   "source": [
    "## lets split the train and test\n",
    "from sklearn.model_selection import train_test_split\n",
    "X_train_lda, X_test_lda, y_train_lda, y_test_lda = train_test_split(X_lda, y, test_size=0.3, random_state=42)"
   ]
  },
  {
   "cell_type": "code",
   "execution_count": 50,
   "metadata": {},
   "outputs": [
    {
     "name": "stdout",
     "output_type": "stream",
     "text": [
      "(124, 2)\n",
      "(124,)\n",
      "<class 'numpy.ndarray'>\n",
      "<class 'numpy.ndarray'>\n"
     ]
    }
   ],
   "source": [
    "print(X_train_lda.shape)\n",
    "print(y_train_lda.shape)\n",
    "print(type(X_train_lda))\n",
    "print(type(y_train_lda))"
   ]
  },
  {
   "cell_type": "code",
   "execution_count": 51,
   "metadata": {},
   "outputs": [
    {
     "name": "stdout",
     "output_type": "stream",
     "text": [
      "(54, 2)\n",
      "(54,)\n",
      "<class 'numpy.ndarray'>\n",
      "<class 'numpy.ndarray'>\n"
     ]
    }
   ],
   "source": [
    "print(X_test_lda.shape)\n",
    "print(y_test_lda.shape)\n",
    "print(type(X_test_lda))\n",
    "print(type(y_test_lda))"
   ]
  },
  {
   "cell_type": "code",
   "execution_count": 52,
   "metadata": {},
   "outputs": [],
   "source": [
    "from sklearn.neighbors import KNeighborsClassifier\n",
    "from sklearn import metrics"
   ]
  },
  {
   "cell_type": "code",
   "execution_count": 53,
   "metadata": {},
   "outputs": [],
   "source": [
    "knn = KNeighborsClassifier()\n",
    "lda_knn = knn.fit(X_train_lda,y_train_lda)"
   ]
  },
  {
   "cell_type": "code",
   "execution_count": 54,
   "metadata": {},
   "outputs": [],
   "source": [
    "y_pred_lda = lda_knn.predict(X_test_lda)"
   ]
  },
  {
   "cell_type": "code",
   "execution_count": 55,
   "metadata": {},
   "outputs": [
    {
     "name": "stdout",
     "output_type": "stream",
     "text": [
      "Model Accuracy after LDA : 1.0\n"
     ]
    }
   ],
   "source": [
    "print(\"Model Accuracy after LDA :\",metrics.accuracy_score(y_test_lda,y_pred_lda))"
   ]
  },
  {
   "cell_type": "markdown",
   "metadata": {},
   "source": [
    "### Lets check the Model Accuracy using PCA"
   ]
  },
  {
   "cell_type": "code",
   "execution_count": 56,
   "metadata": {},
   "outputs": [],
   "source": [
    "## lets split the train and test\n",
    "from sklearn.model_selection import train_test_split\n",
    "X_train_pca, X_test_pca, y_train_pca, y_test_pca = train_test_split(X_pca_post, y, test_size=0.3, random_state=42)"
   ]
  },
  {
   "cell_type": "code",
   "execution_count": 57,
   "metadata": {},
   "outputs": [],
   "source": [
    "knn_p = KNeighborsClassifier()\n",
    "pca_knn = knn_p.fit(X_train_pca,y_train_pca)"
   ]
  },
  {
   "cell_type": "code",
   "execution_count": 58,
   "metadata": {},
   "outputs": [],
   "source": [
    "y_pred_pca = pca_knn.predict(X_test_pca)"
   ]
  },
  {
   "cell_type": "code",
   "execution_count": 59,
   "metadata": {},
   "outputs": [
    {
     "name": "stdout",
     "output_type": "stream",
     "text": [
      "Model Accuracy after LDA : 0.9444444444444444\n"
     ]
    }
   ],
   "source": [
    "print(\"Model Accuracy after LDA :\",metrics.accuracy_score(y_test_pca,y_pred_pca))"
   ]
  },
  {
   "cell_type": "markdown",
   "metadata": {},
   "source": [
    "We can see that when we checked the model accuracy after LDA it is almost close to 100% but when we checked the accuarcy after PCA that is close to 95%.\n",
    "Now we can say that when we use LDA it consider the classification while doing dimentionality reduction."
   ]
  }
 ],
 "metadata": {
  "kernelspec": {
   "display_name": "Python 3 (ipykernel)",
   "language": "python",
   "name": "python3"
  },
  "language_info": {
   "codemirror_mode": {
    "name": "ipython",
    "version": 3
   },
   "file_extension": ".py",
   "mimetype": "text/x-python",
   "name": "python",
   "nbconvert_exporter": "python",
   "pygments_lexer": "ipython3",
   "version": "3.8.11"
  }
 },
 "nbformat": 4,
 "nbformat_minor": 4
}
