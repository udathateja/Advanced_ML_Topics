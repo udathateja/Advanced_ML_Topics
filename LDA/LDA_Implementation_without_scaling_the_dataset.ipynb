{
 "cells": [
  {
   "cell_type": "markdown",
   "id": "902ec07a",
   "metadata": {},
   "source": [
    "### Linear Discriminant Analysis in Python"
   ]
  },
  {
   "cell_type": "code",
   "execution_count": 1,
   "id": "062a32f3",
   "metadata": {},
   "outputs": [],
   "source": [
    "import numpy as np\n",
    "import pandas as pd\n",
    "import matplotlib.pyplot as plt\n",
    "import seaborn as sns"
   ]
  },
  {
   "cell_type": "code",
   "execution_count": 2,
   "id": "da30fd1a",
   "metadata": {},
   "outputs": [],
   "source": [
    "df_wine = pd.read_csv('https://archive.ics.uci.edu/ml/machine-learning-databases/wine/wine.data',header=None)"
   ]
  },
  {
   "cell_type": "code",
   "execution_count": 3,
   "id": "72135b5c",
   "metadata": {},
   "outputs": [],
   "source": [
    "df_wine.columns = ['Class label', 'Alcohol', 'Malic acid', 'Ash',\n",
    "                   'Alcalinity of ash', 'Magnesium', 'Total phenols',\n",
    "                   'Flavanoids', 'Nonflavanoid phenols', 'Proanthocyanins',\n",
    "                   'Color intensity', 'Hue',\n",
    "                   'OD280/OD315 of diluted wines', 'Proline']"
   ]
  },
  {
   "cell_type": "code",
   "execution_count": 4,
   "id": "1e30da36",
   "metadata": {},
   "outputs": [
    {
     "data": {
      "text/html": [
       "<div>\n",
       "<style scoped>\n",
       "    .dataframe tbody tr th:only-of-type {\n",
       "        vertical-align: middle;\n",
       "    }\n",
       "\n",
       "    .dataframe tbody tr th {\n",
       "        vertical-align: top;\n",
       "    }\n",
       "\n",
       "    .dataframe thead th {\n",
       "        text-align: right;\n",
       "    }\n",
       "</style>\n",
       "<table border=\"1\" class=\"dataframe\">\n",
       "  <thead>\n",
       "    <tr style=\"text-align: right;\">\n",
       "      <th></th>\n",
       "      <th>Class label</th>\n",
       "      <th>Alcohol</th>\n",
       "      <th>Malic acid</th>\n",
       "      <th>Ash</th>\n",
       "      <th>Alcalinity of ash</th>\n",
       "      <th>Magnesium</th>\n",
       "      <th>Total phenols</th>\n",
       "      <th>Flavanoids</th>\n",
       "      <th>Nonflavanoid phenols</th>\n",
       "      <th>Proanthocyanins</th>\n",
       "      <th>Color intensity</th>\n",
       "      <th>Hue</th>\n",
       "      <th>OD280/OD315 of diluted wines</th>\n",
       "      <th>Proline</th>\n",
       "    </tr>\n",
       "  </thead>\n",
       "  <tbody>\n",
       "    <tr>\n",
       "      <th>0</th>\n",
       "      <td>1</td>\n",
       "      <td>14.23</td>\n",
       "      <td>1.71</td>\n",
       "      <td>2.43</td>\n",
       "      <td>15.6</td>\n",
       "      <td>127</td>\n",
       "      <td>2.80</td>\n",
       "      <td>3.06</td>\n",
       "      <td>0.28</td>\n",
       "      <td>2.29</td>\n",
       "      <td>5.64</td>\n",
       "      <td>1.04</td>\n",
       "      <td>3.92</td>\n",
       "      <td>1065</td>\n",
       "    </tr>\n",
       "    <tr>\n",
       "      <th>1</th>\n",
       "      <td>1</td>\n",
       "      <td>13.20</td>\n",
       "      <td>1.78</td>\n",
       "      <td>2.14</td>\n",
       "      <td>11.2</td>\n",
       "      <td>100</td>\n",
       "      <td>2.65</td>\n",
       "      <td>2.76</td>\n",
       "      <td>0.26</td>\n",
       "      <td>1.28</td>\n",
       "      <td>4.38</td>\n",
       "      <td>1.05</td>\n",
       "      <td>3.40</td>\n",
       "      <td>1050</td>\n",
       "    </tr>\n",
       "    <tr>\n",
       "      <th>2</th>\n",
       "      <td>1</td>\n",
       "      <td>13.16</td>\n",
       "      <td>2.36</td>\n",
       "      <td>2.67</td>\n",
       "      <td>18.6</td>\n",
       "      <td>101</td>\n",
       "      <td>2.80</td>\n",
       "      <td>3.24</td>\n",
       "      <td>0.30</td>\n",
       "      <td>2.81</td>\n",
       "      <td>5.68</td>\n",
       "      <td>1.03</td>\n",
       "      <td>3.17</td>\n",
       "      <td>1185</td>\n",
       "    </tr>\n",
       "    <tr>\n",
       "      <th>3</th>\n",
       "      <td>1</td>\n",
       "      <td>14.37</td>\n",
       "      <td>1.95</td>\n",
       "      <td>2.50</td>\n",
       "      <td>16.8</td>\n",
       "      <td>113</td>\n",
       "      <td>3.85</td>\n",
       "      <td>3.49</td>\n",
       "      <td>0.24</td>\n",
       "      <td>2.18</td>\n",
       "      <td>7.80</td>\n",
       "      <td>0.86</td>\n",
       "      <td>3.45</td>\n",
       "      <td>1480</td>\n",
       "    </tr>\n",
       "    <tr>\n",
       "      <th>4</th>\n",
       "      <td>1</td>\n",
       "      <td>13.24</td>\n",
       "      <td>2.59</td>\n",
       "      <td>2.87</td>\n",
       "      <td>21.0</td>\n",
       "      <td>118</td>\n",
       "      <td>2.80</td>\n",
       "      <td>2.69</td>\n",
       "      <td>0.39</td>\n",
       "      <td>1.82</td>\n",
       "      <td>4.32</td>\n",
       "      <td>1.04</td>\n",
       "      <td>2.93</td>\n",
       "      <td>735</td>\n",
       "    </tr>\n",
       "  </tbody>\n",
       "</table>\n",
       "</div>"
      ],
      "text/plain": [
       "   Class label  Alcohol  Malic acid   Ash  Alcalinity of ash  Magnesium  \\\n",
       "0            1    14.23        1.71  2.43               15.6        127   \n",
       "1            1    13.20        1.78  2.14               11.2        100   \n",
       "2            1    13.16        2.36  2.67               18.6        101   \n",
       "3            1    14.37        1.95  2.50               16.8        113   \n",
       "4            1    13.24        2.59  2.87               21.0        118   \n",
       "\n",
       "   Total phenols  Flavanoids  Nonflavanoid phenols  Proanthocyanins  \\\n",
       "0           2.80        3.06                  0.28             2.29   \n",
       "1           2.65        2.76                  0.26             1.28   \n",
       "2           2.80        3.24                  0.30             2.81   \n",
       "3           3.85        3.49                  0.24             2.18   \n",
       "4           2.80        2.69                  0.39             1.82   \n",
       "\n",
       "   Color intensity   Hue  OD280/OD315 of diluted wines  Proline  \n",
       "0             5.64  1.04                          3.92     1065  \n",
       "1             4.38  1.05                          3.40     1050  \n",
       "2             5.68  1.03                          3.17     1185  \n",
       "3             7.80  0.86                          3.45     1480  \n",
       "4             4.32  1.04                          2.93      735  "
      ]
     },
     "execution_count": 4,
     "metadata": {},
     "output_type": "execute_result"
    }
   ],
   "source": [
    "df_wine.head()"
   ]
  },
  {
   "cell_type": "code",
   "execution_count": 5,
   "id": "6962d5e6",
   "metadata": {},
   "outputs": [],
   "source": [
    "# Add The \"_\" in the column Name\n",
    "df_wine.columns = df_wine.columns.str.replace(\" \",\"_\")"
   ]
  },
  {
   "cell_type": "code",
   "execution_count": 6,
   "id": "c56904ba",
   "metadata": {},
   "outputs": [
    {
     "data": {
      "text/plain": [
       "Index(['Class_label', 'Alcohol', 'Malic_acid', 'Ash', 'Alcalinity_of_ash',\n",
       "       'Magnesium', 'Total_phenols', 'Flavanoids', 'Nonflavanoid_phenols',\n",
       "       'Proanthocyanins', 'Color_intensity', 'Hue',\n",
       "       'OD280/OD315_of_diluted_wines', 'Proline'],\n",
       "      dtype='object')"
      ]
     },
     "execution_count": 6,
     "metadata": {},
     "output_type": "execute_result"
    }
   ],
   "source": [
    "df_wine.columns"
   ]
  },
  {
   "cell_type": "code",
   "execution_count": 7,
   "id": "2f53bfe4",
   "metadata": {},
   "outputs": [
    {
     "data": {
      "text/plain": [
       "2    71\n",
       "1    59\n",
       "3    48\n",
       "Name: Class_label, dtype: int64"
      ]
     },
     "execution_count": 7,
     "metadata": {},
     "output_type": "execute_result"
    }
   ],
   "source": [
    "df_wine.Class_label.value_counts()"
   ]
  },
  {
   "cell_type": "code",
   "execution_count": 8,
   "id": "ad786df5",
   "metadata": {},
   "outputs": [
    {
     "data": {
      "text/plain": [
       "[1, 2, 3]"
      ]
     },
     "execution_count": 8,
     "metadata": {},
     "output_type": "execute_result"
    }
   ],
   "source": [
    "class_value = df_wine[\"Class_label\"].explode().unique().tolist()\n",
    "class_value"
   ]
  },
  {
   "cell_type": "code",
   "execution_count": 9,
   "id": "fda1b232",
   "metadata": {},
   "outputs": [
    {
     "data": {
      "text/plain": [
       "3"
      ]
     },
     "execution_count": 9,
     "metadata": {},
     "output_type": "execute_result"
    }
   ],
   "source": [
    "class_count = len(class_value)\n",
    "class_count"
   ]
  },
  {
   "cell_type": "code",
   "execution_count": 10,
   "id": "a3032577",
   "metadata": {},
   "outputs": [],
   "source": [
    "X_ori = df_wine.drop(\"Class_label\",axis=1).values\n",
    "y_ori = df_wine[\"Class_label\"].values"
   ]
  },
  {
   "cell_type": "code",
   "execution_count": 11,
   "id": "9290f177",
   "metadata": {},
   "outputs": [
    {
     "name": "stdout",
     "output_type": "stream",
     "text": [
      "(178, 13)\n",
      "(178,)\n",
      "<class 'numpy.ndarray'>\n",
      "<class 'numpy.ndarray'>\n"
     ]
    }
   ],
   "source": [
    "print(X_ori.shape)\n",
    "print(y_ori.shape)\n",
    "print(type(X_ori))\n",
    "print(type(y_ori))"
   ]
  },
  {
   "cell_type": "code",
   "execution_count": 12,
   "id": "eda1f94b",
   "metadata": {},
   "outputs": [
    {
     "data": {
      "text/plain": [
       "13"
      ]
     },
     "execution_count": 12,
     "metadata": {},
     "output_type": "execute_result"
    }
   ],
   "source": [
    "features = X_ori.shape[1]\n",
    "features"
   ]
  },
  {
   "cell_type": "code",
   "execution_count": 13,
   "id": "388987cf",
   "metadata": {},
   "outputs": [],
   "source": [
    "from sklearn.model_selection import train_test_split"
   ]
  },
  {
   "cell_type": "code",
   "execution_count": 14,
   "id": "b2a21602",
   "metadata": {},
   "outputs": [],
   "source": [
    "X_train,X_test,y_train,y_test = train_test_split(X_ori,y_ori,test_size=0.3,random_state=42)"
   ]
  },
  {
   "cell_type": "code",
   "execution_count": 15,
   "id": "01924265",
   "metadata": {},
   "outputs": [
    {
     "name": "stdout",
     "output_type": "stream",
     "text": [
      "(124, 13)\n",
      "(124,)\n",
      "<class 'numpy.ndarray'>\n",
      "<class 'numpy.ndarray'>\n"
     ]
    }
   ],
   "source": [
    "print(X_train.shape)\n",
    "print(y_train.shape)\n",
    "print(type(X_train))\n",
    "print(type(y_train))"
   ]
  },
  {
   "cell_type": "code",
   "execution_count": 16,
   "id": "67802e7f",
   "metadata": {},
   "outputs": [
    {
     "name": "stdout",
     "output_type": "stream",
     "text": [
      "(54, 13)\n",
      "(54,)\n",
      "<class 'numpy.ndarray'>\n",
      "<class 'numpy.ndarray'>\n"
     ]
    }
   ],
   "source": [
    "print(X_test.shape)\n",
    "print(y_test.shape)\n",
    "print(type(X_test))\n",
    "print(type(y_test))"
   ]
  },
  {
   "cell_type": "code",
   "execution_count": 17,
   "id": "893beb37",
   "metadata": {},
   "outputs": [],
   "source": [
    "X = X_train\n",
    "y = y_train"
   ]
  },
  {
   "cell_type": "code",
   "execution_count": 18,
   "id": "c9eeacda",
   "metadata": {},
   "outputs": [
    {
     "name": "stdout",
     "output_type": "stream",
     "text": [
      "(124, 13)\n",
      "(124,)\n",
      "<class 'numpy.ndarray'>\n",
      "<class 'numpy.ndarray'>\n"
     ]
    }
   ],
   "source": [
    "print(X.shape)\n",
    "print(y.shape)\n",
    "print(type(X))\n",
    "print(type(y))"
   ]
  },
  {
   "cell_type": "code",
   "execution_count": 19,
   "id": "b9dc1a0c",
   "metadata": {},
   "outputs": [
    {
     "data": {
      "text/plain": [
       "68.473"
      ]
     },
     "execution_count": 19,
     "metadata": {},
     "output_type": "execute_result"
    }
   ],
   "source": [
    "np.round(X.mean(),4)"
   ]
  },
  {
   "cell_type": "markdown",
   "id": "32927540",
   "metadata": {},
   "source": [
    "LDA is based upon the concept of searching for a linear combination of variables (predictors) that best separates two classes (targets)\n",
    "Here are the 5 steps that constitute LDA."
   ]
  },
  {
   "cell_type": "markdown",
   "id": "36a68bd0",
   "metadata": {},
   "source": [
    "<img src=\"https://raw.githubusercontent.com/atulpatelDS/Machine_Learning/master/Images/LDA_Steps.png\" width=\"550\" height=\"600\" align=\"left\"/></img>"
   ]
  },
  {
   "cell_type": "markdown",
   "id": "f5d500d3",
   "metadata": {},
   "source": [
    "### 1. Create the mean vector for all 3 classes"
   ]
  },
  {
   "cell_type": "code",
   "execution_count": 20,
   "id": "1284f590",
   "metadata": {},
   "outputs": [],
   "source": [
    "#np.mean(X)"
   ]
  },
  {
   "cell_type": "code",
   "execution_count": 21,
   "id": "522607b2",
   "metadata": {},
   "outputs": [],
   "source": [
    "#c1 = np.mean(X[y==1],axis=0)\n",
    "#c1"
   ]
  },
  {
   "cell_type": "code",
   "execution_count": 22,
   "id": "f8fa2c7b",
   "metadata": {},
   "outputs": [],
   "source": [
    "#c2 = np.mean(X[y==2],axis=0)\n",
    "#c2"
   ]
  },
  {
   "cell_type": "code",
   "execution_count": 23,
   "id": "0f89d0d1",
   "metadata": {},
   "outputs": [],
   "source": [
    "#c3 = np.mean(X[y==3],axis=0)\n",
    "#c3"
   ]
  },
  {
   "cell_type": "code",
   "execution_count": 24,
   "id": "d44ea8b7",
   "metadata": {},
   "outputs": [],
   "source": [
    "#type(c1)"
   ]
  },
  {
   "cell_type": "code",
   "execution_count": 25,
   "id": "69fe2946",
   "metadata": {},
   "outputs": [],
   "source": [
    "#V_mean = []"
   ]
  },
  {
   "cell_type": "code",
   "execution_count": 26,
   "id": "a6de77a1",
   "metadata": {},
   "outputs": [],
   "source": [
    "#type(V_mean)"
   ]
  },
  {
   "cell_type": "code",
   "execution_count": 27,
   "id": "06fa94f5",
   "metadata": {},
   "outputs": [],
   "source": [
    "#for i in [c1,c2,c3]:\n",
    "#    V_mean.append(i)"
   ]
  },
  {
   "cell_type": "code",
   "execution_count": 28,
   "id": "248c2c36",
   "metadata": {},
   "outputs": [],
   "source": [
    "#V_mean"
   ]
  },
  {
   "cell_type": "code",
   "execution_count": 29,
   "id": "db7d57b9",
   "metadata": {},
   "outputs": [
    {
     "name": "stdout",
     "output_type": "stream",
     "text": [
      "mean vector for class 1 : [1.375025e+01 2.000000e+00 2.449000e+00 1.674500e+01 1.077500e+02\n",
      " 2.852250e+00 2.979500e+00 3.022500e-01 1.916250e+00 5.446750e+00\n",
      " 1.064250e+00 3.161750e+00 1.092550e+03]\n",
      "\n",
      "mean vector for class 2 : [1.22428e+01 2.04140e+00 2.25940e+00 2.05340e+01 9.61600e+01 2.24100e+00\n",
      " 2.06920e+00 3.60400e-01 1.68040e+00 3.08480e+00 1.05852e+00 2.80500e+00\n",
      " 5.26380e+02]\n",
      "\n",
      "mean vector for class 3 : [1.30970588e+01 3.40882353e+00 2.42735294e+00 2.12205882e+01\n",
      " 9.97352941e+01 1.63970588e+00 7.72647059e-01 4.42647059e-01\n",
      " 1.08411765e+00 7.19617647e+00 6.90000000e-01 1.63882353e+00\n",
      " 6.29411765e+02]\n",
      "\n"
     ]
    }
   ],
   "source": [
    "#Another way to compute the \"V_mean\" , we can directly use for loop to compute the mean of each class corresponding to each columns\n",
    "V_mean = []\n",
    "for i in class_value: # clsses\n",
    "    V_mean.append(np.mean(X[y==i],axis=0))\n",
    "    print(\"mean vector for class %s : %s\\n\" % (i,V_mean[i-1]))"
   ]
  },
  {
   "cell_type": "code",
   "execution_count": 30,
   "id": "0d84cc56",
   "metadata": {},
   "outputs": [],
   "source": [
    "V_mean  = np.round(V_mean,4)\n",
    "#V_mean"
   ]
  },
  {
   "cell_type": "markdown",
   "id": "9df80955",
   "metadata": {},
   "source": [
    "### 2.1 Create the scatter matrix With-in class (S_w)"
   ]
  },
  {
   "cell_type": "markdown",
   "id": "7f291220",
   "metadata": {},
   "source": [
    "<img src=\"https://raw.githubusercontent.com/atulpatelDS/Machine_Learning/master/Images/WithinClass.png\" width=\"350\" height=\"600\" align=\"left\"/></img>"
   ]
  },
  {
   "cell_type": "markdown",
   "id": "f72e5a1f",
   "metadata": {},
   "source": [
    "where c is the total number of distinct classes\n",
    "\n",
    "where x is a sample (i.e. row) and n is the total number of samples with a given class."
   ]
  },
  {
   "cell_type": "code",
   "execution_count": 31,
   "id": "9319a47b",
   "metadata": {},
   "outputs": [],
   "source": [
    "# total no of features or we can say variables\n",
    "d = features\n",
    "\n",
    "# define Witn-in class scatter matrix \n",
    "S_w = np.zeros((d,d))\n",
    "\n",
    "# lets calculate the scatter matrix of each class and then Witn-in class\n",
    "\n",
    "# For loop for the Witn-in Class Scatter Matrix S_w\n",
    "for c,mv in zip(class_value,V_mean):  # label is the no of the classes\n",
    "    \n",
    "    # define class scatter matrix \n",
    "    S_k = np.zeros((d,d))\n",
    "    \n",
    "    # for loop for the Class Scatter Matrix\n",
    "    for i in X[y==c]:\n",
    "        # Make the column vectors to calculate the scatter matrix of each class\n",
    "        x = i.reshape(d,1)\n",
    "        mi = mv.reshape(d,1)\n",
    "        # make the class scatter matrix using the column vectors\n",
    "        S_k += (x-mi).dot((x-mi).T)\n",
    "    \n",
    "    # Now sum all the Class scatter Matrix\n",
    "    S_w += S_k"
   ]
  },
  {
   "cell_type": "code",
   "execution_count": 32,
   "id": "193abc4e",
   "metadata": {},
   "outputs": [],
   "source": [
    "#x = X[y==1]"
   ]
  },
  {
   "cell_type": "code",
   "execution_count": 33,
   "id": "b94dc660",
   "metadata": {},
   "outputs": [],
   "source": [
    "#x.shape"
   ]
  },
  {
   "cell_type": "code",
   "execution_count": 34,
   "id": "6d23b6e7",
   "metadata": {},
   "outputs": [
    {
     "data": {
      "text/plain": [
       "(13, 13)"
      ]
     },
     "execution_count": 34,
     "metadata": {},
     "output_type": "execute_result"
    }
   ],
   "source": [
    "S_w.shape"
   ]
  },
  {
   "cell_type": "code",
   "execution_count": 35,
   "id": "e53183fd",
   "metadata": {},
   "outputs": [],
   "source": [
    "S_w = np.round(S_w,4)\n",
    "#S_w"
   ]
  },
  {
   "cell_type": "markdown",
   "id": "057abe9c",
   "metadata": {},
   "source": [
    "### 2.2 Create the scatter matrix Between the classes (S_b)"
   ]
  },
  {
   "cell_type": "markdown",
   "id": "ace78f18",
   "metadata": {},
   "source": [
    "<img src=\"https://raw.githubusercontent.com/atulpatelDS/Machine_Learning/master/Images/betweenclass.png\" width=\"400\" height=\"600\" align=\"left\"/></img>"
   ]
  },
  {
   "cell_type": "markdown",
   "id": "9cdb81f7",
   "metadata": {},
   "source": [
    "<img src=\"https://raw.githubusercontent.com/atulpatelDS/Machine_Learning/master/Images/betweenclass1.png\" width=\"300\" height=\"600\" align=\"left\"/></img>"
   ]
  },
  {
   "cell_type": "code",
   "execution_count": 36,
   "id": "34cc6176",
   "metadata": {},
   "outputs": [],
   "source": [
    "# Lets calculate the Between class scatter matrix S_b\n",
    "\n",
    "# total no of variables\n",
    "d = features\n",
    "\n",
    "# Define the Between Scatter Matrix\n",
    "S_b = np.zeros((d,d))\n",
    "\n",
    "# for loop to calculate the Between Scatter Matrix S_b\n",
    "\n",
    "for c,mv in enumerate(V_mean,start=1):\n",
    "    \n",
    "    # calculate the size of the individual classes\n",
    "    n = X[y == c].shape[0]\n",
    "    \n",
    "    # Calculate the column class mean vector\n",
    "    mi = mv.reshape(d,1)\n",
    "    \n",
    "    # Lets calculate the Overall mean and convert into column vector\n",
    "    m = np.mean(X,axis=0).reshape(d,1)\n",
    "    \n",
    "    # Now lets calculate the Between Scatter Matrix using the formula as mention above\n",
    "    \n",
    "    S_b += n*((mi-m).dot((mi-m).T)) "
   ]
  },
  {
   "cell_type": "code",
   "execution_count": 37,
   "id": "1efa0b76",
   "metadata": {},
   "outputs": [],
   "source": [
    "#n = X[y == c].shape[0]"
   ]
  },
  {
   "cell_type": "code",
   "execution_count": 38,
   "id": "b7b29aeb",
   "metadata": {},
   "outputs": [],
   "source": [
    "#n"
   ]
  },
  {
   "cell_type": "code",
   "execution_count": 39,
   "id": "4ff7d1b9",
   "metadata": {},
   "outputs": [
    {
     "data": {
      "text/plain": [
       "(13, 13)"
      ]
     },
     "execution_count": 39,
     "metadata": {},
     "output_type": "execute_result"
    }
   ],
   "source": [
    "S_b.shape"
   ]
  },
  {
   "cell_type": "code",
   "execution_count": 40,
   "id": "16b89107",
   "metadata": {},
   "outputs": [],
   "source": [
    "#S_b"
   ]
  },
  {
   "cell_type": "markdown",
   "id": "b62a00ba",
   "metadata": {},
   "source": [
    "### 3. Calculate the Eigen Value and Eigen Vectors "
   ]
  },
  {
   "cell_type": "markdown",
   "id": "fda37d9c",
   "metadata": {},
   "source": [
    "Now we will solve the generalized eigenvalue problem for the below matrix to obtain the linear discriminants."
   ]
  },
  {
   "cell_type": "markdown",
   "id": "1124998d",
   "metadata": {},
   "source": [
    "<img src=\"https://raw.githubusercontent.com/atulpatelDS/Machine_Learning/master/Images/Gerenalized_matrix.PNG\" width=\"200\" height=\"600\" align=\"left\"/></img>"
   ]
  },
  {
   "cell_type": "code",
   "execution_count": 41,
   "id": "a209ae20",
   "metadata": {},
   "outputs": [],
   "source": [
    "Eigen_values,Eigen_vectors = np.linalg.eig(np.linalg.inv(S_w).dot(S_b))"
   ]
  },
  {
   "cell_type": "code",
   "execution_count": 42,
   "id": "89d50ec6",
   "metadata": {},
   "outputs": [
    {
     "name": "stdout",
     "output_type": "stream",
     "text": [
      "(13,)\n",
      "(13, 13)\n"
     ]
    }
   ],
   "source": [
    "print(Eigen_values.shape)\n",
    "print(Eigen_vectors.shape)"
   ]
  },
  {
   "cell_type": "code",
   "execution_count": 43,
   "id": "dcd3f595",
   "metadata": {},
   "outputs": [
    {
     "data": {
      "text/plain": [
       "array([ 8.93947430e+00+0.00000000e+00j,  3.95282484e+00+0.00000000e+00j,\n",
       "        1.13846253e-07+0.00000000e+00j, -6.27670238e-16+5.30512832e-16j,\n",
       "       -6.27670238e-16-5.30512832e-16j, -8.09603352e-16+0.00000000e+00j,\n",
       "        8.70720545e-16+0.00000000e+00j,  7.98444923e-16+0.00000000e+00j,\n",
       "        3.32199541e-16+3.37828763e-16j,  3.32199541e-16-3.37828763e-16j,\n",
       "       -3.31192199e-16+1.13692822e-16j, -3.31192199e-16-1.13692822e-16j,\n",
       "        4.91777305e-17+0.00000000e+00j])"
      ]
     },
     "execution_count": 43,
     "metadata": {},
     "output_type": "execute_result"
    }
   ],
   "source": [
    "Eigen_values"
   ]
  },
  {
   "cell_type": "markdown",
   "id": "8ed84a96",
   "metadata": {},
   "source": [
    "### 4. Sort the Eigen_vectors by using Eigen_values"
   ]
  },
  {
   "cell_type": "code",
   "execution_count": 44,
   "id": "d6cc29aa",
   "metadata": {},
   "outputs": [],
   "source": [
    "#ids = Eigen_values.argsort()"
   ]
  },
  {
   "cell_type": "code",
   "execution_count": 45,
   "id": "192d50e7",
   "metadata": {},
   "outputs": [],
   "source": [
    "#ids"
   ]
  },
  {
   "cell_type": "code",
   "execution_count": 46,
   "id": "ec29d8ee",
   "metadata": {},
   "outputs": [],
   "source": [
    "#Eigen_vector_sorted = Eigen_vectors[:,ids] "
   ]
  },
  {
   "cell_type": "code",
   "execution_count": 47,
   "id": "82b1a73a",
   "metadata": {},
   "outputs": [],
   "source": [
    "eigen_value_vector_pair = [(np.abs(Eigen_values[i]),Eigen_vectors[:,i]) for i in range(len(Eigen_values))]"
   ]
  },
  {
   "cell_type": "code",
   "execution_count": 48,
   "id": "66e61da8",
   "metadata": {},
   "outputs": [],
   "source": [
    "eigen_value_vector_pair = sorted(eigen_value_vector_pair,key=lambda k:k[0],reverse=True)"
   ]
  },
  {
   "cell_type": "code",
   "execution_count": 49,
   "id": "9a41662b",
   "metadata": {},
   "outputs": [
    {
     "name": "stdout",
     "output_type": "stream",
     "text": [
      "Eigen Value 1 : 8.939474296623448\n",
      "Eigen Value 2 : 3.9528248381581537\n",
      "Eigen Value 3 : 1.1384625325663307e-07\n",
      "Eigen Value 4 : 8.707205450156862e-16\n",
      "Eigen Value 5 : 8.21835623657889e-16\n",
      "Eigen Value 6 : 8.21835623657889e-16\n",
      "Eigen Value 7 : 8.096033515852372e-16\n",
      "Eigen Value 8 : 7.984449230432032e-16\n",
      "Eigen Value 9 : 4.737982778705466e-16\n",
      "Eigen Value 10 : 4.737982778705466e-16\n",
      "Eigen Value 11 : 3.5016329086841186e-16\n",
      "Eigen Value 12 : 3.5016329086841186e-16\n",
      "Eigen Value 13 : 4.917773045149901e-17\n"
     ]
    }
   ],
   "source": [
    "# Display the Eigen_values in decreasing order\n",
    "for i,j in enumerate(eigen_value_vector_pair,start=1):\n",
    "    print(\"Eigen Value {} : {}\".format(i,j[0]))"
   ]
  },
  {
   "cell_type": "code",
   "execution_count": 50,
   "id": "10c4fcf1",
   "metadata": {},
   "outputs": [
    {
     "name": "stdout",
     "output_type": "stream",
     "text": [
      "Explained Varinace :\n",
      "\n",
      "Eigen Value 1 : 69.33964317943433\n",
      "Eigen Value 2 : 30.660355937509426\n",
      "Eigen Value 3 : 8.830562420333973e-07\n",
      "Eigen Value 4 : 6.753803400183703e-15\n",
      "Eigen Value 5 : 6.374624167565441e-15\n",
      "Eigen Value 6 : 6.374624167565441e-15\n",
      "Eigen Value 7 : 6.279743713452853e-15\n",
      "Eigen Value 8 : 6.1931926000568346e-15\n",
      "Eigen Value 9 : 3.675048714999178e-15\n",
      "Eigen Value 10 : 3.675048714999178e-15\n",
      "Eigen Value 11 : 2.716065490844701e-15\n",
      "Eigen Value 12 : 2.716065490844701e-15\n",
      "Eigen Value 13 : 3.814504263600076e-16\n"
     ]
    }
   ],
   "source": [
    "# Calculate the explained Variance\n",
    "print(\"Explained Varinace :\\n\")\n",
    "sum_eigen_values = sum(Eigen_values.real)\n",
    "for i, j in enumerate(eigen_value_vector_pair,start=1):\n",
    "    print(\"Eigen Value {} : {}\".format(i,(j[0]/sum_eigen_values)*100))"
   ]
  },
  {
   "cell_type": "markdown",
   "id": "56b2d124",
   "metadata": {},
   "source": [
    "### 5. Select the top k Eigen_vectors"
   ]
  },
  {
   "cell_type": "code",
   "execution_count": 51,
   "id": "3efbd313",
   "metadata": {},
   "outputs": [],
   "source": [
    "explained_var = np.round(((Eigen_values.real)/sum(Eigen_values.real)),4)"
   ]
  },
  {
   "cell_type": "code",
   "execution_count": 52,
   "id": "7c7e356f",
   "metadata": {},
   "outputs": [
    {
     "data": {
      "text/plain": [
       "array([ 0.6934,  0.3066,  0.    , -0.    , -0.    , -0.    ,  0.    ,\n",
       "        0.    ,  0.    ,  0.    , -0.    , -0.    ,  0.    ])"
      ]
     },
     "execution_count": 52,
     "metadata": {},
     "output_type": "execute_result"
    }
   ],
   "source": [
    "explained_var"
   ]
  },
  {
   "cell_type": "code",
   "execution_count": 53,
   "id": "0f03594a",
   "metadata": {},
   "outputs": [
    {
     "data": {
      "text/plain": [
       "[<matplotlib.lines.Line2D at 0x125b032d6a0>]"
      ]
     },
     "execution_count": 53,
     "metadata": {},
     "output_type": "execute_result"
    },
    {
     "data": {
      "image/png": "[encoded data removed]",
      "text/plain": [
       "<Figure size 432x288 with 1 Axes>"
      ]
     },
     "metadata": {
      "needs_background": "light"
     },
     "output_type": "display_data"
    }
   ],
   "source": [
    "plt.plot(range(1,features+1),np.cumsum(explained_var))"
   ]
  },
  {
   "cell_type": "code",
   "execution_count": 54,
   "id": "3d32704c",
   "metadata": {},
   "outputs": [
    {
     "data": {
      "image/png": "[encoded data removed]",
      "text/plain": [
       "<Figure size 432x288 with 1 Axes>"
      ]
     },
     "metadata": {
      "needs_background": "light"
     },
     "output_type": "display_data"
    }
   ],
   "source": [
    "plt.bar(range(1,features+1),explained_var,alpha = 0.5,align = \"center\",label = 'Individual \"Discriminability\"')\n",
    "plt.step(range(1, features+1),np.cumsum(explained_var), where='mid', label='cumulative \"discriminability\"')\n",
    "plt.ylabel('\"discriminability\" ratio')\n",
    "plt.xlabel('Linear Discriminants')\n",
    "plt.ylim([-0.1, 1.1])\n",
    "plt.legend(loc='best')\n",
    "plt.show()"
   ]
  },
  {
   "cell_type": "markdown",
   "id": "9cb7780c",
   "metadata": {},
   "source": [
    "Discriminative Ratio is the S_b/S_w ,means ratio of \"Distance between classes\"/\"Distance within Class\".\n",
    "If it is close to 1 than measn there is much separation between the class and very very less variance within the class datasets.If we see the above graph we will observe that 1st Linear discriminant(Eigen Vector) is able to explain close to 70% discriminability and 2nd close to 30%.If we take cumulative of 1st and 2nd components (Eigen Vectors) , both components cumulatively are able to explain close to 100% discriminability(see the blue line)."
   ]
  },
  {
   "cell_type": "markdown",
   "id": "abb4bd2f",
   "metadata": {},
   "source": [
    "### 6. Form the 'd x k' dimentional matrix W"
   ]
  },
  {
   "cell_type": "markdown",
   "id": "f3cbc2ad",
   "metadata": {},
   "source": [
    "it is now time to construct our d X k dimensional eigenvector\n",
    "matrix W (here 13X2) and thereby reducing the initial 13 dimensional feature space into a 2 dimensional feature\n",
    "subspace. As we found that 2 eigen vectors are able to explain close to 100% discriminability so we will create a matrix W with the first two eigenvectors."
   ]
  },
  {
   "cell_type": "code",
   "execution_count": 55,
   "id": "c6de999a",
   "metadata": {},
   "outputs": [
    {
     "data": {
      "text/plain": [
       "list"
      ]
     },
     "execution_count": 55,
     "metadata": {},
     "output_type": "execute_result"
    }
   ],
   "source": [
    "type(eigen_value_vector_pair)"
   ]
  },
  {
   "cell_type": "code",
   "execution_count": 56,
   "id": "a9de2b0c",
   "metadata": {},
   "outputs": [],
   "source": [
    "# 1st eigen vector\n",
    "ev1 = eigen_value_vector_pair[0][1].real\n",
    "ev2 = eigen_value_vector_pair[1][1].real"
   ]
  },
  {
   "cell_type": "code",
   "execution_count": 57,
   "id": "4b5e4ebe",
   "metadata": {},
   "outputs": [
    {
     "data": {
      "text/plain": [
       "(13,)"
      ]
     },
     "execution_count": 57,
     "metadata": {},
     "output_type": "execute_result"
    }
   ],
   "source": [
    "ev1.shape"
   ]
  },
  {
   "cell_type": "code",
   "execution_count": 58,
   "id": "7622c889",
   "metadata": {},
   "outputs": [
    {
     "data": {
      "text/plain": [
       "(13,)"
      ]
     },
     "execution_count": 58,
     "metadata": {},
     "output_type": "execute_result"
    }
   ],
   "source": [
    "ev2.shape"
   ]
  },
  {
   "cell_type": "code",
   "execution_count": 59,
   "id": "cccda2eb",
   "metadata": {},
   "outputs": [],
   "source": [
    "W = np.hstack((ev1.reshape(features,1),ev2.reshape(features,1)))"
   ]
  },
  {
   "cell_type": "code",
   "execution_count": 60,
   "id": "d88aecf2",
   "metadata": {},
   "outputs": [
    {
     "data": {
      "text/plain": [
       "(13, 2)"
      ]
     },
     "execution_count": 60,
     "metadata": {},
     "output_type": "execute_result"
    }
   ],
   "source": [
    "W.shape"
   ]
  },
  {
   "cell_type": "code",
   "execution_count": 61,
   "id": "2c648a67",
   "metadata": {},
   "outputs": [
    {
     "data": {
      "text/plain": [
       "array([[-1.22450902e-01, -2.51036156e-01],\n",
       "       [ 6.02193340e-02, -7.04892512e-02],\n",
       "       [-1.45119352e-01, -7.92401288e-01],\n",
       "       [ 6.11604248e-02,  5.61341578e-02],\n",
       "       [ 2.33476504e-04, -4.57776918e-05],\n",
       "       [ 2.48670143e-01, -8.22695028e-02],\n",
       "       [-6.14707443e-01,  1.30866846e-01],\n",
       "       [-4.82793011e-01,  3.40337381e-01],\n",
       "       [ 5.87635418e-02,  1.46019099e-01],\n",
       "       [ 1.40911933e-01, -7.70712100e-02],\n",
       "       [-2.83436082e-01,  3.63436985e-01],\n",
       "       [-4.24430883e-01,  4.34604919e-02],\n",
       "       [-1.02156342e-03, -7.25224606e-04]])"
      ]
     },
     "execution_count": 61,
     "metadata": {},
     "output_type": "execute_result"
    }
   ],
   "source": [
    "W"
   ]
  },
  {
   "cell_type": "markdown",
   "id": "120f7646",
   "metadata": {},
   "source": [
    "### 6. Use matrix W to transform the samples onto a new subspace Y"
   ]
  },
  {
   "cell_type": "markdown",
   "id": "0b789e4a",
   "metadata": {},
   "source": [
    "we will use the dot product of X and W to get the new matrix Y.\n",
    "where X is a n×d matrix with n samples and d dimensions, and Y is a n×k matrix with n samples and k ( k<n) dimensions. In other words, Y is composed of the LDA components, or in another way, the new feature space."
   ]
  },
  {
   "cell_type": "code",
   "execution_count": 62,
   "id": "cc19a3fd",
   "metadata": {},
   "outputs": [],
   "source": [
    "Y = X.dot(W)"
   ]
  },
  {
   "cell_type": "code",
   "execution_count": 63,
   "id": "3f74913a",
   "metadata": {},
   "outputs": [
    {
     "name": "stdout",
     "output_type": "stream",
     "text": [
      "(124, 2)\n",
      "<class 'numpy.ndarray'>\n"
     ]
    }
   ],
   "source": [
    "print(Y.shape)\n",
    "print(type(Y))"
   ]
  },
  {
   "cell_type": "markdown",
   "id": "aa9ea3fd",
   "metadata": {},
   "source": [
    "### Plot the data with 2 LDA components"
   ]
  },
  {
   "cell_type": "code",
   "execution_count": 64,
   "id": "19faf7b8",
   "metadata": {},
   "outputs": [
    {
     "data": {
      "image/png": "[encoded data removed]",
      "text/plain": [
       "<Figure size 432x288 with 1 Axes>"
      ]
     },
     "metadata": {
      "needs_background": "light"
     },
     "output_type": "display_data"
    }
   ],
   "source": [
    "plt.scatter(x= Y[:,0],y = Y[:,1],c = y)\n",
    "plt.xlabel(\"LDA1\")\n",
    "plt.ylabel(\"LDA2\")\n",
    "plt.show()"
   ]
  },
  {
   "cell_type": "markdown",
   "id": "90f0bac6",
   "metadata": {},
   "source": [
    "### Lets compare the result with SKLEARN LDA Class"
   ]
  },
  {
   "cell_type": "code",
   "execution_count": 65,
   "id": "e8d88d78",
   "metadata": {},
   "outputs": [],
   "source": [
    "from sklearn.discriminant_analysis import LinearDiscriminantAnalysis"
   ]
  },
  {
   "cell_type": "code",
   "execution_count": 66,
   "id": "2a73643e",
   "metadata": {},
   "outputs": [
    {
     "data": {
      "text/plain": [
       "LinearDiscriminantAnalysis()"
      ]
     },
     "execution_count": 66,
     "metadata": {},
     "output_type": "execute_result"
    }
   ],
   "source": [
    "lda = LinearDiscriminantAnalysis()\n",
    "lda.fit(X,y)"
   ]
  },
  {
   "cell_type": "code",
   "execution_count": 67,
   "id": "6ee8de23",
   "metadata": {},
   "outputs": [
    {
     "data": {
      "text/plain": [
       "array([0.69340706, 0.30659294])"
      ]
     },
     "execution_count": 67,
     "metadata": {},
     "output_type": "execute_result"
    }
   ],
   "source": [
    "lda.explained_variance_ratio_"
   ]
  },
  {
   "cell_type": "code",
   "execution_count": 68,
   "id": "95da4472",
   "metadata": {},
   "outputs": [],
   "source": [
    "# Lets apply the LDA with 2 LDA components"
   ]
  },
  {
   "cell_type": "code",
   "execution_count": 69,
   "id": "0707ac3f",
   "metadata": {},
   "outputs": [
    {
     "data": {
      "text/plain": [
       "LinearDiscriminantAnalysis(n_components=2)"
      ]
     },
     "execution_count": 69,
     "metadata": {},
     "output_type": "execute_result"
    }
   ],
   "source": [
    "lda_2 = LinearDiscriminantAnalysis(n_components=2)\n",
    "lda_2.fit(X,y)"
   ]
  },
  {
   "cell_type": "code",
   "execution_count": 70,
   "id": "9ae6ac01",
   "metadata": {},
   "outputs": [],
   "source": [
    "# transform the training datatset\n",
    "X_sk_lda = lda_2.transform(X)"
   ]
  },
  {
   "cell_type": "code",
   "execution_count": 71,
   "id": "3c520755",
   "metadata": {},
   "outputs": [],
   "source": [
    "# transform the test datatset\n",
    "X_sk_lda_test = lda_2.transform(X_test)"
   ]
  },
  {
   "cell_type": "code",
   "execution_count": 72,
   "id": "a3538fa7",
   "metadata": {},
   "outputs": [
    {
     "data": {
      "text/plain": [
       "(124, 2)"
      ]
     },
     "execution_count": 72,
     "metadata": {},
     "output_type": "execute_result"
    }
   ],
   "source": [
    "X_sk_lda.shape"
   ]
  },
  {
   "cell_type": "code",
   "execution_count": 73,
   "id": "e0e2a798",
   "metadata": {},
   "outputs": [
    {
     "data": {
      "image/png": "[encoded data removed]",
      "text/plain": [
       "<Figure size 432x288 with 1 Axes>"
      ]
     },
     "metadata": {
      "needs_background": "light"
     },
     "output_type": "display_data"
    }
   ],
   "source": [
    "plt.scatter(x= X_sk_lda[:,0],y = X_sk_lda[:,1],c = y)\n",
    "plt.xlabel(\"LDA1\")\n",
    "plt.ylabel(\"LDA2\")\n",
    "plt.show()"
   ]
  },
  {
   "cell_type": "code",
   "execution_count": 74,
   "id": "f9475dc2",
   "metadata": {},
   "outputs": [
    {
     "data": {
      "image/png": "[encoded data removed]",
      "text/plain": [
       "<Figure size 432x288 with 1 Axes>"
      ]
     },
     "metadata": {
      "needs_background": "light"
     },
     "output_type": "display_data"
    }
   ],
   "source": [
    "# Plot the graph with anotation\n",
    "for label,marker,color in zip(range(1,class_count+1),(\"*\",\"+\",\"o\"),(\"red\",\"blue\",\"green\")):\n",
    "    plt.scatter(x= X_sk_lda[:,0][y==label],y = X_sk_lda[:,1][y==label],color=color,\n",
    "                marker=marker,label=\"class {}\".format(label))\n",
    "plt.xlabel(\"LDA1\")\n",
    "plt.ylabel(\"LDA2\")\n",
    "plt.legend(loc= \"lower left\")\n",
    "plt.show()"
   ]
  },
  {
   "cell_type": "markdown",
   "id": "ce323c4d",
   "metadata": {},
   "source": [
    "#### We can see that results are same with Python and sklearn"
   ]
  },
  {
   "cell_type": "markdown",
   "id": "24c11046",
   "metadata": {},
   "source": [
    "### Lets Compare with PCA"
   ]
  },
  {
   "cell_type": "code",
   "execution_count": 75,
   "id": "0e2e0025",
   "metadata": {},
   "outputs": [],
   "source": [
    "from sklearn.decomposition import PCA"
   ]
  },
  {
   "cell_type": "code",
   "execution_count": 76,
   "id": "0fb811dc",
   "metadata": {},
   "outputs": [],
   "source": [
    "pca = PCA()"
   ]
  },
  {
   "cell_type": "code",
   "execution_count": 77,
   "id": "f5deedb0",
   "metadata": {},
   "outputs": [
    {
     "data": {
      "text/plain": [
       "PCA()"
      ]
     },
     "execution_count": 77,
     "metadata": {},
     "output_type": "execute_result"
    }
   ],
   "source": [
    "pca.fit(X)"
   ]
  },
  {
   "cell_type": "code",
   "execution_count": 78,
   "id": "47598425",
   "metadata": {},
   "outputs": [
    {
     "data": {
      "text/plain": [
       "array([9.28868998e+04, 1.98575707e+02, 9.79082315e+00, 4.85223806e+00,\n",
       "       1.12209009e+00, 8.30427774e-01, 3.14275397e-01, 1.51644700e-01,\n",
       "       1.09840022e-01, 7.80220016e-02, 3.46594294e-02, 2.25428346e-02,\n",
       "       8.97267979e-03])"
      ]
     },
     "execution_count": 78,
     "metadata": {},
     "output_type": "execute_result"
    }
   ],
   "source": [
    "pca.explained_variance_"
   ]
  },
  {
   "cell_type": "code",
   "execution_count": 79,
   "id": "77608bd5",
   "metadata": {},
   "outputs": [
    {
     "data": {
      "text/plain": [
       "array([0.99768115, 0.99981402, 0.99991918, 0.9999713 , 0.99998335,\n",
       "       0.99999227, 0.99999564, 0.99999727, 0.99999845, 0.99999929,\n",
       "       0.99999966, 0.9999999 , 1.        ])"
      ]
     },
     "execution_count": 79,
     "metadata": {},
     "output_type": "execute_result"
    }
   ],
   "source": [
    "np.cumsum(pca.explained_variance_ratio_)"
   ]
  },
  {
   "cell_type": "code",
   "execution_count": 80,
   "id": "62ff1b03",
   "metadata": {},
   "outputs": [
    {
     "data": {
      "text/plain": [
       "[<matplotlib.lines.Line2D at 0x125b0412100>]"
      ]
     },
     "execution_count": 80,
     "metadata": {},
     "output_type": "execute_result"
    },
    {
     "data": {
      "image/png": "[encoded data removed]",
      "text/plain": [
       "<Figure size 432x288 with 1 Axes>"
      ]
     },
     "metadata": {
      "needs_background": "light"
     },
     "output_type": "display_data"
    }
   ],
   "source": [
    "plt.plot(range(1,features+1),np.cumsum(pca.explained_variance_ratio_))"
   ]
  },
  {
   "cell_type": "code",
   "execution_count": 81,
   "id": "f86e8946",
   "metadata": {},
   "outputs": [],
   "source": [
    "# we can see number of Principal components = 2 which are able to explain more that 90% of data"
   ]
  },
  {
   "cell_type": "code",
   "execution_count": 82,
   "id": "99255ad2",
   "metadata": {},
   "outputs": [
    {
     "data": {
      "text/plain": [
       "PCA(n_components=2)"
      ]
     },
     "execution_count": 82,
     "metadata": {},
     "output_type": "execute_result"
    }
   ],
   "source": [
    "pca_2 = PCA(n_components=2)   # with scalling\n",
    "pca_2.fit(X)"
   ]
  },
  {
   "cell_type": "code",
   "execution_count": 83,
   "id": "2dabdb41",
   "metadata": {},
   "outputs": [],
   "source": [
    "# transform the training datatset\n",
    "X_sk_pca = pca_2.transform(X)"
   ]
  },
  {
   "cell_type": "code",
   "execution_count": 84,
   "id": "12e335a1",
   "metadata": {},
   "outputs": [],
   "source": [
    "# transform the test scale datatset\n",
    "X_sk_pca_test = pca_2.transform(X_test)"
   ]
  },
  {
   "cell_type": "code",
   "execution_count": 85,
   "id": "fd040e0c",
   "metadata": {},
   "outputs": [
    {
     "data": {
      "text/plain": [
       "(124, 2)"
      ]
     },
     "execution_count": 85,
     "metadata": {},
     "output_type": "execute_result"
    }
   ],
   "source": [
    "X_sk_pca.shape"
   ]
  },
  {
   "cell_type": "code",
   "execution_count": 86,
   "id": "e7e72675",
   "metadata": {},
   "outputs": [
    {
     "data": {
      "image/png": "[encoded data removed]",
      "text/plain": [
       "<Figure size 432x288 with 1 Axes>"
      ]
     },
     "metadata": {
      "needs_background": "light"
     },
     "output_type": "display_data"
    }
   ],
   "source": [
    "plt.scatter(x= X_sk_pca[:,0],y = X_sk_pca[:,1],c = y)\n",
    "plt.xlabel(\"PCA1\")\n",
    "plt.ylabel(\"PCA2\")\n",
    "plt.show()"
   ]
  },
  {
   "cell_type": "code",
   "execution_count": 87,
   "id": "425eb995",
   "metadata": {},
   "outputs": [
    {
     "data": {
      "image/png": "[encoded data removed]",
      "text/plain": [
       "<Figure size 432x288 with 1 Axes>"
      ]
     },
     "metadata": {
      "needs_background": "light"
     },
     "output_type": "display_data"
    }
   ],
   "source": [
    "# Plot the graph with anotation\n",
    "for label,marker,color in zip(range(1,class_count+1),(\"*\",\"+\",\"o\"),(\"red\",\"blue\",\"green\")):\n",
    "    plt.scatter(x= X_sk_pca[:,0][y==label],y = X_sk_pca[:,1][y==label],color=color,marker=marker,\n",
    "                label=\"class {}\".format(label))\n",
    "plt.xlabel(\"PCA1\")\n",
    "plt.ylabel(\"PCA2\")\n",
    "plt.legend(loc= \"lower left\")\n",
    "plt.show()"
   ]
  },
  {
   "cell_type": "markdown",
   "id": "0b1f97a9",
   "metadata": {},
   "source": [
    "We can see that If we use PCA without scalling there are more overlap in classes becuase PCA only selected components on the input dataset variance although LDA consider the output classes variaces with input dataset."
   ]
  },
  {
   "cell_type": "markdown",
   "id": "008bc677",
   "metadata": {},
   "source": [
    "### Lets compare the Accuracy with PCA and LDA with scalling dataset"
   ]
  },
  {
   "cell_type": "markdown",
   "id": "35cc6415",
   "metadata": {},
   "source": [
    "#### Accuracy with LDA"
   ]
  },
  {
   "cell_type": "code",
   "execution_count": 88,
   "id": "1872f3ef",
   "metadata": {},
   "outputs": [],
   "source": [
    "from sklearn.neighbors import KNeighborsClassifier \n",
    "from sklearn import metrics"
   ]
  },
  {
   "cell_type": "code",
   "execution_count": 89,
   "id": "5477b15f",
   "metadata": {},
   "outputs": [],
   "source": [
    "knn_lda = KNeighborsClassifier()"
   ]
  },
  {
   "cell_type": "code",
   "execution_count": 90,
   "id": "fa557de7",
   "metadata": {},
   "outputs": [
    {
     "data": {
      "text/plain": [
       "KNeighborsClassifier()"
      ]
     },
     "execution_count": 90,
     "metadata": {},
     "output_type": "execute_result"
    }
   ],
   "source": [
    "knn_lda.fit(X_sk_lda,y)"
   ]
  },
  {
   "cell_type": "code",
   "execution_count": 91,
   "id": "9b9dfa58",
   "metadata": {},
   "outputs": [],
   "source": [
    "y_pred_lda = knn_lda.predict(X_sk_lda_test)"
   ]
  },
  {
   "cell_type": "code",
   "execution_count": 92,
   "id": "31908736",
   "metadata": {},
   "outputs": [
    {
     "data": {
      "text/plain": [
       "0.9814814814814815"
      ]
     },
     "execution_count": 92,
     "metadata": {},
     "output_type": "execute_result"
    }
   ],
   "source": [
    "lda_accuracy = metrics.accuracy_score(y_test,y_pred_lda)\n",
    "lda_accuracy"
   ]
  },
  {
   "cell_type": "markdown",
   "id": "290cb69d",
   "metadata": {},
   "source": [
    "#### Accuracy with PCA"
   ]
  },
  {
   "cell_type": "code",
   "execution_count": 93,
   "id": "862450e8",
   "metadata": {},
   "outputs": [],
   "source": [
    "knn_pca = KNeighborsClassifier()"
   ]
  },
  {
   "cell_type": "code",
   "execution_count": 94,
   "id": "3377c4d6",
   "metadata": {},
   "outputs": [
    {
     "data": {
      "text/plain": [
       "KNeighborsClassifier()"
      ]
     },
     "execution_count": 94,
     "metadata": {},
     "output_type": "execute_result"
    }
   ],
   "source": [
    "knn_pca.fit(X_sk_pca,y)"
   ]
  },
  {
   "cell_type": "code",
   "execution_count": 95,
   "id": "25f3843a",
   "metadata": {},
   "outputs": [],
   "source": [
    "y_pred_pca = knn_pca.predict(X_sk_pca_test)"
   ]
  },
  {
   "cell_type": "code",
   "execution_count": 96,
   "id": "482a9623",
   "metadata": {},
   "outputs": [
    {
     "data": {
      "text/plain": [
       "0.7407407407407407"
      ]
     },
     "execution_count": 96,
     "metadata": {},
     "output_type": "execute_result"
    }
   ],
   "source": [
    "pca_accuracy = metrics.accuracy_score(y_test,y_pred_pca)\n",
    "pca_accuracy"
   ]
  },
  {
   "cell_type": "code",
   "execution_count": 97,
   "id": "67624571",
   "metadata": {},
   "outputs": [],
   "source": [
    "# we can see that without scalling if we perform PCA we get very bad accuracy."
   ]
  },
  {
   "cell_type": "code",
   "execution_count": null,
   "id": "40eca64c",
   "metadata": {},
   "outputs": [],
   "source": []
  }
 ],
 "metadata": {
  "kernelspec": {
   "display_name": "Python 3 (ipykernel)",
   "language": "python",
   "name": "python3"
  },
  "language_info": {
   "codemirror_mode": {
    "name": "ipython",
    "version": 3
   },
   "file_extension": ".py",
   "mimetype": "text/x-python",
   "name": "python",
   "nbconvert_exporter": "python",
   "pygments_lexer": "ipython3",
   "version": "3.8.11"
  }
 },
 "nbformat": 4,
 "nbformat_minor": 5
}
